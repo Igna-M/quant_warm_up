{
 "cells": [
  {
   "cell_type": "markdown",
   "id": "547f1f3f-1462-403a-bf21-383ae0ca2919",
   "metadata": {},
   "source": [
    "## Anualizar una tasa\n",
    "##### (1 + Retorno)^12 - 1"
   ]
  },
  {
   "cell_type": "code",
   "execution_count": 1,
   "id": "8a7995f5-58f3-4555-afcf-b918f79a3bd6",
   "metadata": {},
   "outputs": [],
   "source": [
    "def anualizar_tasa(tasa_de_un_periodo, n_periodos=12):\n",
    "    \"\"\"\n",
    "    Anualizo la tasa de ganancia de un período. Ingresar el porcentaje como número entero.\n",
    "    \"\"\"\n",
    "    tasa_anualizada = ((1 + tasa_de_un_periodo / 100) ** n_periodos) - 1\n",
    "    return tasa_anualizada"
   ]
  },
  {
   "cell_type": "code",
   "execution_count": 2,
   "id": "0add88c2-622c-4161-b79b-b1a223b5a642",
   "metadata": {},
   "outputs": [],
   "source": [
    "tasa_de_un_periodo = 5\n",
    "n_periodos = 12"
   ]
  },
  {
   "cell_type": "code",
   "execution_count": 3,
   "id": "7eb87296-2439-42d9-a023-7b554778fc37",
   "metadata": {},
   "outputs": [
    {
     "name": "stdout",
     "output_type": "stream",
     "text": [
      "La tasa anualizada de 5 % es: 79.586 %\n"
     ]
    }
   ],
   "source": [
    "tasa_anualizada = anualizar_tasa(tasa_de_un_periodo, n_periodos)\n",
    "print('La tasa anualizada de', tasa_de_un_periodo, '% es:', round(tasa_anualizada * 100, 3), '%')"
   ]
  },
  {
   "cell_type": "markdown",
   "id": "262e2a7a-a662-404c-883c-8e8c9f3c36c3",
   "metadata": {},
   "source": [
    "---"
   ]
  },
  {
   "cell_type": "markdown",
   "id": "92b333e5-13e2-4718-a90e-53bd84c9a22a",
   "metadata": {},
   "source": [
    "## Anualizar un retorno\n",
    "##### (1 + (capital_final - capital_inicial) / 100)^12 - 1"
   ]
  },
  {
   "cell_type": "code",
   "execution_count": 4,
   "id": "0d809adc-e82a-4d06-b0f8-3d1a4bf09d76",
   "metadata": {},
   "outputs": [],
   "source": [
    "def anualizar_retorno(capital_inicial, capital_final, n_periodos=12):\n",
    "    \"\"\"\n",
    "    Anualizo el retorno a partir de la diferencia entre capital inicial y \n",
    "    capital final de 1 perído, por la cantidad de períodos equivalentes.\n",
    "    \"\"\"\n",
    "    ganancia_nominal = capital_final - capital_inicial\n",
    "    rendimiento = ganancia_nominal / 100\n",
    "    tasa_anualizada = ((1 + rendimiento) ** n_periodos) - 1\n",
    "    return tasa_anualizada"
   ]
  },
  {
   "cell_type": "code",
   "execution_count": 5,
   "id": "897a484f-3d6d-4936-8825-a9ee3a891394",
   "metadata": {},
   "outputs": [],
   "source": [
    "capital_inicial = 100\n",
    "capital_final = 103\n",
    "n_periodos = 12"
   ]
  },
  {
   "cell_type": "code",
   "execution_count": 6,
   "id": "ac5709aa-3cd7-4907-b08f-62b667f1a9ff",
   "metadata": {},
   "outputs": [
    {
     "name": "stdout",
     "output_type": "stream",
     "text": [
      "La tasa anualizada del retorno es del 42.576 %\n"
     ]
    }
   ],
   "source": [
    "tasa_anualizada = anualizar_retorno(capital_inicial, capital_final, n_periodos)\n",
    "print('La tasa anualizada del retorno es del', round(tasa_anualizada * 100, 3), '%')"
   ]
  },
  {
   "cell_type": "markdown",
   "id": "30d7c181-dc2a-4453-89d2-b6e9d1a1a99d",
   "metadata": {},
   "source": [
    "---"
   ]
  },
  {
   "cell_type": "markdown",
   "id": "a8d1ced1-80df-46ef-9c45-6dd0d8c23185",
   "metadata": {},
   "source": [
    "## Tasa Real\n",
    "##### Para saber la tasa real tengo que saber cuál es la tasa nominal y cuál es la tasa del poder adquisitivo (inflación).\n",
    "#### 1 + Tasa Real = (1 + Tasa Nominal) / (1 + Inflación)\n"
   ]
  },
  {
   "cell_type": "code",
   "execution_count": 7,
   "id": "9859082a-1911-4eca-84df-cc7415bce11d",
   "metadata": {},
   "outputs": [],
   "source": [
    "def obtener_tasa_real(tasa_nominal, tasa_inflacion):\n",
    "    \"\"\"\n",
    "    tengo la tasa nominal que modificó el precio de un activo.\n",
    "    tengo la tasa de inflación en el mismo período.\n",
    "    obtengo la diferencia entre ambos. El precio del activo tiene una modificación en relación al poder adquisitivo.\n",
    "    \"\"\"\n",
    "    tasa_real = ((1+tasa_nominal/100) / (1+tasa_inflacion/100))-1\n",
    "    return tasa_real"
   ]
  },
  {
   "cell_type": "code",
   "execution_count": 8,
   "id": "a155b078-c8cb-4d38-8dad-7025fccf7242",
   "metadata": {},
   "outputs": [],
   "source": [
    "tasa_nominal = 6.6\n",
    "tasa_inflacion = 9"
   ]
  },
  {
   "cell_type": "code",
   "execution_count": 9,
   "id": "ce2e7824-10c9-48b5-b3ea-2ad92b7cc0e0",
   "metadata": {},
   "outputs": [
    {
     "name": "stdout",
     "output_type": "stream",
     "text": [
      "La tasa real es de -2.202 %\n"
     ]
    }
   ],
   "source": [
    "tasa_real = obtener_tasa_real(tasa_nominal, tasa_inflacion)\n",
    "print('La tasa real es de', round(tasa_real * 100, 3), '%')"
   ]
  },
  {
   "cell_type": "markdown",
   "id": "f2b0834d-6cd6-4894-80ca-6ad11556195e",
   "metadata": {},
   "source": [
    "---"
   ]
  },
  {
   "cell_type": "markdown",
   "id": "a338fb16-e35f-45a9-9ac4-eb34b04b4c9f",
   "metadata": {},
   "source": [
    "# Tasa Efectiva Anual\n",
    "##### primero obtengo la Tasa Directa y después la Tasa Efectiva Anual\n",
    "###### ([1+(TNA/tiempo)]^ tiempo ) -1"
   ]
  },
  {
   "cell_type": "code",
   "execution_count": 10,
   "id": "693eaf0d-1688-466d-a11d-00badaeed2e3",
   "metadata": {},
   "outputs": [],
   "source": [
    "tasa_nominal_anual = 97\n",
    "tiempo = 30\n",
    "total_tiempo = 365"
   ]
  },
  {
   "cell_type": "code",
   "execution_count": 11,
   "id": "3fdb8a95-84ba-4a98-b557-d3eb7a5190e9",
   "metadata": {},
   "outputs": [],
   "source": [
    "def obtener_tasa_directa(tasa_nominal_anual, tiempo=30, total_tiempo=365):\n",
    "    \"\"\"\n",
    "    Tasa Directa: una tasa de interés o rendimiento que se expresa de manera directa y no está sujeta a ajustes o conversiones.\n",
    "    Obtengo la tasa directa tomando la tasa nominal anual, ponderando el tiempo\n",
    "    \"\"\"\n",
    "    tasa_directa = tasa_nominal_anual/100 * tiempo / total_tiempo\n",
    "    return tasa_directa"
   ]
  },
  {
   "cell_type": "code",
   "execution_count": 12,
   "id": "7c015086-093c-4ca0-9da1-72c19f952c35",
   "metadata": {},
   "outputs": [
    {
     "name": "stdout",
     "output_type": "stream",
     "text": [
      "La tasa directa para una tasa nominal anual de 97 % mensual es de 7.973 %\n"
     ]
    }
   ],
   "source": [
    "tasa_directa = obtener_tasa_directa(tasa_nominal_anual, tiempo, total_tiempo)\n",
    "tasa_directa\n",
    "print('La tasa directa para una tasa nominal anual de',  tasa_nominal_anual, '% mensual es de', round(tasa_directa * 100, 3), '%')"
   ]
  },
  {
   "cell_type": "code",
   "execution_count": 13,
   "id": "af92c652-2934-4e85-bc9d-a9433112ca93",
   "metadata": {},
   "outputs": [],
   "source": [
    "def obtener_tasa_efectiva_anual(tasa_nominal_anual, tiempo=30, total_tiempo=365):\n",
    "    \"\"\"\n",
    "    La tasa efectiva anual (TEA) es una medida que indica la tasa de interés o rendimiento real de una inversión durante un año, \n",
    "    teniendo en cuenta la capitalización compuesta.\n",
    "    es (1 + tasa directa ** tiempo)-1\n",
    "    \"\"\"\n",
    "    tasa_directa = obtener_tasa_directa(tasa_nominal_anual, tiempo, total_tiempo)\n",
    "    tasa_efectiva_anual = ((1 + tasa_directa) ** ((total_tiempo / tiempo)) - 1)\n",
    "    return tasa_efectiva_anual"
   ]
  },
  {
   "cell_type": "code",
   "execution_count": 14,
   "id": "0c2700c5-59e4-4500-94cd-d1b80e274109",
   "metadata": {},
   "outputs": [
    {
     "name": "stdout",
     "output_type": "stream",
     "text": [
      "La tasa efectiva anual para una tasa nominal de 97 % mensual es de 154.282 %\n"
     ]
    }
   ],
   "source": [
    "tasa_efectiva_anual = obtener_tasa_efectiva_anual(tasa_nominal_anual, tiempo, total_tiempo)\n",
    "print('La tasa efectiva anual para una tasa nominal de',  tasa_nominal_anual, '% mensual es de', round(tasa_efectiva_anual * 100, 3), '%')"
   ]
  },
  {
   "cell_type": "markdown",
   "id": "be2a7624-11ed-4c42-b36c-106d8ef0b30b",
   "metadata": {},
   "source": [
    "---"
   ]
  },
  {
   "cell_type": "markdown",
   "id": "8f73f0d9-9b2f-42a7-98d0-0e9aa1fa5be3",
   "metadata": {},
   "source": [
    "## Un ejemplo usando pandas y datos descargados de FVX"
   ]
  },
  {
   "cell_type": "code",
   "execution_count": 15,
   "id": "7e257588-273f-4aa9-9779-76980915628f",
   "metadata": {},
   "outputs": [],
   "source": [
    "import pandas as pd\n",
    "import numpy as np\n",
    "\n",
    "pd.set_option('display.max_columns', None)\n",
    "# pd.options.display.float_format = '{:.6f}'.format\n",
    "\n",
    "path = 'data/'"
   ]
  },
  {
   "cell_type": "code",
   "execution_count": 16,
   "id": "06c2e99b-fbe1-4b9b-86b4-17d88e1f8747",
   "metadata": {},
   "outputs": [
    {
     "data": {
      "text/plain": [
       "(15363, 7)"
      ]
     },
     "execution_count": 16,
     "metadata": {},
     "output_type": "execute_result"
    }
   ],
   "source": [
    "df = pd.read_pickle(path + '20230526_1642_^FVX_227.pkl')\n",
    "df.shape"
   ]
  },
  {
   "cell_type": "code",
   "execution_count": 17,
   "id": "b8b2e4a5-3670-4c2f-b0d0-0287910eb9c3",
   "metadata": {},
   "outputs": [
    {
     "data": {
      "text/html": [
       "<div>\n",
       "<style scoped>\n",
       "    .dataframe tbody tr th:only-of-type {\n",
       "        vertical-align: middle;\n",
       "    }\n",
       "\n",
       "    .dataframe tbody tr th {\n",
       "        vertical-align: top;\n",
       "    }\n",
       "\n",
       "    .dataframe thead th {\n",
       "        text-align: right;\n",
       "    }\n",
       "</style>\n",
       "<table border=\"1\" class=\"dataframe\">\n",
       "  <thead>\n",
       "    <tr style=\"text-align: right;\">\n",
       "      <th></th>\n",
       "      <th>Open</th>\n",
       "      <th>High</th>\n",
       "      <th>Low</th>\n",
       "      <th>Close</th>\n",
       "      <th>Volume</th>\n",
       "      <th>Dividends</th>\n",
       "      <th>Stock Splits</th>\n",
       "    </tr>\n",
       "    <tr>\n",
       "      <th>Date</th>\n",
       "      <th></th>\n",
       "      <th></th>\n",
       "      <th></th>\n",
       "      <th></th>\n",
       "      <th></th>\n",
       "      <th></th>\n",
       "      <th></th>\n",
       "    </tr>\n",
       "  </thead>\n",
       "  <tbody>\n",
       "    <tr>\n",
       "      <th>1962-01-02</th>\n",
       "      <td>3.88</td>\n",
       "      <td>3.88</td>\n",
       "      <td>3.88</td>\n",
       "      <td>3.88</td>\n",
       "      <td>0</td>\n",
       "      <td>0</td>\n",
       "      <td>0</td>\n",
       "    </tr>\n",
       "    <tr>\n",
       "      <th>1962-01-03</th>\n",
       "      <td>3.87</td>\n",
       "      <td>3.87</td>\n",
       "      <td>3.87</td>\n",
       "      <td>3.87</td>\n",
       "      <td>0</td>\n",
       "      <td>0</td>\n",
       "      <td>0</td>\n",
       "    </tr>\n",
       "    <tr>\n",
       "      <th>1962-01-04</th>\n",
       "      <td>3.86</td>\n",
       "      <td>3.86</td>\n",
       "      <td>3.86</td>\n",
       "      <td>3.86</td>\n",
       "      <td>0</td>\n",
       "      <td>0</td>\n",
       "      <td>0</td>\n",
       "    </tr>\n",
       "    <tr>\n",
       "      <th>1962-01-05</th>\n",
       "      <td>3.89</td>\n",
       "      <td>3.89</td>\n",
       "      <td>3.89</td>\n",
       "      <td>3.89</td>\n",
       "      <td>0</td>\n",
       "      <td>0</td>\n",
       "      <td>0</td>\n",
       "    </tr>\n",
       "    <tr>\n",
       "      <th>1962-01-08</th>\n",
       "      <td>3.91</td>\n",
       "      <td>3.91</td>\n",
       "      <td>3.91</td>\n",
       "      <td>3.91</td>\n",
       "      <td>0</td>\n",
       "      <td>0</td>\n",
       "      <td>0</td>\n",
       "    </tr>\n",
       "  </tbody>\n",
       "</table>\n",
       "</div>"
      ],
      "text/plain": [
       "            Open  High   Low  Close  Volume  Dividends  Stock Splits\n",
       "Date                                                                \n",
       "1962-01-02  3.88  3.88  3.88   3.88       0          0             0\n",
       "1962-01-03  3.87  3.87  3.87   3.87       0          0             0\n",
       "1962-01-04  3.86  3.86  3.86   3.86       0          0             0\n",
       "1962-01-05  3.89  3.89  3.89   3.89       0          0             0\n",
       "1962-01-08  3.91  3.91  3.91   3.91       0          0             0"
      ]
     },
     "execution_count": 17,
     "metadata": {},
     "output_type": "execute_result"
    }
   ],
   "source": [
    "df.head()"
   ]
  },
  {
   "cell_type": "code",
   "execution_count": 18,
   "id": "90b466a0-5581-4e5e-a2e9-9816af30f092",
   "metadata": {},
   "outputs": [
    {
     "name": "stdout",
     "output_type": "stream",
     "text": [
      "<class 'pandas.core.frame.DataFrame'>\n",
      "DatetimeIndex: 15363 entries, 1962-01-02 to 2023-05-26\n",
      "Data columns (total 7 columns):\n",
      " #   Column        Non-Null Count  Dtype  \n",
      "---  ------        --------------  -----  \n",
      " 0   Open          15363 non-null  float64\n",
      " 1   High          15363 non-null  float64\n",
      " 2   Low           15363 non-null  float64\n",
      " 3   Close         15363 non-null  float64\n",
      " 4   Volume        15363 non-null  int64  \n",
      " 5   Dividends     15363 non-null  int64  \n",
      " 6   Stock Splits  15363 non-null  int64  \n",
      "dtypes: float64(4), int64(3)\n",
      "memory usage: 960.2 KB\n"
     ]
    }
   ],
   "source": [
    "df.info()"
   ]
  },
  {
   "cell_type": "code",
   "execution_count": 19,
   "id": "b1257ff8-fbde-4811-8f25-fedbb39834ec",
   "metadata": {},
   "outputs": [
    {
     "data": {
      "text/html": [
       "<div>\n",
       "<style scoped>\n",
       "    .dataframe tbody tr th:only-of-type {\n",
       "        vertical-align: middle;\n",
       "    }\n",
       "\n",
       "    .dataframe tbody tr th {\n",
       "        vertical-align: top;\n",
       "    }\n",
       "\n",
       "    .dataframe thead th {\n",
       "        text-align: right;\n",
       "    }\n",
       "</style>\n",
       "<table border=\"1\" class=\"dataframe\">\n",
       "  <thead>\n",
       "    <tr style=\"text-align: right;\">\n",
       "      <th></th>\n",
       "      <th>Open</th>\n",
       "      <th>High</th>\n",
       "      <th>Low</th>\n",
       "      <th>Close</th>\n",
       "      <th>Volume</th>\n",
       "      <th>Dividends</th>\n",
       "      <th>Stock Splits</th>\n",
       "    </tr>\n",
       "    <tr>\n",
       "      <th>Date</th>\n",
       "      <th></th>\n",
       "      <th></th>\n",
       "      <th></th>\n",
       "      <th></th>\n",
       "      <th></th>\n",
       "      <th></th>\n",
       "      <th></th>\n",
       "    </tr>\n",
       "  </thead>\n",
       "  <tbody>\n",
       "    <tr>\n",
       "      <th>2023-05-22</th>\n",
       "      <td>3.739</td>\n",
       "      <td>3.787</td>\n",
       "      <td>3.718</td>\n",
       "      <td>3.767</td>\n",
       "      <td>0</td>\n",
       "      <td>0</td>\n",
       "      <td>0</td>\n",
       "    </tr>\n",
       "    <tr>\n",
       "      <th>2023-05-23</th>\n",
       "      <td>3.808</td>\n",
       "      <td>3.826</td>\n",
       "      <td>3.739</td>\n",
       "      <td>3.748</td>\n",
       "      <td>0</td>\n",
       "      <td>0</td>\n",
       "      <td>0</td>\n",
       "    </tr>\n",
       "    <tr>\n",
       "      <th>2023-05-24</th>\n",
       "      <td>3.734</td>\n",
       "      <td>3.822</td>\n",
       "      <td>3.734</td>\n",
       "      <td>3.782</td>\n",
       "      <td>0</td>\n",
       "      <td>0</td>\n",
       "      <td>0</td>\n",
       "    </tr>\n",
       "    <tr>\n",
       "      <th>2023-05-25</th>\n",
       "      <td>3.812</td>\n",
       "      <td>3.896</td>\n",
       "      <td>3.786</td>\n",
       "      <td>3.896</td>\n",
       "      <td>0</td>\n",
       "      <td>0</td>\n",
       "      <td>0</td>\n",
       "    </tr>\n",
       "    <tr>\n",
       "      <th>2023-05-26</th>\n",
       "      <td>3.887</td>\n",
       "      <td>3.990</td>\n",
       "      <td>3.868</td>\n",
       "      <td>3.938</td>\n",
       "      <td>0</td>\n",
       "      <td>0</td>\n",
       "      <td>0</td>\n",
       "    </tr>\n",
       "  </tbody>\n",
       "</table>\n",
       "</div>"
      ],
      "text/plain": [
       "             Open   High    Low  Close  Volume  Dividends  Stock Splits\n",
       "Date                                                                   \n",
       "2023-05-22  3.739  3.787  3.718  3.767       0          0             0\n",
       "2023-05-23  3.808  3.826  3.739  3.748       0          0             0\n",
       "2023-05-24  3.734  3.822  3.734  3.782       0          0             0\n",
       "2023-05-25  3.812  3.896  3.786  3.896       0          0             0\n",
       "2023-05-26  3.887  3.990  3.868  3.938       0          0             0"
      ]
     },
     "execution_count": 19,
     "metadata": {},
     "output_type": "execute_result"
    }
   ],
   "source": [
    "df.tail()"
   ]
  },
  {
   "cell_type": "code",
   "execution_count": 20,
   "id": "1f43d4ad-0090-476d-bd17-8e076f1c83da",
   "metadata": {},
   "outputs": [
    {
     "data": {
      "text/plain": [
       "Open            3.887\n",
       "High            3.990\n",
       "Low             3.868\n",
       "Close           3.938\n",
       "Volume          0.000\n",
       "Dividends       0.000\n",
       "Stock Splits    0.000\n",
       "Name: 2023-05-26 00:00:00, dtype: float64"
      ]
     },
     "execution_count": 20,
     "metadata": {},
     "output_type": "execute_result"
    }
   ],
   "source": [
    "# Datos Hoy (26/05/2023)\n",
    "df.iloc[-1]"
   ]
  },
  {
   "cell_type": "code",
   "execution_count": 21,
   "id": "e936a8dd-e95d-4659-bf61-93e062f295d6",
   "metadata": {},
   "outputs": [
    {
     "data": {
      "text/plain": [
       "Open            3.466\n",
       "High            3.524\n",
       "Low             3.423\n",
       "Close           3.480\n",
       "Volume          0.000\n",
       "Dividends       0.000\n",
       "Stock Splits    0.000\n",
       "Name: 2023-04-26 00:00:00, dtype: float64"
      ]
     },
     "execution_count": 21,
     "metadata": {},
     "output_type": "execute_result"
    }
   ],
   "source": [
    "# Datos 30 días antes (26/04/2023)\n",
    "df.iloc[-23]"
   ]
  },
  {
   "cell_type": "code",
   "execution_count": 22,
   "id": "42359e1c-f16d-47b1-bc48-d270d2e3e1bf",
   "metadata": {},
   "outputs": [
    {
     "data": {
      "text/plain": [
       "30"
      ]
     },
     "execution_count": 22,
     "metadata": {},
     "output_type": "execute_result"
    }
   ],
   "source": [
    "# Para obtener la cantidad de días de diferencia\n",
    "dias_dif = (df.iloc[-1].name - df.iloc[-23].name).days\n",
    "dias_dif"
   ]
  },
  {
   "cell_type": "code",
   "execution_count": 23,
   "id": "9e677a83-07be-4e00-9a77-fa7d34c75c88",
   "metadata": {},
   "outputs": [
    {
     "data": {
      "text/plain": [
       "0.45800018310546875"
      ]
     },
     "execution_count": 23,
     "metadata": {},
     "output_type": "execute_result"
    }
   ],
   "source": [
    "cierre_hoy = df.iloc[-1]['Close']\n",
    "cierre_30_dias = df.iloc[-23]['Close']\n",
    "diferencia_nominal = cierre_hoy - cierre_30_dias\n",
    "diferencia_nominal"
   ]
  },
  {
   "cell_type": "code",
   "execution_count": 24,
   "id": "d1ac17ea-7b31-40de-af59-67830c4ed827",
   "metadata": {},
   "outputs": [
    {
     "name": "stdout",
     "output_type": "stream",
     "text": [
      "La tasa anualizada del retorno es del 5.717 %\n"
     ]
    }
   ],
   "source": [
    "tasa_anualizada = anualizar_retorno(capital_inicial=cierre_30_dias, capital_final=cierre_hoy, n_periodos=365/dias_dif)\n",
    "print('La tasa anualizada del retorno es del', round(tasa_anualizada * 100, 3), '%')"
   ]
  },
  {
   "cell_type": "code",
   "execution_count": null,
   "id": "2babd68a-7847-4972-96be-4470b8a93636",
   "metadata": {},
   "outputs": [],
   "source": []
  }
 ],
 "metadata": {
  "kernelspec": {
   "display_name": "Python 3 (ipykernel)",
   "language": "python",
   "name": "python3"
  },
  "language_info": {
   "codemirror_mode": {
    "name": "ipython",
    "version": 3
   },
   "file_extension": ".py",
   "mimetype": "text/x-python",
   "name": "python",
   "nbconvert_exporter": "python",
   "pygments_lexer": "ipython3",
   "version": "3.9.7"
  }
 },
 "nbformat": 4,
 "nbformat_minor": 5
}
