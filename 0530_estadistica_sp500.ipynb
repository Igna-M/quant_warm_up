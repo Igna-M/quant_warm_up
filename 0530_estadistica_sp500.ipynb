{
 "cells": [
  {
   "cell_type": "code",
   "execution_count": 1,
   "id": "4558f0c6-fa07-489f-b3fe-e582671e8487",
   "metadata": {},
   "outputs": [],
   "source": [
    "import pandas as pd\n",
    "import numpy as np \n",
    "import seaborn as sns\n",
    "import matplotlib.pyplot as plt\n",
    "\n",
    "import yfinance as yf\n",
    "import scipy.stats as stats\n",
    "from datetime import datetime\n",
    "import random\n",
    "\n",
    "pd.set_option('display.max_columns', None)\n",
    "# pd.options.display.float_format = '{:.6f}'.format\n",
    "\n",
    "path = 'data/'"
   ]
  },
  {
   "cell_type": "code",
   "execution_count": 2,
   "id": "ebffc16f-b26b-43fe-b58c-da0fca295c60",
   "metadata": {},
   "outputs": [],
   "source": [
    "file_name = 'GSPC_sp500_edit.csv'"
   ]
  },
  {
   "cell_type": "code",
   "execution_count": 3,
   "id": "e4a26f49-13e9-47db-83de-f36074590267",
   "metadata": {},
   "outputs": [
    {
     "data": {
      "text/plain": [
       "(193, 2)"
      ]
     },
     "execution_count": 3,
     "metadata": {},
     "output_type": "execute_result"
    }
   ],
   "source": [
    "df = pd.read_csv(path + file_name, sep='|')\n",
    "df.shape"
   ]
  },
  {
   "cell_type": "code",
   "execution_count": 4,
   "id": "5c863cbc-fb24-4470-bf57-a4c98d53b254",
   "metadata": {},
   "outputs": [
    {
     "name": "stdout",
     "output_type": "stream",
     "text": [
      "<class 'pandas.core.frame.DataFrame'>\n",
      "RangeIndex: 193 entries, 0 to 192\n",
      "Data columns (total 2 columns):\n",
      " #   Column  Non-Null Count  Dtype \n",
      "---  ------  --------------  ----- \n",
      " 0   Date    193 non-null    object\n",
      " 1   Close   193 non-null    object\n",
      "dtypes: object(2)\n",
      "memory usage: 3.1+ KB\n"
     ]
    }
   ],
   "source": [
    "df.info()"
   ]
  },
  {
   "cell_type": "code",
   "execution_count": 5,
   "id": "19ead40c-a953-4ace-86c7-17f0220d385a",
   "metadata": {},
   "outputs": [
    {
     "data": {
      "text/html": [
       "<div>\n",
       "<style scoped>\n",
       "    .dataframe tbody tr th:only-of-type {\n",
       "        vertical-align: middle;\n",
       "    }\n",
       "\n",
       "    .dataframe tbody tr th {\n",
       "        vertical-align: top;\n",
       "    }\n",
       "\n",
       "    .dataframe thead th {\n",
       "        text-align: right;\n",
       "    }\n",
       "</style>\n",
       "<table border=\"1\" class=\"dataframe\">\n",
       "  <thead>\n",
       "    <tr style=\"text-align: right;\">\n",
       "      <th></th>\n",
       "      <th>Date</th>\n",
       "      <th>Close</th>\n",
       "    </tr>\n",
       "  </thead>\n",
       "  <tbody>\n",
       "    <tr>\n",
       "      <th>103</th>\n",
       "      <td>01/11/2013</td>\n",
       "      <td>1805,81</td>\n",
       "    </tr>\n",
       "    <tr>\n",
       "      <th>180</th>\n",
       "      <td>01/04/2020</td>\n",
       "      <td>2912,43</td>\n",
       "    </tr>\n",
       "    <tr>\n",
       "      <th>59</th>\n",
       "      <td>01/03/2010</td>\n",
       "      <td>1169,43</td>\n",
       "    </tr>\n",
       "    <tr>\n",
       "      <th>173</th>\n",
       "      <td>01/09/2019</td>\n",
       "      <td>2976,74</td>\n",
       "    </tr>\n",
       "    <tr>\n",
       "      <th>147</th>\n",
       "      <td>01/07/2017</td>\n",
       "      <td>2470,30</td>\n",
       "    </tr>\n",
       "  </tbody>\n",
       "</table>\n",
       "</div>"
      ],
      "text/plain": [
       "           Date    Close\n",
       "103  01/11/2013  1805,81\n",
       "180  01/04/2020  2912,43\n",
       "59   01/03/2010  1169,43\n",
       "173  01/09/2019  2976,74\n",
       "147  01/07/2017  2470,30"
      ]
     },
     "execution_count": 5,
     "metadata": {},
     "output_type": "execute_result"
    }
   ],
   "source": [
    "df.sample(5)"
   ]
  },
  {
   "cell_type": "code",
   "execution_count": 6,
   "id": "241c7150-b7d8-48c7-bdd2-d0d4d7200a68",
   "metadata": {},
   "outputs": [
    {
     "name": "stdout",
     "output_type": "stream",
     "text": [
      "<class 'pandas.core.frame.DataFrame'>\n",
      "RangeIndex: 193 entries, 0 to 192\n",
      "Data columns (total 2 columns):\n",
      " #   Column  Non-Null Count  Dtype         \n",
      "---  ------  --------------  -----         \n",
      " 0   Date    193 non-null    datetime64[ns]\n",
      " 1   Close   193 non-null    float64       \n",
      "dtypes: datetime64[ns](1), float64(1)\n",
      "memory usage: 3.1 KB\n"
     ]
    }
   ],
   "source": [
    "df['Date'] = pd.to_datetime(df['Date'], format='%d/%m/%Y').dt.strftime('%Y-%m-%d')\n",
    "df['Date'] = pd.to_datetime(df['Date'], format='%Y-%m-%d')\n",
    "df['Close'] = df['Close'].str.replace(',', '.').astype(float)\n",
    "\n",
    "df.info()"
   ]
  },
  {
   "cell_type": "code",
   "execution_count": 7,
   "id": "4fe80682-c029-4ab3-80d4-e35a5c10473e",
   "metadata": {},
   "outputs": [
    {
     "data": {
      "text/html": [
       "<div>\n",
       "<style scoped>\n",
       "    .dataframe tbody tr th:only-of-type {\n",
       "        vertical-align: middle;\n",
       "    }\n",
       "\n",
       "    .dataframe tbody tr th {\n",
       "        vertical-align: top;\n",
       "    }\n",
       "\n",
       "    .dataframe thead th {\n",
       "        text-align: right;\n",
       "    }\n",
       "</style>\n",
       "<table border=\"1\" class=\"dataframe\">\n",
       "  <thead>\n",
       "    <tr style=\"text-align: right;\">\n",
       "      <th></th>\n",
       "      <th>Date</th>\n",
       "      <th>Close</th>\n",
       "    </tr>\n",
       "  </thead>\n",
       "  <tbody>\n",
       "    <tr>\n",
       "      <th>0</th>\n",
       "      <td>2005-04-01</td>\n",
       "      <td>1156.85</td>\n",
       "    </tr>\n",
       "    <tr>\n",
       "      <th>1</th>\n",
       "      <td>2005-05-01</td>\n",
       "      <td>1191.50</td>\n",
       "    </tr>\n",
       "    <tr>\n",
       "      <th>2</th>\n",
       "      <td>2005-06-01</td>\n",
       "      <td>1191.33</td>\n",
       "    </tr>\n",
       "    <tr>\n",
       "      <th>3</th>\n",
       "      <td>2005-07-01</td>\n",
       "      <td>1234.18</td>\n",
       "    </tr>\n",
       "    <tr>\n",
       "      <th>4</th>\n",
       "      <td>2005-08-01</td>\n",
       "      <td>1220.33</td>\n",
       "    </tr>\n",
       "  </tbody>\n",
       "</table>\n",
       "</div>"
      ],
      "text/plain": [
       "        Date    Close\n",
       "0 2005-04-01  1156.85\n",
       "1 2005-05-01  1191.50\n",
       "2 2005-06-01  1191.33\n",
       "3 2005-07-01  1234.18\n",
       "4 2005-08-01  1220.33"
      ]
     },
     "execution_count": 7,
     "metadata": {},
     "output_type": "execute_result"
    }
   ],
   "source": [
    "df.head()"
   ]
  },
  {
   "cell_type": "code",
   "execution_count": 8,
   "id": "0e20651f-7a00-4e5a-9c52-54212664f521",
   "metadata": {},
   "outputs": [
    {
     "data": {
      "text/plain": [
       "(Timestamp('2005-04-01 00:00:00'), Timestamp('2021-04-01 00:00:00'))"
      ]
     },
     "execution_count": 8,
     "metadata": {},
     "output_type": "execute_result"
    }
   ],
   "source": [
    "df['Date'].min(), df['Date'].max()"
   ]
  },
  {
   "cell_type": "code",
   "execution_count": 9,
   "id": "1030e490-069c-4542-ba9b-8b097b22e702",
   "metadata": {},
   "outputs": [
    {
     "data": {
      "image/png": "[encoded data removed]",
      "text/plain": [
       "<Figure size 1368x504 with 1 Axes>"
      ]
     },
     "metadata": {
      "needs_background": "light"
     },
     "output_type": "display_data"
    }
   ],
   "source": [
    "plt.figure(figsize=(19,7))\n",
    "sns.lineplot(data=df, x='Date', y='Close')\n",
    "plt.ylabel('Cotización')\n",
    "plt.xlabel('Fecha')\n",
    "plt.xticks(rotation=45)\n",
    "plt.title('SP 500 mensual')\n",
    "plt.show();"
   ]
  },
  {
   "cell_type": "code",
   "execution_count": 10,
   "id": "53dd0169-6da6-41d3-8770-0276bd67a0d8",
   "metadata": {},
   "outputs": [
    {
     "data": {
      "text/html": [
       "<div>\n",
       "<style scoped>\n",
       "    .dataframe tbody tr th:only-of-type {\n",
       "        vertical-align: middle;\n",
       "    }\n",
       "\n",
       "    .dataframe tbody tr th {\n",
       "        vertical-align: top;\n",
       "    }\n",
       "\n",
       "    .dataframe thead th {\n",
       "        text-align: right;\n",
       "    }\n",
       "</style>\n",
       "<table border=\"1\" class=\"dataframe\">\n",
       "  <thead>\n",
       "    <tr style=\"text-align: right;\">\n",
       "      <th></th>\n",
       "      <th>Date</th>\n",
       "      <th>Close</th>\n",
       "    </tr>\n",
       "  </thead>\n",
       "  <tbody>\n",
       "    <tr>\n",
       "      <th>178</th>\n",
       "      <td>2020-02-01</td>\n",
       "      <td>2954.22</td>\n",
       "    </tr>\n",
       "    <tr>\n",
       "      <th>179</th>\n",
       "      <td>2020-03-01</td>\n",
       "      <td>2584.59</td>\n",
       "    </tr>\n",
       "    <tr>\n",
       "      <th>180</th>\n",
       "      <td>2020-04-01</td>\n",
       "      <td>2912.43</td>\n",
       "    </tr>\n",
       "    <tr>\n",
       "      <th>181</th>\n",
       "      <td>2020-05-01</td>\n",
       "      <td>3044.31</td>\n",
       "    </tr>\n",
       "    <tr>\n",
       "      <th>182</th>\n",
       "      <td>2020-06-01</td>\n",
       "      <td>3100.29</td>\n",
       "    </tr>\n",
       "    <tr>\n",
       "      <th>183</th>\n",
       "      <td>2020-07-01</td>\n",
       "      <td>3271.12</td>\n",
       "    </tr>\n",
       "    <tr>\n",
       "      <th>184</th>\n",
       "      <td>2020-08-01</td>\n",
       "      <td>3500.31</td>\n",
       "    </tr>\n",
       "    <tr>\n",
       "      <th>185</th>\n",
       "      <td>2020-09-01</td>\n",
       "      <td>3363.00</td>\n",
       "    </tr>\n",
       "    <tr>\n",
       "      <th>186</th>\n",
       "      <td>2020-10-01</td>\n",
       "      <td>3269.96</td>\n",
       "    </tr>\n",
       "    <tr>\n",
       "      <th>187</th>\n",
       "      <td>2020-11-01</td>\n",
       "      <td>3621.63</td>\n",
       "    </tr>\n",
       "    <tr>\n",
       "      <th>188</th>\n",
       "      <td>2020-12-01</td>\n",
       "      <td>3756.07</td>\n",
       "    </tr>\n",
       "    <tr>\n",
       "      <th>189</th>\n",
       "      <td>2021-01-01</td>\n",
       "      <td>3714.24</td>\n",
       "    </tr>\n",
       "    <tr>\n",
       "      <th>190</th>\n",
       "      <td>2021-02-01</td>\n",
       "      <td>3811.15</td>\n",
       "    </tr>\n",
       "    <tr>\n",
       "      <th>191</th>\n",
       "      <td>2021-03-01</td>\n",
       "      <td>3972.89</td>\n",
       "    </tr>\n",
       "    <tr>\n",
       "      <th>192</th>\n",
       "      <td>2021-04-01</td>\n",
       "      <td>4019.87</td>\n",
       "    </tr>\n",
       "  </tbody>\n",
       "</table>\n",
       "</div>"
      ],
      "text/plain": [
       "          Date    Close\n",
       "178 2020-02-01  2954.22\n",
       "179 2020-03-01  2584.59\n",
       "180 2020-04-01  2912.43\n",
       "181 2020-05-01  3044.31\n",
       "182 2020-06-01  3100.29\n",
       "183 2020-07-01  3271.12\n",
       "184 2020-08-01  3500.31\n",
       "185 2020-09-01  3363.00\n",
       "186 2020-10-01  3269.96\n",
       "187 2020-11-01  3621.63\n",
       "188 2020-12-01  3756.07\n",
       "189 2021-01-01  3714.24\n",
       "190 2021-02-01  3811.15\n",
       "191 2021-03-01  3972.89\n",
       "192 2021-04-01  4019.87"
      ]
     },
     "execution_count": 10,
     "metadata": {},
     "output_type": "execute_result"
    }
   ],
   "source": [
    "df[df['Date']>'2020']"
   ]
  },
  {
   "cell_type": "markdown",
   "id": "62298cea-678c-43bb-b7d6-19fa41a2410e",
   "metadata": {},
   "source": [
    "---"
   ]
  },
  {
   "cell_type": "code",
   "execution_count": 14,
   "id": "6377c99f-9fd3-450f-98a5-5277f7cd0fb0",
   "metadata": {},
   "outputs": [
    {
     "data": {
      "text/plain": [
       "(18474, 7)"
      ]
     },
     "execution_count": 14,
     "metadata": {},
     "output_type": "execute_result"
    }
   ],
   "source": [
    "# ticker = '^GSPC'\n",
    "# t = yf.Ticker(ticker)\n",
    "# temp_df = t.history(period='max')\n",
    "# temp_df.shape"
   ]
  },
  {
   "cell_type": "code",
   "execution_count": 15,
   "id": "e2f1fe96-00fd-47b0-abf6-5ee706e4823f",
   "metadata": {},
   "outputs": [
    {
     "data": {
      "text/plain": [
       "'20230604_1928_^GSPC_406.pkl'"
      ]
     },
     "execution_count": 15,
     "metadata": {},
     "output_type": "execute_result"
    }
   ],
   "source": [
    "# rnd_nro = str(random.randint(100,999))\n",
    "# time_code = datetime.today().strftime('%Y%m%d_%H%M')\n",
    "# file_name = time_code + '_' + ticker + '_' + rnd_nro + '.pkl'\n",
    "# temp_df.to_pickle(path + file_name)\n",
    "# file_name"
   ]
  },
  {
   "cell_type": "code",
   "execution_count": 11,
   "id": "70d880dc-bcfe-4382-94d1-b4a2b6a6e71a",
   "metadata": {},
   "outputs": [],
   "source": [
    "file_name = '20230604_1928_^GSPC_406.pkl'"
   ]
  },
  {
   "cell_type": "code",
   "execution_count": 12,
   "id": "b612027c-f89f-4a73-8163-72fc70d420a6",
   "metadata": {},
   "outputs": [
    {
     "data": {
      "text/plain": [
       "(18474, 7)"
      ]
     },
     "execution_count": 12,
     "metadata": {},
     "output_type": "execute_result"
    }
   ],
   "source": [
    "df = pd.read_pickle(path + file_name)\n",
    "df.shape"
   ]
  },
  {
   "cell_type": "code",
   "execution_count": 13,
   "id": "a219446a-c96f-415e-8bad-123dce9ee236",
   "metadata": {},
   "outputs": [
    {
     "data": {
      "text/html": [
       "<div>\n",
       "<style scoped>\n",
       "    .dataframe tbody tr th:only-of-type {\n",
       "        vertical-align: middle;\n",
       "    }\n",
       "\n",
       "    .dataframe tbody tr th {\n",
       "        vertical-align: top;\n",
       "    }\n",
       "\n",
       "    .dataframe thead th {\n",
       "        text-align: right;\n",
       "    }\n",
       "</style>\n",
       "<table border=\"1\" class=\"dataframe\">\n",
       "  <thead>\n",
       "    <tr style=\"text-align: right;\">\n",
       "      <th></th>\n",
       "      <th>Open</th>\n",
       "      <th>High</th>\n",
       "      <th>Low</th>\n",
       "      <th>Close</th>\n",
       "      <th>Volume</th>\n",
       "      <th>Dividends</th>\n",
       "      <th>Stock Splits</th>\n",
       "    </tr>\n",
       "    <tr>\n",
       "      <th>Date</th>\n",
       "      <th></th>\n",
       "      <th></th>\n",
       "      <th></th>\n",
       "      <th></th>\n",
       "      <th></th>\n",
       "      <th></th>\n",
       "      <th></th>\n",
       "    </tr>\n",
       "  </thead>\n",
       "  <tbody>\n",
       "    <tr>\n",
       "      <th>2013-08-27</th>\n",
       "      <td>1652.540039</td>\n",
       "      <td>1652.540039</td>\n",
       "      <td>1629.050049</td>\n",
       "      <td>1630.479980</td>\n",
       "      <td>3219190000</td>\n",
       "      <td>0</td>\n",
       "      <td>0</td>\n",
       "    </tr>\n",
       "    <tr>\n",
       "      <th>1966-08-22</th>\n",
       "      <td>0.000000</td>\n",
       "      <td>79.879997</td>\n",
       "      <td>77.580002</td>\n",
       "      <td>78.239998</td>\n",
       "      <td>8690000</td>\n",
       "      <td>0</td>\n",
       "      <td>0</td>\n",
       "    </tr>\n",
       "    <tr>\n",
       "      <th>1979-06-20</th>\n",
       "      <td>0.000000</td>\n",
       "      <td>102.190002</td>\n",
       "      <td>100.930000</td>\n",
       "      <td>101.629997</td>\n",
       "      <td>33790000</td>\n",
       "      <td>0</td>\n",
       "      <td>0</td>\n",
       "    </tr>\n",
       "    <tr>\n",
       "      <th>2011-10-12</th>\n",
       "      <td>1196.189941</td>\n",
       "      <td>1220.250000</td>\n",
       "      <td>1196.189941</td>\n",
       "      <td>1207.250000</td>\n",
       "      <td>5355360000</td>\n",
       "      <td>0</td>\n",
       "      <td>0</td>\n",
       "    </tr>\n",
       "    <tr>\n",
       "      <th>1957-03-08</th>\n",
       "      <td>44.070000</td>\n",
       "      <td>44.070000</td>\n",
       "      <td>44.070000</td>\n",
       "      <td>44.070000</td>\n",
       "      <td>1630000</td>\n",
       "      <td>0</td>\n",
       "      <td>0</td>\n",
       "    </tr>\n",
       "  </tbody>\n",
       "</table>\n",
       "</div>"
      ],
      "text/plain": [
       "                   Open         High          Low        Close      Volume  \\\n",
       "Date                                                                         \n",
       "2013-08-27  1652.540039  1652.540039  1629.050049  1630.479980  3219190000   \n",
       "1966-08-22     0.000000    79.879997    77.580002    78.239998     8690000   \n",
       "1979-06-20     0.000000   102.190002   100.930000   101.629997    33790000   \n",
       "2011-10-12  1196.189941  1220.250000  1196.189941  1207.250000  5355360000   \n",
       "1957-03-08    44.070000    44.070000    44.070000    44.070000     1630000   \n",
       "\n",
       "            Dividends  Stock Splits  \n",
       "Date                                 \n",
       "2013-08-27          0             0  \n",
       "1966-08-22          0             0  \n",
       "1979-06-20          0             0  \n",
       "2011-10-12          0             0  \n",
       "1957-03-08          0             0  "
      ]
     },
     "execution_count": 13,
     "metadata": {},
     "output_type": "execute_result"
    }
   ],
   "source": [
    "df.sample(5)"
   ]
  },
  {
   "cell_type": "code",
   "execution_count": 14,
   "id": "76cadc38-8ce9-4230-b4ed-fd4be9eee68c",
   "metadata": {},
   "outputs": [
    {
     "data": {
      "image/png": "[encoded data removed]",
      "text/plain": [
       "<Figure size 1368x504 with 1 Axes>"
      ]
     },
     "metadata": {
      "needs_background": "light"
     },
     "output_type": "display_data"
    }
   ],
   "source": [
    "plt.figure(figsize=(19,7))\n",
    "sns.lineplot(data=df, x='Date', y='Close')\n",
    "plt.ylabel('Cotización')\n",
    "plt.xlabel('Fecha')\n",
    "plt.xticks(rotation=45)\n",
    "plt.title('SP 500 histórico')\n",
    "plt.show();"
   ]
  },
  {
   "cell_type": "markdown",
   "id": "d772ace7-b172-443c-a248-be2a1349b5a2",
   "metadata": {},
   "source": [
    "## Estadística"
   ]
  },
  {
   "cell_type": "code",
   "execution_count": 15,
   "id": "faee71de-006e-439f-a918-8b9d5ca48349",
   "metadata": {},
   "outputs": [
    {
     "name": "stdout",
     "output_type": "stream",
     "text": [
      "Mínimo:\t\t 3577.03\n",
      "percentil_10:\t 3758.33\n",
      "percentil_25:\t 3855.76\n",
      "Mediana:\t 3981.35\n",
      "percentil_75:\t 4111.08\n",
      "percentil_90:\t 4154.8\n",
      "Máximo:\t\t 4305.2\n",
      "Rango:\t\t 728.17\n",
      "\n",
      "Media:\t\t 3973.62\n",
      "Moda:\t\t 4137.64\n",
      "\n",
      "Desvío Std:\t 160.44\n",
      "Desv Std -:\t 3813.18\n",
      "Desv Std +:\t 4134.05\n",
      "\n",
      "Cantidad de outliers: 0\n",
      "Cantidad mayor a 0: 253\n",
      "Cantidad menor a 0: 0\n",
      "Cantidad igual a 0: 0\n",
      "Cantidad igual a 1: 0\n",
      "\n",
      "Valores poco frecuentes: menores a 3472.7799 o mayores a 4494.0602 \n",
      "\n"
     ]
    }
   ],
   "source": [
    "fecha_de_corte = '2022-06-01'\n",
    "sample = df[df.index>=fecha_de_corte]['Close'].copy()\n",
    "minimo = sample.min()\n",
    "maximo = sample.max()\n",
    "rango = maximo - minimo\n",
    "mediana = sample.median()\n",
    "media = sample.mean()\n",
    "desviacion_estandar = sample.std()\n",
    "un_desv_std_pos = media + desviacion_estandar\n",
    "un_desv_std_neg = media - desviacion_estandar\n",
    "percentil_10 = sample.quantile(0.1)\n",
    "percentil_25 = sample.quantile(0.25)\n",
    "percentil_75 = sample.quantile(0.75)\n",
    "percentil_90 = sample.quantile(0.9)\n",
    "moda = stats.mode(sample, keepdims=True)[0][0]\n",
    "\n",
    "\n",
    "print('Mínimo:\\t\\t', round(minimo,2))\n",
    "print('percentil_10:\\t', round(percentil_10, 2))\n",
    "print('percentil_25:\\t', round(percentil_25, 2))\n",
    "print('Mediana:\\t', round(mediana,2))\n",
    "print('percentil_75:\\t', round(percentil_75, 2))\n",
    "print('percentil_90:\\t', round(percentil_90, 2))\n",
    "print('Máximo:\\t\\t', round(maximo,2))\n",
    "print('Rango:\\t\\t', round(rango,2))\n",
    "print('')\n",
    "print('Media:\\t\\t', round(media,2))\n",
    "print('Moda:\\t\\t', round(moda,2))\n",
    "print('')\n",
    "print('Desvío Std:\\t', round(desviacion_estandar, 2))\n",
    "print('Desv Std -:\\t', round(un_desv_std_neg,2))\n",
    "print('Desv Std +:\\t', round(un_desv_std_pos,2))\n",
    "\n",
    "whis_outliers = 1.5\n",
    "iqr = percentil_75 - percentil_25\n",
    "lower = percentil_25 - whis_outliers * iqr\n",
    "upper = percentil_75 + whis_outliers * iqr\n",
    "\n",
    "df_sample = pd.DataFrame(index=sample.index)\n",
    "df_sample['sample'] = sample\n",
    "df_sample['IQR_outlier'] = ((sample < lower) | (sample > upper)).astype(int)\n",
    "outliers_cantidad = (df_sample['IQR_outlier']==1).sum()\n",
    "\n",
    "mayor_0 = (sample>0).sum()\n",
    "menor_0 = (sample<0).sum()\n",
    "igual_0 = (sample==0).sum()\n",
    "igual_1 = (sample==1).sum()\n",
    " \n",
    "print('\\nCantidad de outliers:', outliers_cantidad)\n",
    "print('Cantidad mayor a 0:', mayor_0)\n",
    "print('Cantidad menor a 0:', menor_0)\n",
    "print('Cantidad igual a 0:', igual_0)\n",
    "print('Cantidad igual a 1:', igual_1)\n",
    "print('\\nValores poco frecuentes: menores a', round(lower, 4), 'o mayores a', round(upper, 4), '\\n')"
   ]
  },
  {
   "cell_type": "code",
   "execution_count": 16,
   "id": "87df47dd-6f4b-4872-942a-e5acb08d41d4",
   "metadata": {},
   "outputs": [
    {
     "data": {
      "text/html": [
       "<div>\n",
       "<style scoped>\n",
       "    .dataframe tbody tr th:only-of-type {\n",
       "        vertical-align: middle;\n",
       "    }\n",
       "\n",
       "    .dataframe tbody tr th {\n",
       "        vertical-align: top;\n",
       "    }\n",
       "\n",
       "    .dataframe thead th {\n",
       "        text-align: right;\n",
       "    }\n",
       "</style>\n",
       "<table border=\"1\" class=\"dataframe\">\n",
       "  <thead>\n",
       "    <tr style=\"text-align: right;\">\n",
       "      <th></th>\n",
       "      <th>Open</th>\n",
       "      <th>High</th>\n",
       "      <th>Low</th>\n",
       "      <th>Close</th>\n",
       "      <th>Volume</th>\n",
       "      <th>Dividends</th>\n",
       "      <th>Stock Splits</th>\n",
       "    </tr>\n",
       "    <tr>\n",
       "      <th>Date</th>\n",
       "      <th></th>\n",
       "      <th></th>\n",
       "      <th></th>\n",
       "      <th></th>\n",
       "      <th></th>\n",
       "      <th></th>\n",
       "      <th></th>\n",
       "    </tr>\n",
       "  </thead>\n",
       "  <tbody>\n",
       "    <tr>\n",
       "      <th>2022-06-01</th>\n",
       "      <td>4149.779785</td>\n",
       "      <td>4166.540039</td>\n",
       "      <td>4073.850098</td>\n",
       "      <td>4101.229980</td>\n",
       "      <td>4531800000</td>\n",
       "      <td>0</td>\n",
       "      <td>0</td>\n",
       "    </tr>\n",
       "    <tr>\n",
       "      <th>2022-06-02</th>\n",
       "      <td>4095.409912</td>\n",
       "      <td>4177.509766</td>\n",
       "      <td>4074.370117</td>\n",
       "      <td>4176.819824</td>\n",
       "      <td>4405790000</td>\n",
       "      <td>0</td>\n",
       "      <td>0</td>\n",
       "    </tr>\n",
       "    <tr>\n",
       "      <th>2022-06-03</th>\n",
       "      <td>4137.569824</td>\n",
       "      <td>4142.669922</td>\n",
       "      <td>4098.669922</td>\n",
       "      <td>4108.540039</td>\n",
       "      <td>3711110000</td>\n",
       "      <td>0</td>\n",
       "      <td>0</td>\n",
       "    </tr>\n",
       "    <tr>\n",
       "      <th>2022-06-06</th>\n",
       "      <td>4134.720215</td>\n",
       "      <td>4168.779785</td>\n",
       "      <td>4109.180176</td>\n",
       "      <td>4121.430176</td>\n",
       "      <td>4332700000</td>\n",
       "      <td>0</td>\n",
       "      <td>0</td>\n",
       "    </tr>\n",
       "    <tr>\n",
       "      <th>2022-06-07</th>\n",
       "      <td>4096.470215</td>\n",
       "      <td>4164.859863</td>\n",
       "      <td>4080.189941</td>\n",
       "      <td>4160.680176</td>\n",
       "      <td>4248210000</td>\n",
       "      <td>0</td>\n",
       "      <td>0</td>\n",
       "    </tr>\n",
       "    <tr>\n",
       "      <th>...</th>\n",
       "      <td>...</td>\n",
       "      <td>...</td>\n",
       "      <td>...</td>\n",
       "      <td>...</td>\n",
       "      <td>...</td>\n",
       "      <td>...</td>\n",
       "      <td>...</td>\n",
       "    </tr>\n",
       "    <tr>\n",
       "      <th>2023-05-26</th>\n",
       "      <td>4156.160156</td>\n",
       "      <td>4212.870117</td>\n",
       "      <td>4156.160156</td>\n",
       "      <td>4205.450195</td>\n",
       "      <td>3715460000</td>\n",
       "      <td>0</td>\n",
       "      <td>0</td>\n",
       "    </tr>\n",
       "    <tr>\n",
       "      <th>2023-05-30</th>\n",
       "      <td>4226.709961</td>\n",
       "      <td>4231.100098</td>\n",
       "      <td>4192.180176</td>\n",
       "      <td>4205.520020</td>\n",
       "      <td>4228510000</td>\n",
       "      <td>0</td>\n",
       "      <td>0</td>\n",
       "    </tr>\n",
       "    <tr>\n",
       "      <th>2023-05-31</th>\n",
       "      <td>4190.740234</td>\n",
       "      <td>4195.439941</td>\n",
       "      <td>4166.149902</td>\n",
       "      <td>4179.830078</td>\n",
       "      <td>5980670000</td>\n",
       "      <td>0</td>\n",
       "      <td>0</td>\n",
       "    </tr>\n",
       "    <tr>\n",
       "      <th>2023-06-01</th>\n",
       "      <td>4183.029785</td>\n",
       "      <td>4232.430176</td>\n",
       "      <td>4171.640137</td>\n",
       "      <td>4221.020020</td>\n",
       "      <td>4391860000</td>\n",
       "      <td>0</td>\n",
       "      <td>0</td>\n",
       "    </tr>\n",
       "    <tr>\n",
       "      <th>2023-06-02</th>\n",
       "      <td>4241.009766</td>\n",
       "      <td>4290.669922</td>\n",
       "      <td>4241.009766</td>\n",
       "      <td>4282.370117</td>\n",
       "      <td>4454200000</td>\n",
       "      <td>0</td>\n",
       "      <td>0</td>\n",
       "    </tr>\n",
       "  </tbody>\n",
       "</table>\n",
       "<p>253 rows × 7 columns</p>\n",
       "</div>"
      ],
      "text/plain": [
       "                   Open         High          Low        Close      Volume  \\\n",
       "Date                                                                         \n",
       "2022-06-01  4149.779785  4166.540039  4073.850098  4101.229980  4531800000   \n",
       "2022-06-02  4095.409912  4177.509766  4074.370117  4176.819824  4405790000   \n",
       "2022-06-03  4137.569824  4142.669922  4098.669922  4108.540039  3711110000   \n",
       "2022-06-06  4134.720215  4168.779785  4109.180176  4121.430176  4332700000   \n",
       "2022-06-07  4096.470215  4164.859863  4080.189941  4160.680176  4248210000   \n",
       "...                 ...          ...          ...          ...         ...   \n",
       "2023-05-26  4156.160156  4212.870117  4156.160156  4205.450195  3715460000   \n",
       "2023-05-30  4226.709961  4231.100098  4192.180176  4205.520020  4228510000   \n",
       "2023-05-31  4190.740234  4195.439941  4166.149902  4179.830078  5980670000   \n",
       "2023-06-01  4183.029785  4232.430176  4171.640137  4221.020020  4391860000   \n",
       "2023-06-02  4241.009766  4290.669922  4241.009766  4282.370117  4454200000   \n",
       "\n",
       "            Dividends  Stock Splits  \n",
       "Date                                 \n",
       "2022-06-01          0             0  \n",
       "2022-06-02          0             0  \n",
       "2022-06-03          0             0  \n",
       "2022-06-06          0             0  \n",
       "2022-06-07          0             0  \n",
       "...               ...           ...  \n",
       "2023-05-26          0             0  \n",
       "2023-05-30          0             0  \n",
       "2023-05-31          0             0  \n",
       "2023-06-01          0             0  \n",
       "2023-06-02          0             0  \n",
       "\n",
       "[253 rows x 7 columns]"
      ]
     },
     "execution_count": 16,
     "metadata": {},
     "output_type": "execute_result"
    }
   ],
   "source": [
    "df_plot = df[df.index>=fecha_de_corte].copy()\n",
    "df_plot"
   ]
  },
  {
   "cell_type": "code",
   "execution_count": 17,
   "id": "a9a16d6f-3706-438e-9fca-e415c0017e48",
   "metadata": {
    "colab": {
     "base_uri": "https://localhost:8080/",
     "height": 565
    },
    "executionInfo": {
     "elapsed": 1546,
     "status": "ok",
     "timestamp": 1682272110662,
     "user": {
      "displayName": "Ignacio Manzo",
      "userId": "08253582275583345610"
     },
     "user_tz": 180
    },
    "id": "khiLjiLrOfrx",
    "outputId": "d0d238fd-1940-4c0c-c123-a6d371e197c5"
   },
   "outputs": [
    {
     "data": {
      "image/png": "[encoded data removed]",
      "text/plain": [
       "<Figure size 1296x432 with 1 Axes>"
      ]
     },
     "metadata": {
      "needs_background": "light"
     },
     "output_type": "display_data"
    }
   ],
   "source": [
    "df_plot = df[df.index>='2022-06-01'].copy()\n",
    "mean = df_plot['Close'].mean()\n",
    "median = df_plot['Close'].median()\n",
    "\n",
    "fig, ax = plt.subplots(figsize=(18, 6))\n",
    "sns.histplot(data=df_plot, x='Close', bins=25, kde=True, ax=ax)\n",
    "ax.axvline(mean, color='green', linewidth=2, label='Media')\n",
    "ax.axvline(median, color='red', linewidth=2, label='Mediana')\n",
    "ax.axvline(moda, color='purple', linewidth=2, label='Moda')\n",
    "ax.axvline(un_desv_std_neg, color='lightblue', linestyle='--', linewidth=2.5, label='1 desv std -')\n",
    "ax.axvline(un_desv_std_pos, color='lightblue', linestyle='--', linewidth=2.5, label='1 desv std +')\n",
    "ax.axvline(percentil_10, color='orange', linestyle='--', linewidth=2, label='Q10%')\n",
    "ax.axvline(percentil_25, color='orange', linestyle='--', linewidth=1, label='Q25%')\n",
    "ax.axvline(percentil_75, color='orange', linestyle='--', linewidth=1, label='Q75%')\n",
    "ax.axvline(percentil_90, color='orange', linestyle='--', linewidth=2, label='Q90%')\n",
    "\n",
    "ax.set_xlabel('Cotizaciones')\n",
    "ax.set_ylabel('Frecuencia')\n",
    "ax.set_title('Distribución de cierres de SP500 en el último año')\n",
    "ax.legend()\n",
    "plt.show()"
   ]
  },
  {
   "cell_type": "code",
   "execution_count": 18,
   "id": "3740cc51-6c71-47d0-bcd8-a9ed6245195a",
   "metadata": {
    "colab": {
     "base_uri": "https://localhost:8080/",
     "height": 808
    },
    "executionInfo": {
     "elapsed": 393,
     "status": "ok",
     "timestamp": 1682272115733,
     "user": {
      "displayName": "Ignacio Manzo",
      "userId": "08253582275583345610"
     },
     "user_tz": 180
    },
    "id": "C6Qr89SzOfrx",
    "outputId": "b56cbfa2-b327-49a7-81a4-13a8b4af41e3"
   },
   "outputs": [
    {
     "data": {
      "image/png": "[encoded data removed]",
      "text/plain": [
       "<Figure size 1512x360 with 1 Axes>"
      ]
     },
     "metadata": {
      "needs_background": "light"
     },
     "output_type": "display_data"
    }
   ],
   "source": [
    "fig, ax = plt.subplots(figsize=(21, 5))\n",
    "sns.boxplot(x=sample, \n",
    "            showmeans=True, \n",
    "            meanline=True,\n",
    "            meanprops={'color': 'green', 'linewidth': 2, 'linestyle': '-'},\n",
    "            medianprops={'color': 'red', 'linewidth': 2},\n",
    "            whis=whis_outliers, width=0.9, color='blue',\n",
    "            boxprops={'edgecolor': 'darkblue', 'facecolor': 'lightblue', 'linewidth': 1.5},\n",
    "            whiskerprops={'color': 'darkblue', 'linewidth': 1.5},\n",
    "            capprops={'color': 'darkblue', 'linewidth': 1.5},\n",
    "            labels=['Muestra'])\n",
    "ax.set_xlabel('Cotizaciones')\n",
    "ax.set_title('Boxplot de cotizaciones de SP 500 del último año')\n",
    "\n",
    "mean_line = plt.Line2D([], [], color='green', linewidth=2, label='Media')\n",
    "median_line = plt.Line2D([], [], color='red', linewidth=2, label='Mediana')\n",
    "ax.legend(handles=[mean_line, median_line])\n",
    "\n",
    "plt.show();"
   ]
  },
  {
   "cell_type": "markdown",
   "id": "4b7326b4-307b-44dd-899c-810752244936",
   "metadata": {},
   "source": [
    "## Eliminar datos extremos"
   ]
  },
  {
   "cell_type": "code",
   "execution_count": 19,
   "id": "ce19544c-2c7a-435c-8721-ca8d4e48c5df",
   "metadata": {},
   "outputs": [
    {
     "data": {
      "text/plain": [
       "(201, 7)"
      ]
     },
     "execution_count": 19,
     "metadata": {},
     "output_type": "execute_result"
    }
   ],
   "source": [
    "percentil_10 = df[df.index>='2022-06-01']['Close'].quantile(0.1)\n",
    "percentil_90 = df[df.index>='2022-06-01']['Close'].quantile(0.9)\n",
    "df_central = df[\n",
    "    (df.index>='2022-06-01') &\n",
    "    (df['Close'] >= percentil_10) &\n",
    "    (df['Close'] <= percentil_90)]\n",
    "\n",
    "df_central.shape"
   ]
  },
  {
   "cell_type": "code",
   "execution_count": null,
   "id": "91f7ba60-eb1f-4cbe-b8bb-0ffeaecac3e2",
   "metadata": {},
   "outputs": [],
   "source": []
  },
  {
   "cell_type": "code",
   "execution_count": null,
   "id": "839398d0-e353-4f3a-94da-d8f1581e0977",
   "metadata": {},
   "outputs": [],
   "source": []
  },
  {
   "cell_type": "code",
   "execution_count": null,
   "id": "035567f7-0aab-4c54-b0cb-51f1c8596fe7",
   "metadata": {},
   "outputs": [],
   "source": []
  },
  {
   "cell_type": "code",
   "execution_count": null,
   "id": "ed47cde1-9132-4f68-ba3a-50866ebf9366",
   "metadata": {},
   "outputs": [],
   "source": []
  },
  {
   "cell_type": "code",
   "execution_count": null,
   "id": "a198893c-d1ce-48c4-929a-d2ba49eddc1c",
   "metadata": {},
   "outputs": [],
   "source": []
  }
 ],
 "metadata": {
  "kernelspec": {
   "display_name": "Python 3 (ipykernel)",
   "language": "python",
   "name": "python3"
  },
  "language_info": {
   "codemirror_mode": {
    "name": "ipython",
    "version": 3
   },
   "file_extension": ".py",
   "mimetype": "text/x-python",
   "name": "python",
   "nbconvert_exporter": "python",
   "pygments_lexer": "ipython3",
   "version": "3.9.7"
  }
 },
 "nbformat": 4,
 "nbformat_minor": 5
}
