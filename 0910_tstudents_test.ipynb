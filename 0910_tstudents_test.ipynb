{
 "cells": [
  {
   "cell_type": "code",
   "execution_count": 1,
   "id": "f9a94e1d-0fc2-42a8-91f7-30cdcd69a584",
   "metadata": {},
   "outputs": [],
   "source": [
    "import pandas as pd\n",
    "import numpy as np\n",
    "from scipy import stats"
   ]
  },
  {
   "cell_type": "code",
   "execution_count": 13,
   "id": "2247762e-e1a3-4849-9896-967b4abef39f",
   "metadata": {},
   "outputs": [
    {
     "name": "stdout",
     "output_type": "stream",
     "text": [
      "Umbral #0: 94\n",
      "Umbral #1: 97\n",
      "Umbral #2: 50\n",
      "Umbral #3: 53\n",
      "Umbral #4: 53\n",
      "Umbral #5: 89\n",
      "Umbral #6: 59\n",
      "Umbral #7: 69\n",
      "Umbral #8: 71\n",
      "Umbral #9: 100\n"
     ]
    },
    {
     "data": {
      "text/html": [
       "<div>\n",
       "<style scoped>\n",
       "    .dataframe tbody tr th:only-of-type {\n",
       "        vertical-align: middle;\n",
       "    }\n",
       "\n",
       "    .dataframe tbody tr th {\n",
       "        vertical-align: top;\n",
       "    }\n",
       "\n",
       "    .dataframe thead th {\n",
       "        text-align: right;\n",
       "    }\n",
       "</style>\n",
       "<table border=\"1\" class=\"dataframe\">\n",
       "  <thead>\n",
       "    <tr style=\"text-align: right;\">\n",
       "      <th></th>\n",
       "      <th>columna_0</th>\n",
       "      <th>columna_1</th>\n",
       "      <th>columna_2</th>\n",
       "      <th>columna_3</th>\n",
       "      <th>columna_4</th>\n",
       "      <th>columna_5</th>\n",
       "      <th>columna_6</th>\n",
       "      <th>columna_7</th>\n",
       "      <th>columna_8</th>\n",
       "      <th>columna_9</th>\n",
       "    </tr>\n",
       "  </thead>\n",
       "  <tbody>\n",
       "    <tr>\n",
       "      <th>0</th>\n",
       "      <td>36</td>\n",
       "      <td>6</td>\n",
       "      <td>16</td>\n",
       "      <td>35</td>\n",
       "      <td>39</td>\n",
       "      <td>16</td>\n",
       "      <td>4</td>\n",
       "      <td>33</td>\n",
       "      <td>52</td>\n",
       "      <td>98</td>\n",
       "    </tr>\n",
       "    <tr>\n",
       "      <th>1</th>\n",
       "      <td>87</td>\n",
       "      <td>89</td>\n",
       "      <td>3</td>\n",
       "      <td>1</td>\n",
       "      <td>34</td>\n",
       "      <td>57</td>\n",
       "      <td>40</td>\n",
       "      <td>47</td>\n",
       "      <td>9</td>\n",
       "      <td>82</td>\n",
       "    </tr>\n",
       "    <tr>\n",
       "      <th>2</th>\n",
       "      <td>70</td>\n",
       "      <td>88</td>\n",
       "      <td>26</td>\n",
       "      <td>29</td>\n",
       "      <td>39</td>\n",
       "      <td>5</td>\n",
       "      <td>25</td>\n",
       "      <td>14</td>\n",
       "      <td>24</td>\n",
       "      <td>20</td>\n",
       "    </tr>\n",
       "    <tr>\n",
       "      <th>3</th>\n",
       "      <td>88</td>\n",
       "      <td>38</td>\n",
       "      <td>6</td>\n",
       "      <td>20</td>\n",
       "      <td>48</td>\n",
       "      <td>8</td>\n",
       "      <td>50</td>\n",
       "      <td>31</td>\n",
       "      <td>46</td>\n",
       "      <td>26</td>\n",
       "    </tr>\n",
       "    <tr>\n",
       "      <th>4</th>\n",
       "      <td>88</td>\n",
       "      <td>51</td>\n",
       "      <td>41</td>\n",
       "      <td>37</td>\n",
       "      <td>44</td>\n",
       "      <td>33</td>\n",
       "      <td>37</td>\n",
       "      <td>63</td>\n",
       "      <td>45</td>\n",
       "      <td>28</td>\n",
       "    </tr>\n",
       "  </tbody>\n",
       "</table>\n",
       "</div>"
      ],
      "text/plain": [
       "   columna_0  columna_1  columna_2  columna_3  columna_4  columna_5  \\\n",
       "0         36          6         16         35         39         16   \n",
       "1         87         89          3          1         34         57   \n",
       "2         70         88         26         29         39          5   \n",
       "3         88         38          6         20         48          8   \n",
       "4         88         51         41         37         44         33   \n",
       "\n",
       "   columna_6  columna_7  columna_8  columna_9  \n",
       "0          4         33         52         98  \n",
       "1         40         47          9         82  \n",
       "2         25         14         24         20  \n",
       "3         50         31         46         26  \n",
       "4         37         63         45         28  "
      ]
     },
     "execution_count": 13,
     "metadata": {},
     "output_type": "execute_result"
    }
   ],
   "source": [
    "np.random.seed(0)\n",
    "df = pd.DataFrame()\n",
    "\n",
    "umbrales = np.random.randint(50, 101, 10)\n",
    "\n",
    "for i in range(10):\n",
    "    print(f'Umbral #{i}:', umbrales[i])\n",
    "    df[f'columna_{i}'] = np.random.randint(0, umbrales[i]+1, 1000)\n",
    "\n",
    "df.head()"
   ]
  },
  {
   "cell_type": "code",
   "execution_count": 14,
   "id": "967a2edf-421f-4afb-907b-e864588b0e28",
   "metadata": {},
   "outputs": [
    {
     "data": {
      "text/plain": [
       "(-1.65488563397709, 0.09810475652975202)"
      ]
     },
     "execution_count": 14,
     "metadata": {},
     "output_type": "execute_result"
    }
   ],
   "source": [
    "t_stat, p_value = stats.ttest_ind(df['columna_0'], df['columna_1'])\n",
    "\n",
    "t_stat, p_value"
   ]
  },
  {
   "cell_type": "code",
   "execution_count": 15,
   "id": "ca5263c1-cd4a-4dda-a81e-9f28189a3405",
   "metadata": {},
   "outputs": [
    {
     "data": {
      "text/html": [
       "<div>\n",
       "<style scoped>\n",
       "    .dataframe tbody tr th:only-of-type {\n",
       "        vertical-align: middle;\n",
       "    }\n",
       "\n",
       "    .dataframe tbody tr th {\n",
       "        vertical-align: top;\n",
       "    }\n",
       "\n",
       "    .dataframe thead th {\n",
       "        text-align: right;\n",
       "    }\n",
       "</style>\n",
       "<table border=\"1\" class=\"dataframe\">\n",
       "  <thead>\n",
       "    <tr style=\"text-align: right;\">\n",
       "      <th></th>\n",
       "      <th>columna_0</th>\n",
       "      <th>columna_1</th>\n",
       "      <th>columna_2</th>\n",
       "      <th>columna_3</th>\n",
       "      <th>columna_4</th>\n",
       "      <th>columna_5</th>\n",
       "      <th>columna_6</th>\n",
       "      <th>columna_7</th>\n",
       "      <th>columna_8</th>\n",
       "      <th>columna_9</th>\n",
       "    </tr>\n",
       "  </thead>\n",
       "  <tbody>\n",
       "    <tr>\n",
       "      <th>media</th>\n",
       "      <td>46.997000</td>\n",
       "      <td>49.086000</td>\n",
       "      <td>25.294000</td>\n",
       "      <td>26.543000</td>\n",
       "      <td>26.608000</td>\n",
       "      <td>44.162000</td>\n",
       "      <td>29.185000</td>\n",
       "      <td>35.330000</td>\n",
       "      <td>34.610000</td>\n",
       "      <td>47.51200</td>\n",
       "    </tr>\n",
       "    <tr>\n",
       "      <th>std</th>\n",
       "      <td>28.137923</td>\n",
       "      <td>28.314596</td>\n",
       "      <td>14.773416</td>\n",
       "      <td>16.272337</td>\n",
       "      <td>15.734609</td>\n",
       "      <td>26.026278</td>\n",
       "      <td>17.214736</td>\n",
       "      <td>19.960148</td>\n",
       "      <td>20.239554</td>\n",
       "      <td>28.72112</td>\n",
       "    </tr>\n",
       "    <tr>\n",
       "      <th>min</th>\n",
       "      <td>0.000000</td>\n",
       "      <td>0.000000</td>\n",
       "      <td>0.000000</td>\n",
       "      <td>0.000000</td>\n",
       "      <td>0.000000</td>\n",
       "      <td>0.000000</td>\n",
       "      <td>0.000000</td>\n",
       "      <td>0.000000</td>\n",
       "      <td>0.000000</td>\n",
       "      <td>0.00000</td>\n",
       "    </tr>\n",
       "    <tr>\n",
       "      <th>max</th>\n",
       "      <td>94.000000</td>\n",
       "      <td>97.000000</td>\n",
       "      <td>50.000000</td>\n",
       "      <td>53.000000</td>\n",
       "      <td>53.000000</td>\n",
       "      <td>89.000000</td>\n",
       "      <td>59.000000</td>\n",
       "      <td>69.000000</td>\n",
       "      <td>71.000000</td>\n",
       "      <td>100.00000</td>\n",
       "    </tr>\n",
       "    <tr>\n",
       "      <th>len</th>\n",
       "      <td>1000.000000</td>\n",
       "      <td>1000.000000</td>\n",
       "      <td>1000.000000</td>\n",
       "      <td>1000.000000</td>\n",
       "      <td>1000.000000</td>\n",
       "      <td>1000.000000</td>\n",
       "      <td>1000.000000</td>\n",
       "      <td>1000.000000</td>\n",
       "      <td>1000.000000</td>\n",
       "      <td>1000.00000</td>\n",
       "    </tr>\n",
       "  </tbody>\n",
       "</table>\n",
       "</div>"
      ],
      "text/plain": [
       "         columna_0    columna_1    columna_2    columna_3    columna_4  \\\n",
       "media    46.997000    49.086000    25.294000    26.543000    26.608000   \n",
       "std      28.137923    28.314596    14.773416    16.272337    15.734609   \n",
       "min       0.000000     0.000000     0.000000     0.000000     0.000000   \n",
       "max      94.000000    97.000000    50.000000    53.000000    53.000000   \n",
       "len    1000.000000  1000.000000  1000.000000  1000.000000  1000.000000   \n",
       "\n",
       "         columna_5    columna_6    columna_7    columna_8   columna_9  \n",
       "media    44.162000    29.185000    35.330000    34.610000    47.51200  \n",
       "std      26.026278    17.214736    19.960148    20.239554    28.72112  \n",
       "min       0.000000     0.000000     0.000000     0.000000     0.00000  \n",
       "max      89.000000    59.000000    69.000000    71.000000   100.00000  \n",
       "len    1000.000000  1000.000000  1000.000000  1000.000000  1000.00000  "
      ]
     },
     "execution_count": 15,
     "metadata": {},
     "output_type": "execute_result"
    }
   ],
   "source": [
    "data = pd.DataFrame({'media': df.mean(), \n",
    "                     'std': df.std(), \n",
    "                     'min': df.min(), \n",
    "                     'max': df.max(), \n",
    "                     'len':df.shape[0]\n",
    "                    })\n",
    "data = data.T\n",
    "\n",
    "data"
   ]
  },
  {
   "cell_type": "code",
   "execution_count": 16,
   "id": "68178abe-9a87-4dcd-b2d6-0088d6525f86",
   "metadata": {},
   "outputs": [
    {
     "data": {
      "text/plain": [
       "(-2.0889999999999986, -0.17667212682867728)"
      ]
     },
     "execution_count": 16,
     "metadata": {},
     "output_type": "execute_result"
    }
   ],
   "source": [
    "data.loc['media'][0] - data.loc['media'][1], data.loc['std'][0] - data.loc['std'][1]"
   ]
  },
  {
   "cell_type": "code",
   "execution_count": 17,
   "id": "2a65c07f-c20a-4741-a0e9-ed0551b43b07",
   "metadata": {},
   "outputs": [
    {
     "data": {
      "text/plain": [
       "(-2.0889999999999986, 1.2623228802703585)"
      ]
     },
     "execution_count": 17,
     "metadata": {},
     "output_type": "execute_result"
    }
   ],
   "source": [
    "media1 = data.loc['media'][0]\n",
    "desvio1 = data.loc['std'][0]\n",
    "tamano_muestra1 = data.loc['len'][0]\n",
    "\n",
    "media2 = data.loc['media'][1]\n",
    "desvio2 = data.loc['std'][1]\n",
    "tamano_muestra2 = data.loc['len'][1]\n",
    "\n",
    "diferencia_medias = media1 - media2\n",
    "error_estandar_diferencia = ((desvio1**2 / tamano_muestra1) + (desvio2**2 / tamano_muestra2))**0.5\n",
    "\n",
    "diferencia_medias, error_estandar_diferencia"
   ]
  },
  {
   "cell_type": "code",
   "execution_count": 18,
   "id": "b22044c9-26ae-4206-9c0a-da2695eba925",
   "metadata": {},
   "outputs": [
    {
     "data": {
      "text/plain": [
       "-1.65488563397709"
      ]
     },
     "execution_count": 18,
     "metadata": {},
     "output_type": "execute_result"
    }
   ],
   "source": [
    "t_stat = diferencia_medias / error_estandar_diferencia\n",
    "t_stat"
   ]
  },
  {
   "cell_type": "code",
   "execution_count": 19,
   "id": "9e17255b-1eed-4e62-81c5-ebbc4e0bdbec",
   "metadata": {},
   "outputs": [
    {
     "data": {
      "text/plain": [
       "1998.0"
      ]
     },
     "execution_count": 19,
     "metadata": {},
     "output_type": "execute_result"
    }
   ],
   "source": [
    "grados_libertad = tamano_muestra1 + tamano_muestra2 - 2\n",
    "grados_libertad"
   ]
  },
  {
   "cell_type": "code",
   "execution_count": 20,
   "id": "21b170c5-cc77-49ee-8576-ab9c85404428",
   "metadata": {},
   "outputs": [
    {
     "data": {
      "text/plain": [
       "(0.09810475652975215, 0.0981)"
      ]
     },
     "execution_count": 20,
     "metadata": {},
     "output_type": "execute_result"
    }
   ],
   "source": [
    "p_value = 2 * (1 - stats.t.cdf(abs(t_stat), df=grados_libertad))\n",
    "p_value, round(p_value, 5)"
   ]
  },
  {
   "cell_type": "code",
   "execution_count": 21,
   "id": "bcecf0d8-9aab-427b-ab28-a333e01aac30",
   "metadata": {},
   "outputs": [],
   "source": [
    "def ts_test(media1, desvio1, tamano_muestra1, media2, desvio2, tamano_muestra2):\n",
    "    diferencia_medias = media1 - media2\n",
    "    error_estandar_diferencia = ((desvio1**2 / tamano_muestra1) + (desvio2**2 / tamano_muestra2))**0.5\n",
    "    t_stat = diferencia_medias / error_estandar_diferencia\n",
    "    grados_libertad = tamano_muestra1 + tamano_muestra2 - 2\n",
    "    p_value = 2 * (1 - stats.t.cdf(abs(t_stat), df=grados_libertad))\n",
    "\n",
    "    return t_stat, p_value"
   ]
  },
  {
   "cell_type": "code",
   "execution_count": 22,
   "id": "9f247fb1-ada1-4927-8ead-a725e9f2ffff",
   "metadata": {},
   "outputs": [
    {
     "name": "stdout",
     "output_type": "stream",
     "text": [
      "columna_0 vs columna_1: t_stat: -1.65489 | p_value: 0.0981 ----> ATENCION!\n",
      "columna_0 vs columna_2: t_stat: 21.59533 | p_value: 0.0\n",
      "columna_0 vs columna_3: t_stat: 19.89926 | p_value: 0.0\n",
      "columna_0 vs columna_4: t_stat: 19.99959 | p_value: 0.0\n",
      "columna_0 vs columna_5: t_stat: 2.33898 | p_value: 0.01943 ----> ATENCION!\n",
      "columna_0 vs columna_6: t_stat: 17.07577 | p_value: 0.0\n",
      "columna_0 vs columna_7: t_stat: 10.69445 | p_value: 0.0\n",
      "columna_0 vs columna_8: t_stat: 11.30123 | p_value: 0.0\n",
      "columna_0 vs columna_9: t_stat: -0.40504 | p_value: 0.68549 ----> ATENCION!\n",
      "columna_1 vs columna_2: t_stat: 23.55794 | p_value: 0.0\n",
      "columna_1 vs columna_3: t_stat: 21.82882 | p_value: 0.0\n",
      "columna_1 vs columna_4: t_stat: 21.94366 | p_value: 0.0\n",
      "columna_1 vs columna_5: t_stat: 4.04876 | p_value: 5e-05\n",
      "columna_1 vs columna_6: t_stat: 18.99158 | p_value: 0.0\n",
      "columna_1 vs columna_7: t_stat: 12.5568 | p_value: 0.0\n",
      "columna_1 vs columna_8: t_stat: 13.15263 | p_value: 0.0\n",
      "columna_1 vs columna_9: t_stat: 1.23413 | p_value: 0.2173 ----> ATENCION!\n",
      "columna_2 vs columna_3: t_stat: -1.79709 | p_value: 0.07247 ----> ATENCION!\n",
      "columna_2 vs columna_4: t_stat: -1.92522 | p_value: 0.05434 ----> ATENCION!\n",
      "columna_2 vs columna_5: t_stat: -19.93718 | p_value: 0.0\n",
      "columna_2 vs columna_6: t_stat: -5.42408 | p_value: 0.0\n",
      "columna_2 vs columna_7: t_stat: -12.78019 | p_value: 0.0\n",
      "columna_2 vs columna_8: t_stat: -11.75673 | p_value: 0.0\n",
      "columna_2 vs columna_9: t_stat: -21.75355 | p_value: 0.0\n",
      "columna_3 vs columna_4: t_stat: -0.09081 | p_value: 0.92765 ----> ATENCION!\n",
      "columna_3 vs columna_5: t_stat: -18.15181 | p_value: 0.0\n",
      "columna_3 vs columna_6: t_stat: -3.52695 | p_value: 0.00043\n",
      "columna_3 vs columna_7: t_stat: -10.78995 | p_value: 0.0\n",
      "columna_3 vs columna_8: t_stat: -9.823 | p_value: 0.0\n",
      "columna_3 vs columna_9: t_stat: -20.0875 | p_value: 0.0\n",
      "columna_4 vs columna_5: t_stat: -18.25232 | p_value: 0.0\n",
      "columna_4 vs columna_6: t_stat: -3.49418 | p_value: 0.00049\n",
      "columna_4 vs columna_7: t_stat: -10.85187 | p_value: 0.0\n",
      "columna_4 vs columna_8: t_stat: -9.87061 | p_value: 0.0\n",
      "columna_4 vs columna_9: t_stat: -20.18527 | p_value: 0.0\n",
      "columna_5 vs columna_6: t_stat: 15.17781 | p_value: 0.0\n",
      "columna_5 vs columna_7: t_stat: 8.51527 | p_value: 0.0\n",
      "columna_5 vs columna_8: t_stat: 9.16175 | p_value: 0.0\n",
      "columna_5 vs columna_9: t_stat: -2.7332 | p_value: 0.00633\n",
      "columna_6 vs columna_7: t_stat: -7.37235 | p_value: 0.0\n",
      "columna_6 vs columna_8: t_stat: -6.45656 | p_value: 0.0\n",
      "columna_6 vs columna_9: t_stat: -17.30773 | p_value: 0.0\n",
      "columna_7 vs columna_8: t_stat: 0.80097 | p_value: 0.42325 ----> ATENCION!\n",
      "columna_7 vs columna_9: t_stat: -11.01413 | p_value: 0.0\n",
      "columna_8 vs columna_9: t_stat: -11.61192 | p_value: 0.0\n"
     ]
    }
   ],
   "source": [
    "for i in range(data.shape[1]):\n",
    "    for j in range(i+1, data.shape[1]):\n",
    "        media1 = data.loc['media'][i]\n",
    "        desvio1 = data.loc['std'][i]\n",
    "        tamano_muestra1 = data.loc['len'][i]\n",
    "\n",
    "        media2 = data.loc['media'][j]\n",
    "        desvio2 = data.loc['std'][j]\n",
    "        tamano_muestra2 = data.loc['len'][j]\n",
    "        \n",
    "        t_stat, p_value = ts_test(media1, desvio1, tamano_muestra1, media2, desvio2, tamano_muestra2)\n",
    "        if p_value > 0.01:\n",
    "            print(f'columna_{i} vs columna_{j}: t_stat: {round(t_stat, 5)} | p_value: {round(p_value, 5)} ----> ATENCION!')\n",
    "        else:\n",
    "            print(f'columna_{i} vs columna_{j}: t_stat: {round(t_stat, 5)} | p_value: {round(p_value, 5)}')"
   ]
  },
  {
   "cell_type": "code",
   "execution_count": 23,
   "id": "780328c0-1297-491a-9df2-3c3e904c43b0",
   "metadata": {},
   "outputs": [
    {
     "data": {
      "text/html": [
       "<div>\n",
       "<style scoped>\n",
       "    .dataframe tbody tr th:only-of-type {\n",
       "        vertical-align: middle;\n",
       "    }\n",
       "\n",
       "    .dataframe tbody tr th {\n",
       "        vertical-align: top;\n",
       "    }\n",
       "\n",
       "    .dataframe thead th {\n",
       "        text-align: right;\n",
       "    }\n",
       "</style>\n",
       "<table border=\"1\" class=\"dataframe\">\n",
       "  <thead>\n",
       "    <tr style=\"text-align: right;\">\n",
       "      <th></th>\n",
       "      <th>columna_0</th>\n",
       "      <th>columna_1</th>\n",
       "      <th>columna_2</th>\n",
       "      <th>columna_3</th>\n",
       "      <th>columna_4</th>\n",
       "      <th>columna_5</th>\n",
       "      <th>columna_6</th>\n",
       "      <th>columna_7</th>\n",
       "      <th>columna_8</th>\n",
       "      <th>columna_9</th>\n",
       "    </tr>\n",
       "  </thead>\n",
       "  <tbody>\n",
       "    <tr>\n",
       "      <th>media</th>\n",
       "      <td>46.997000</td>\n",
       "      <td>49.086000</td>\n",
       "      <td>25.294000</td>\n",
       "      <td>26.543000</td>\n",
       "      <td>26.608000</td>\n",
       "      <td>44.162000</td>\n",
       "      <td>29.185000</td>\n",
       "      <td>35.330000</td>\n",
       "      <td>34.610000</td>\n",
       "      <td>47.51200</td>\n",
       "    </tr>\n",
       "    <tr>\n",
       "      <th>std</th>\n",
       "      <td>28.137923</td>\n",
       "      <td>28.314596</td>\n",
       "      <td>14.773416</td>\n",
       "      <td>16.272337</td>\n",
       "      <td>15.734609</td>\n",
       "      <td>26.026278</td>\n",
       "      <td>17.214736</td>\n",
       "      <td>19.960148</td>\n",
       "      <td>20.239554</td>\n",
       "      <td>28.72112</td>\n",
       "    </tr>\n",
       "    <tr>\n",
       "      <th>min</th>\n",
       "      <td>0.000000</td>\n",
       "      <td>0.000000</td>\n",
       "      <td>0.000000</td>\n",
       "      <td>0.000000</td>\n",
       "      <td>0.000000</td>\n",
       "      <td>0.000000</td>\n",
       "      <td>0.000000</td>\n",
       "      <td>0.000000</td>\n",
       "      <td>0.000000</td>\n",
       "      <td>0.00000</td>\n",
       "    </tr>\n",
       "    <tr>\n",
       "      <th>max</th>\n",
       "      <td>94.000000</td>\n",
       "      <td>97.000000</td>\n",
       "      <td>50.000000</td>\n",
       "      <td>53.000000</td>\n",
       "      <td>53.000000</td>\n",
       "      <td>89.000000</td>\n",
       "      <td>59.000000</td>\n",
       "      <td>69.000000</td>\n",
       "      <td>71.000000</td>\n",
       "      <td>100.00000</td>\n",
       "    </tr>\n",
       "    <tr>\n",
       "      <th>len</th>\n",
       "      <td>1000.000000</td>\n",
       "      <td>1000.000000</td>\n",
       "      <td>1000.000000</td>\n",
       "      <td>1000.000000</td>\n",
       "      <td>1000.000000</td>\n",
       "      <td>1000.000000</td>\n",
       "      <td>1000.000000</td>\n",
       "      <td>1000.000000</td>\n",
       "      <td>1000.000000</td>\n",
       "      <td>1000.00000</td>\n",
       "    </tr>\n",
       "  </tbody>\n",
       "</table>\n",
       "</div>"
      ],
      "text/plain": [
       "         columna_0    columna_1    columna_2    columna_3    columna_4  \\\n",
       "media    46.997000    49.086000    25.294000    26.543000    26.608000   \n",
       "std      28.137923    28.314596    14.773416    16.272337    15.734609   \n",
       "min       0.000000     0.000000     0.000000     0.000000     0.000000   \n",
       "max      94.000000    97.000000    50.000000    53.000000    53.000000   \n",
       "len    1000.000000  1000.000000  1000.000000  1000.000000  1000.000000   \n",
       "\n",
       "         columna_5    columna_6    columna_7    columna_8   columna_9  \n",
       "media    44.162000    29.185000    35.330000    34.610000    47.51200  \n",
       "std      26.026278    17.214736    19.960148    20.239554    28.72112  \n",
       "min       0.000000     0.000000     0.000000     0.000000     0.00000  \n",
       "max      89.000000    59.000000    69.000000    71.000000   100.00000  \n",
       "len    1000.000000  1000.000000  1000.000000  1000.000000  1000.00000  "
      ]
     },
     "execution_count": 23,
     "metadata": {},
     "output_type": "execute_result"
    }
   ],
   "source": [
    "data"
   ]
  },
  {
   "cell_type": "code",
   "execution_count": null,
   "id": "08d8f948-0e4b-495c-a051-7285bd2fc746",
   "metadata": {},
   "outputs": [],
   "source": []
  }
 ],
 "metadata": {
  "kernelspec": {
   "display_name": "Python 3 (ipykernel)",
   "language": "python",
   "name": "python3"
  },
  "language_info": {
   "codemirror_mode": {
    "name": "ipython",
    "version": 3
   },
   "file_extension": ".py",
   "mimetype": "text/x-python",
   "name": "python",
   "nbconvert_exporter": "python",
   "pygments_lexer": "ipython3",
   "version": "3.9.7"
  }
 },
 "nbformat": 4,
 "nbformat_minor": 5
}
