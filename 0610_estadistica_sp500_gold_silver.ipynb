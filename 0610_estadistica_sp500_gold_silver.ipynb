{
 "cells": [
  {
   "cell_type": "code",
   "execution_count": 1,
   "id": "4558f0c6-fa07-489f-b3fe-e582671e8487",
   "metadata": {},
   "outputs": [],
   "source": [
    "import pandas as pd\n",
    "import numpy as np \n",
    "import seaborn as sns\n",
    "import matplotlib.pyplot as plt\n",
    "\n",
    "import yfinance as yf\n",
    "import scipy.stats as stats\n",
    "from datetime import datetime\n",
    "from datetime import timedelta\n",
    "import random\n",
    "\n",
    "pd.set_option('display.max_columns', None)\n",
    "# pd.options.display.float_format = '{:.6f}'.format\n",
    "\n",
    "path = 'data/'"
   ]
  },
  {
   "cell_type": "code",
   "execution_count": 2,
   "id": "6377c99f-9fd3-450f-98a5-5277f7cd0fb0",
   "metadata": {},
   "outputs": [],
   "source": [
    "# ticker = '^GSPC'\n",
    "# t = yf.Ticker(ticker)\n",
    "# df = t.history(period='max')\n",
    "# df.shape"
   ]
  },
  {
   "cell_type": "code",
   "execution_count": 3,
   "id": "e2f1fe96-00fd-47b0-abf6-5ee706e4823f",
   "metadata": {},
   "outputs": [],
   "source": [
    "# rnd_nro = str(random.randint(100,999))\n",
    "# time_code = datetime.today().strftime('%Y%m%d_%H%M')\n",
    "# file_name = time_code + '_' + ticker + '_' + rnd_nro + '.pkl'\n",
    "# df.to_pickle(path + file_name)\n",
    "# file_name"
   ]
  },
  {
   "cell_type": "code",
   "execution_count": 4,
   "id": "70d880dc-bcfe-4382-94d1-b4a2b6a6e71a",
   "metadata": {},
   "outputs": [],
   "source": [
    "file_name = '20230610_1844_^GSPC_608.pkl'"
   ]
  },
  {
   "cell_type": "code",
   "execution_count": 5,
   "id": "b612027c-f89f-4a73-8163-72fc70d420a6",
   "metadata": {},
   "outputs": [
    {
     "data": {
      "text/plain": [
       "(18479, 7)"
      ]
     },
     "execution_count": 5,
     "metadata": {},
     "output_type": "execute_result"
    }
   ],
   "source": [
    "df = pd.read_pickle(path + file_name)\n",
    "df.shape"
   ]
  },
  {
   "cell_type": "code",
   "execution_count": 6,
   "id": "a219446a-c96f-415e-8bad-123dce9ee236",
   "metadata": {},
   "outputs": [
    {
     "data": {
      "text/html": [
       "<div>\n",
       "<style scoped>\n",
       "    .dataframe tbody tr th:only-of-type {\n",
       "        vertical-align: middle;\n",
       "    }\n",
       "\n",
       "    .dataframe tbody tr th {\n",
       "        vertical-align: top;\n",
       "    }\n",
       "\n",
       "    .dataframe thead th {\n",
       "        text-align: right;\n",
       "    }\n",
       "</style>\n",
       "<table border=\"1\" class=\"dataframe\">\n",
       "  <thead>\n",
       "    <tr style=\"text-align: right;\">\n",
       "      <th></th>\n",
       "      <th>Open</th>\n",
       "      <th>High</th>\n",
       "      <th>Low</th>\n",
       "      <th>Close</th>\n",
       "      <th>Volume</th>\n",
       "      <th>Dividends</th>\n",
       "      <th>Stock Splits</th>\n",
       "    </tr>\n",
       "    <tr>\n",
       "      <th>Date</th>\n",
       "      <th></th>\n",
       "      <th></th>\n",
       "      <th></th>\n",
       "      <th></th>\n",
       "      <th></th>\n",
       "      <th></th>\n",
       "      <th></th>\n",
       "    </tr>\n",
       "  </thead>\n",
       "  <tbody>\n",
       "    <tr>\n",
       "      <th>1955-10-03</th>\n",
       "      <td>42.490002</td>\n",
       "      <td>42.490002</td>\n",
       "      <td>42.490002</td>\n",
       "      <td>42.490002</td>\n",
       "      <td>2720000</td>\n",
       "      <td>0</td>\n",
       "      <td>0</td>\n",
       "    </tr>\n",
       "    <tr>\n",
       "      <th>1976-06-30</th>\n",
       "      <td>0.000000</td>\n",
       "      <td>105.070000</td>\n",
       "      <td>103.519997</td>\n",
       "      <td>104.279999</td>\n",
       "      <td>23830000</td>\n",
       "      <td>0</td>\n",
       "      <td>0</td>\n",
       "    </tr>\n",
       "    <tr>\n",
       "      <th>1951-06-20</th>\n",
       "      <td>21.910000</td>\n",
       "      <td>21.910000</td>\n",
       "      <td>21.910000</td>\n",
       "      <td>21.910000</td>\n",
       "      <td>1120000</td>\n",
       "      <td>0</td>\n",
       "      <td>0</td>\n",
       "    </tr>\n",
       "    <tr>\n",
       "      <th>1977-09-08</th>\n",
       "      <td>0.000000</td>\n",
       "      <td>98.430000</td>\n",
       "      <td>97.010002</td>\n",
       "      <td>97.279999</td>\n",
       "      <td>18290000</td>\n",
       "      <td>0</td>\n",
       "      <td>0</td>\n",
       "    </tr>\n",
       "    <tr>\n",
       "      <th>1951-05-08</th>\n",
       "      <td>22.610001</td>\n",
       "      <td>22.610001</td>\n",
       "      <td>22.610001</td>\n",
       "      <td>22.610001</td>\n",
       "      <td>1600000</td>\n",
       "      <td>0</td>\n",
       "      <td>0</td>\n",
       "    </tr>\n",
       "  </tbody>\n",
       "</table>\n",
       "</div>"
      ],
      "text/plain": [
       "                 Open        High         Low       Close    Volume  \\\n",
       "Date                                                                  \n",
       "1955-10-03  42.490002   42.490002   42.490002   42.490002   2720000   \n",
       "1976-06-30   0.000000  105.070000  103.519997  104.279999  23830000   \n",
       "1951-06-20  21.910000   21.910000   21.910000   21.910000   1120000   \n",
       "1977-09-08   0.000000   98.430000   97.010002   97.279999  18290000   \n",
       "1951-05-08  22.610001   22.610001   22.610001   22.610001   1600000   \n",
       "\n",
       "            Dividends  Stock Splits  \n",
       "Date                                 \n",
       "1955-10-03          0             0  \n",
       "1976-06-30          0             0  \n",
       "1951-06-20          0             0  \n",
       "1977-09-08          0             0  \n",
       "1951-05-08          0             0  "
      ]
     },
     "execution_count": 6,
     "metadata": {},
     "output_type": "execute_result"
    }
   ],
   "source": [
    "df.sample(5)"
   ]
  },
  {
   "cell_type": "code",
   "execution_count": 7,
   "id": "9fc242e7-686b-409c-b670-4ebca57c9faa",
   "metadata": {},
   "outputs": [
    {
     "name": "stdout",
     "output_type": "stream",
     "text": [
      "<class 'pandas.core.frame.DataFrame'>\n",
      "DatetimeIndex: 18479 entries, 1950-01-03 to 2023-06-09\n",
      "Data columns (total 7 columns):\n",
      " #   Column        Non-Null Count  Dtype  \n",
      "---  ------        --------------  -----  \n",
      " 0   Open          18479 non-null  float64\n",
      " 1   High          18479 non-null  float64\n",
      " 2   Low           18479 non-null  float64\n",
      " 3   Close         18479 non-null  float64\n",
      " 4   Volume        18479 non-null  int64  \n",
      " 5   Dividends     18479 non-null  int64  \n",
      " 6   Stock Splits  18479 non-null  int64  \n",
      "dtypes: float64(4), int64(3)\n",
      "memory usage: 1.1 MB\n"
     ]
    }
   ],
   "source": [
    "df.info()"
   ]
  },
  {
   "cell_type": "code",
   "execution_count": 8,
   "id": "da0b859a-5380-4419-9617-656b38cab88d",
   "metadata": {},
   "outputs": [
    {
     "data": {
      "text/html": [
       "<div>\n",
       "<style scoped>\n",
       "    .dataframe tbody tr th:only-of-type {\n",
       "        vertical-align: middle;\n",
       "    }\n",
       "\n",
       "    .dataframe tbody tr th {\n",
       "        vertical-align: top;\n",
       "    }\n",
       "\n",
       "    .dataframe thead th {\n",
       "        text-align: right;\n",
       "    }\n",
       "</style>\n",
       "<table border=\"1\" class=\"dataframe\">\n",
       "  <thead>\n",
       "    <tr style=\"text-align: right;\">\n",
       "      <th></th>\n",
       "      <th>Open</th>\n",
       "      <th>High</th>\n",
       "      <th>Low</th>\n",
       "      <th>Close</th>\n",
       "      <th>Volume</th>\n",
       "      <th>Dividends</th>\n",
       "      <th>Stock Splits</th>\n",
       "    </tr>\n",
       "    <tr>\n",
       "      <th>Date</th>\n",
       "      <th></th>\n",
       "      <th></th>\n",
       "      <th></th>\n",
       "      <th></th>\n",
       "      <th></th>\n",
       "      <th></th>\n",
       "      <th></th>\n",
       "    </tr>\n",
       "  </thead>\n",
       "  <tbody>\n",
       "    <tr>\n",
       "      <th>1950-01-31</th>\n",
       "      <td>16.660000</td>\n",
       "      <td>16.660000</td>\n",
       "      <td>16.660000</td>\n",
       "      <td>16.660000</td>\n",
       "      <td>1260000</td>\n",
       "      <td>0</td>\n",
       "      <td>0</td>\n",
       "    </tr>\n",
       "    <tr>\n",
       "      <th>1950-02-28</th>\n",
       "      <td>17.049999</td>\n",
       "      <td>17.049999</td>\n",
       "      <td>17.049999</td>\n",
       "      <td>17.049999</td>\n",
       "      <td>1810000</td>\n",
       "      <td>0</td>\n",
       "      <td>0</td>\n",
       "    </tr>\n",
       "    <tr>\n",
       "      <th>1950-03-31</th>\n",
       "      <td>17.240000</td>\n",
       "      <td>17.240000</td>\n",
       "      <td>17.240000</td>\n",
       "      <td>17.240000</td>\n",
       "      <td>1410000</td>\n",
       "      <td>0</td>\n",
       "      <td>0</td>\n",
       "    </tr>\n",
       "    <tr>\n",
       "      <th>1950-04-30</th>\n",
       "      <td>17.530001</td>\n",
       "      <td>17.530001</td>\n",
       "      <td>17.530001</td>\n",
       "      <td>17.530001</td>\n",
       "      <td>1570000</td>\n",
       "      <td>0</td>\n",
       "      <td>0</td>\n",
       "    </tr>\n",
       "    <tr>\n",
       "      <th>1950-05-31</th>\n",
       "      <td>18.219999</td>\n",
       "      <td>18.219999</td>\n",
       "      <td>18.219999</td>\n",
       "      <td>18.219999</td>\n",
       "      <td>2390000</td>\n",
       "      <td>0</td>\n",
       "      <td>0</td>\n",
       "    </tr>\n",
       "    <tr>\n",
       "      <th>...</th>\n",
       "      <td>...</td>\n",
       "      <td>...</td>\n",
       "      <td>...</td>\n",
       "      <td>...</td>\n",
       "      <td>...</td>\n",
       "      <td>...</td>\n",
       "      <td>...</td>\n",
       "    </tr>\n",
       "    <tr>\n",
       "      <th>2023-02-28</th>\n",
       "      <td>4070.070068</td>\n",
       "      <td>4148.950195</td>\n",
       "      <td>4037.199951</td>\n",
       "      <td>4119.209961</td>\n",
       "      <td>4856930000</td>\n",
       "      <td>0</td>\n",
       "      <td>0</td>\n",
       "    </tr>\n",
       "    <tr>\n",
       "      <th>2023-03-31</th>\n",
       "      <td>3963.340088</td>\n",
       "      <td>3971.729980</td>\n",
       "      <td>3939.050049</td>\n",
       "      <td>3951.389893</td>\n",
       "      <td>4249480000</td>\n",
       "      <td>0</td>\n",
       "      <td>0</td>\n",
       "    </tr>\n",
       "    <tr>\n",
       "      <th>2023-04-30</th>\n",
       "      <td>4102.200195</td>\n",
       "      <td>4127.660156</td>\n",
       "      <td>4098.790039</td>\n",
       "      <td>4124.509766</td>\n",
       "      <td>4234700000</td>\n",
       "      <td>0</td>\n",
       "      <td>0</td>\n",
       "    </tr>\n",
       "    <tr>\n",
       "      <th>2023-05-31</th>\n",
       "      <td>4166.790039</td>\n",
       "      <td>4186.919922</td>\n",
       "      <td>4164.120117</td>\n",
       "      <td>4167.870117</td>\n",
       "      <td>3321370000</td>\n",
       "      <td>0</td>\n",
       "      <td>0</td>\n",
       "    </tr>\n",
       "    <tr>\n",
       "      <th>2023-06-30</th>\n",
       "      <td>4183.029785</td>\n",
       "      <td>4232.430176</td>\n",
       "      <td>4171.640137</td>\n",
       "      <td>4221.020020</td>\n",
       "      <td>4391860000</td>\n",
       "      <td>0</td>\n",
       "      <td>0</td>\n",
       "    </tr>\n",
       "  </tbody>\n",
       "</table>\n",
       "<p>882 rows × 7 columns</p>\n",
       "</div>"
      ],
      "text/plain": [
       "                   Open         High          Low        Close      Volume  \\\n",
       "Date                                                                         \n",
       "1950-01-31    16.660000    16.660000    16.660000    16.660000     1260000   \n",
       "1950-02-28    17.049999    17.049999    17.049999    17.049999     1810000   \n",
       "1950-03-31    17.240000    17.240000    17.240000    17.240000     1410000   \n",
       "1950-04-30    17.530001    17.530001    17.530001    17.530001     1570000   \n",
       "1950-05-31    18.219999    18.219999    18.219999    18.219999     2390000   \n",
       "...                 ...          ...          ...          ...         ...   \n",
       "2023-02-28  4070.070068  4148.950195  4037.199951  4119.209961  4856930000   \n",
       "2023-03-31  3963.340088  3971.729980  3939.050049  3951.389893  4249480000   \n",
       "2023-04-30  4102.200195  4127.660156  4098.790039  4124.509766  4234700000   \n",
       "2023-05-31  4166.790039  4186.919922  4164.120117  4167.870117  3321370000   \n",
       "2023-06-30  4183.029785  4232.430176  4171.640137  4221.020020  4391860000   \n",
       "\n",
       "            Dividends  Stock Splits  \n",
       "Date                                 \n",
       "1950-01-31          0             0  \n",
       "1950-02-28          0             0  \n",
       "1950-03-31          0             0  \n",
       "1950-04-30          0             0  \n",
       "1950-05-31          0             0  \n",
       "...               ...           ...  \n",
       "2023-02-28          0             0  \n",
       "2023-03-31          0             0  \n",
       "2023-04-30          0             0  \n",
       "2023-05-31          0             0  \n",
       "2023-06-30          0             0  \n",
       "\n",
       "[882 rows x 7 columns]"
      ]
     },
     "execution_count": 8,
     "metadata": {},
     "output_type": "execute_result"
    }
   ],
   "source": [
    "df.resample('M').first()"
   ]
  },
  {
   "cell_type": "code",
   "execution_count": 9,
   "id": "f3e02c08-a38d-47e8-866c-c2b3e21fd038",
   "metadata": {},
   "outputs": [
    {
     "data": {
      "text/plain": [
       "(882, 7)"
      ]
     },
     "execution_count": 9,
     "metadata": {},
     "output_type": "execute_result"
    }
   ],
   "source": [
    "df = df.resample('M').first().copy()\n",
    "df.shape"
   ]
  },
  {
   "cell_type": "code",
   "execution_count": 10,
   "id": "676d6b63-3bfa-451d-ba63-7565cb211f74",
   "metadata": {},
   "outputs": [],
   "source": [
    "df.index = df.index.to_period('M')\n",
    "df.index = df.index.to_timestamp()"
   ]
  },
  {
   "cell_type": "code",
   "execution_count": 11,
   "id": "afd72c3a-9949-48a2-8ef9-a3ab7c694dc8",
   "metadata": {},
   "outputs": [
    {
     "data": {
      "text/plain": [
       "(0, 0)"
      ]
     },
     "execution_count": 11,
     "metadata": {},
     "output_type": "execute_result"
    }
   ],
   "source": [
    "df['Dividends'].sum(), df['Stock Splits'].sum()"
   ]
  },
  {
   "cell_type": "code",
   "execution_count": 12,
   "id": "a9ae1268-e1c7-46e1-b64d-4afc22395465",
   "metadata": {},
   "outputs": [
    {
     "data": {
      "text/plain": [
       "Index(['Open', 'High', 'Low', 'Close', 'Volume', 'Dividends', 'Stock Splits'], dtype='object')"
      ]
     },
     "execution_count": 12,
     "metadata": {},
     "output_type": "execute_result"
    }
   ],
   "source": [
    "df.columns"
   ]
  },
  {
   "cell_type": "code",
   "execution_count": 13,
   "id": "b538e63b-c0cb-496d-9a53-e5c743ed0f29",
   "metadata": {},
   "outputs": [],
   "source": [
    "my_cols = ['Open', 'High', 'Low', 'Close', 'Volume']"
   ]
  },
  {
   "cell_type": "code",
   "execution_count": 14,
   "id": "7cbbf954-a60a-41fd-8aaf-c8916136c84d",
   "metadata": {},
   "outputs": [
    {
     "data": {
      "text/plain": [
       "(882, 5)"
      ]
     },
     "execution_count": 14,
     "metadata": {},
     "output_type": "execute_result"
    }
   ],
   "source": [
    "df = df[my_cols].copy()\n",
    "df.shape"
   ]
  },
  {
   "cell_type": "code",
   "execution_count": 15,
   "id": "6aee4fa4-abfe-4d02-b47b-cef0f1276e39",
   "metadata": {},
   "outputs": [
    {
     "data": {
      "text/plain": [
       "DatetimeIndex(['1950-01-01', '1950-02-01', '1950-03-01', '1950-04-01',\n",
       "               '1950-05-01', '1950-06-01', '1950-07-01', '1950-08-01',\n",
       "               '1950-09-01', '1950-10-01',\n",
       "               ...\n",
       "               '2022-09-01', '2022-10-01', '2022-11-01', '2022-12-01',\n",
       "               '2023-01-01', '2023-02-01', '2023-03-01', '2023-04-01',\n",
       "               '2023-05-01', '2023-06-01'],\n",
       "              dtype='datetime64[ns]', name='Date', length=882, freq='MS')"
      ]
     },
     "execution_count": 15,
     "metadata": {},
     "output_type": "execute_result"
    }
   ],
   "source": [
    "df.index"
   ]
  },
  {
   "cell_type": "code",
   "execution_count": 16,
   "id": "ec63312a-5e9d-480d-8241-4e5d9c53b957",
   "metadata": {},
   "outputs": [
    {
     "data": {
      "text/html": [
       "<div>\n",
       "<style scoped>\n",
       "    .dataframe tbody tr th:only-of-type {\n",
       "        vertical-align: middle;\n",
       "    }\n",
       "\n",
       "    .dataframe tbody tr th {\n",
       "        vertical-align: top;\n",
       "    }\n",
       "\n",
       "    .dataframe thead th {\n",
       "        text-align: right;\n",
       "    }\n",
       "</style>\n",
       "<table border=\"1\" class=\"dataframe\">\n",
       "  <thead>\n",
       "    <tr style=\"text-align: right;\">\n",
       "      <th></th>\n",
       "      <th>Open</th>\n",
       "      <th>High</th>\n",
       "      <th>Low</th>\n",
       "      <th>Close</th>\n",
       "      <th>Volume</th>\n",
       "    </tr>\n",
       "    <tr>\n",
       "      <th>Date</th>\n",
       "      <th></th>\n",
       "      <th></th>\n",
       "      <th></th>\n",
       "      <th></th>\n",
       "      <th></th>\n",
       "    </tr>\n",
       "  </thead>\n",
       "  <tbody>\n",
       "    <tr>\n",
       "      <th>1950-01-01</th>\n",
       "      <td>16.660000</td>\n",
       "      <td>16.660000</td>\n",
       "      <td>16.660000</td>\n",
       "      <td>16.660000</td>\n",
       "      <td>1260000</td>\n",
       "    </tr>\n",
       "    <tr>\n",
       "      <th>1950-02-01</th>\n",
       "      <td>17.049999</td>\n",
       "      <td>17.049999</td>\n",
       "      <td>17.049999</td>\n",
       "      <td>17.049999</td>\n",
       "      <td>1810000</td>\n",
       "    </tr>\n",
       "    <tr>\n",
       "      <th>1950-03-01</th>\n",
       "      <td>17.240000</td>\n",
       "      <td>17.240000</td>\n",
       "      <td>17.240000</td>\n",
       "      <td>17.240000</td>\n",
       "      <td>1410000</td>\n",
       "    </tr>\n",
       "    <tr>\n",
       "      <th>1950-04-01</th>\n",
       "      <td>17.530001</td>\n",
       "      <td>17.530001</td>\n",
       "      <td>17.530001</td>\n",
       "      <td>17.530001</td>\n",
       "      <td>1570000</td>\n",
       "    </tr>\n",
       "    <tr>\n",
       "      <th>1950-05-01</th>\n",
       "      <td>18.219999</td>\n",
       "      <td>18.219999</td>\n",
       "      <td>18.219999</td>\n",
       "      <td>18.219999</td>\n",
       "      <td>2390000</td>\n",
       "    </tr>\n",
       "  </tbody>\n",
       "</table>\n",
       "</div>"
      ],
      "text/plain": [
       "                 Open       High        Low      Close   Volume\n",
       "Date                                                           \n",
       "1950-01-01  16.660000  16.660000  16.660000  16.660000  1260000\n",
       "1950-02-01  17.049999  17.049999  17.049999  17.049999  1810000\n",
       "1950-03-01  17.240000  17.240000  17.240000  17.240000  1410000\n",
       "1950-04-01  17.530001  17.530001  17.530001  17.530001  1570000\n",
       "1950-05-01  18.219999  18.219999  18.219999  18.219999  2390000"
      ]
     },
     "execution_count": 16,
     "metadata": {},
     "output_type": "execute_result"
    }
   ],
   "source": [
    "df.head()"
   ]
  },
  {
   "cell_type": "code",
   "execution_count": 17,
   "id": "76cadc38-8ce9-4230-b4ed-fd4be9eee68c",
   "metadata": {},
   "outputs": [
    {
     "data": {
      "image/png": "[encoded data removed]",
      "text/plain": [
       "<Figure size 1368x504 with 1 Axes>"
      ]
     },
     "metadata": {
      "needs_background": "light"
     },
     "output_type": "display_data"
    }
   ],
   "source": [
    "df_plot = df.copy()\n",
    "# df_plot['Date'] = df_plot.index.to_timestamp()\n",
    "\n",
    "plt.figure(figsize=(19,7))\n",
    "sns.lineplot(data=df_plot, x='Date', y='Close')\n",
    "plt.ylabel('Cotización')\n",
    "plt.xlabel('Fecha')\n",
    "plt.xticks(rotation=45)\n",
    "plt.title('SP 500 histórico')\n",
    "plt.show();"
   ]
  },
  {
   "cell_type": "markdown",
   "id": "d772ace7-b172-443c-a248-be2a1349b5a2",
   "metadata": {},
   "source": [
    "## Rentabilidad"
   ]
  },
  {
   "cell_type": "code",
   "execution_count": 18,
   "id": "852d192b-df7f-4437-9d1a-87526ef01712",
   "metadata": {},
   "outputs": [
    {
     "data": {
      "text/plain": [
       "(882, 7)"
      ]
     },
     "execution_count": 18,
     "metadata": {},
     "output_type": "execute_result"
    }
   ],
   "source": [
    "# df.drop('Dividends', axis=1, inplace=True)\n",
    "# df.drop('Stock Splits', axis=1, inplace=True)\n",
    "df['rendimiento_simple_mensual'] = df['Close'] / df['Close'].shift(1) - 1\n",
    "df['rendimiento_log_mensual'] = np.log(df['Close'] / df['Close'].shift(1))\n",
    "df.shape"
   ]
  },
  {
   "cell_type": "code",
   "execution_count": 19,
   "id": "014b7feb-2e0e-4dc0-8753-422eb99a2c7c",
   "metadata": {},
   "outputs": [
    {
     "data": {
      "text/html": [
       "<div>\n",
       "<style scoped>\n",
       "    .dataframe tbody tr th:only-of-type {\n",
       "        vertical-align: middle;\n",
       "    }\n",
       "\n",
       "    .dataframe tbody tr th {\n",
       "        vertical-align: top;\n",
       "    }\n",
       "\n",
       "    .dataframe thead th {\n",
       "        text-align: right;\n",
       "    }\n",
       "</style>\n",
       "<table border=\"1\" class=\"dataframe\">\n",
       "  <thead>\n",
       "    <tr style=\"text-align: right;\">\n",
       "      <th></th>\n",
       "      <th>Open</th>\n",
       "      <th>High</th>\n",
       "      <th>Low</th>\n",
       "      <th>Close</th>\n",
       "      <th>Volume</th>\n",
       "      <th>rendimiento_simple_mensual</th>\n",
       "      <th>rendimiento_log_mensual</th>\n",
       "    </tr>\n",
       "    <tr>\n",
       "      <th>Date</th>\n",
       "      <th></th>\n",
       "      <th></th>\n",
       "      <th></th>\n",
       "      <th></th>\n",
       "      <th></th>\n",
       "      <th></th>\n",
       "      <th></th>\n",
       "    </tr>\n",
       "  </thead>\n",
       "  <tbody>\n",
       "    <tr>\n",
       "      <th>1950-01-01</th>\n",
       "      <td>16.660000</td>\n",
       "      <td>16.660000</td>\n",
       "      <td>16.660000</td>\n",
       "      <td>16.660000</td>\n",
       "      <td>1260000</td>\n",
       "      <td>NaN</td>\n",
       "      <td>NaN</td>\n",
       "    </tr>\n",
       "    <tr>\n",
       "      <th>1950-02-01</th>\n",
       "      <td>17.049999</td>\n",
       "      <td>17.049999</td>\n",
       "      <td>17.049999</td>\n",
       "      <td>17.049999</td>\n",
       "      <td>1810000</td>\n",
       "      <td>0.023409</td>\n",
       "      <td>0.023140</td>\n",
       "    </tr>\n",
       "    <tr>\n",
       "      <th>1950-03-01</th>\n",
       "      <td>17.240000</td>\n",
       "      <td>17.240000</td>\n",
       "      <td>17.240000</td>\n",
       "      <td>17.240000</td>\n",
       "      <td>1410000</td>\n",
       "      <td>0.011144</td>\n",
       "      <td>0.011082</td>\n",
       "    </tr>\n",
       "    <tr>\n",
       "      <th>1950-04-01</th>\n",
       "      <td>17.530001</td>\n",
       "      <td>17.530001</td>\n",
       "      <td>17.530001</td>\n",
       "      <td>17.530001</td>\n",
       "      <td>1570000</td>\n",
       "      <td>0.016821</td>\n",
       "      <td>0.016681</td>\n",
       "    </tr>\n",
       "    <tr>\n",
       "      <th>1950-05-01</th>\n",
       "      <td>18.219999</td>\n",
       "      <td>18.219999</td>\n",
       "      <td>18.219999</td>\n",
       "      <td>18.219999</td>\n",
       "      <td>2390000</td>\n",
       "      <td>0.039361</td>\n",
       "      <td>0.038606</td>\n",
       "    </tr>\n",
       "  </tbody>\n",
       "</table>\n",
       "</div>"
      ],
      "text/plain": [
       "                 Open       High        Low      Close   Volume  \\\n",
       "Date                                                              \n",
       "1950-01-01  16.660000  16.660000  16.660000  16.660000  1260000   \n",
       "1950-02-01  17.049999  17.049999  17.049999  17.049999  1810000   \n",
       "1950-03-01  17.240000  17.240000  17.240000  17.240000  1410000   \n",
       "1950-04-01  17.530001  17.530001  17.530001  17.530001  1570000   \n",
       "1950-05-01  18.219999  18.219999  18.219999  18.219999  2390000   \n",
       "\n",
       "            rendimiento_simple_mensual  rendimiento_log_mensual  \n",
       "Date                                                             \n",
       "1950-01-01                         NaN                      NaN  \n",
       "1950-02-01                    0.023409                 0.023140  \n",
       "1950-03-01                    0.011144                 0.011082  \n",
       "1950-04-01                    0.016821                 0.016681  \n",
       "1950-05-01                    0.039361                 0.038606  "
      ]
     },
     "execution_count": 19,
     "metadata": {},
     "output_type": "execute_result"
    }
   ],
   "source": [
    "df.head()"
   ]
  },
  {
   "cell_type": "code",
   "execution_count": 20,
   "id": "af6112de-1d12-4736-96ea-f22da6b03b3a",
   "metadata": {},
   "outputs": [
    {
     "data": {
      "image/png": "[encoded data removed]",
      "text/plain": [
       "<Figure size 1296x576 with 1 Axes>"
      ]
     },
     "metadata": {
      "needs_background": "light"
     },
     "output_type": "display_data"
    }
   ],
   "source": [
    "df_plot = df[df.index>'2021'].copy()\n",
    "# df_plot['Date'] = df_plot.index.to_timestamp()\n",
    "plt.figure(figsize=(18,8))\n",
    "sns.lineplot(data=df_plot, x='Date', y='rendimiento_simple_mensual', label='rendimiento_simple')\n",
    "sns.lineplot(data=df_plot, x='Date', y='rendimiento_log_mensual', label='rendimiento_log')\n",
    "plt.title('Comparación de rendimiento simple vs rendimiento logarítmico')\n",
    "plt.legend()\n",
    "plt.show();"
   ]
  },
  {
   "cell_type": "code",
   "execution_count": 21,
   "id": "670bb62b-e4d8-44d8-a2ad-f824cdd5ad08",
   "metadata": {},
   "outputs": [
    {
     "data": {
      "text/html": [
       "<div>\n",
       "<style scoped>\n",
       "    .dataframe tbody tr th:only-of-type {\n",
       "        vertical-align: middle;\n",
       "    }\n",
       "\n",
       "    .dataframe tbody tr th {\n",
       "        vertical-align: top;\n",
       "    }\n",
       "\n",
       "    .dataframe thead th {\n",
       "        text-align: right;\n",
       "    }\n",
       "</style>\n",
       "<table border=\"1\" class=\"dataframe\">\n",
       "  <thead>\n",
       "    <tr style=\"text-align: right;\">\n",
       "      <th></th>\n",
       "      <th>Close</th>\n",
       "      <th>rendimiento_simple_mensual</th>\n",
       "    </tr>\n",
       "    <tr>\n",
       "      <th>Date</th>\n",
       "      <th></th>\n",
       "      <th></th>\n",
       "    </tr>\n",
       "  </thead>\n",
       "  <tbody>\n",
       "    <tr>\n",
       "      <th>2023-02-01</th>\n",
       "      <td>4119.209961</td>\n",
       "      <td>0.077160</td>\n",
       "    </tr>\n",
       "    <tr>\n",
       "      <th>2023-03-01</th>\n",
       "      <td>3951.389893</td>\n",
       "      <td>-0.040741</td>\n",
       "    </tr>\n",
       "    <tr>\n",
       "      <th>2023-04-01</th>\n",
       "      <td>4124.509766</td>\n",
       "      <td>0.043812</td>\n",
       "    </tr>\n",
       "    <tr>\n",
       "      <th>2023-05-01</th>\n",
       "      <td>4167.870117</td>\n",
       "      <td>0.010513</td>\n",
       "    </tr>\n",
       "    <tr>\n",
       "      <th>2023-06-01</th>\n",
       "      <td>4221.020020</td>\n",
       "      <td>0.012752</td>\n",
       "    </tr>\n",
       "  </tbody>\n",
       "</table>\n",
       "</div>"
      ],
      "text/plain": [
       "                  Close  rendimiento_simple_mensual\n",
       "Date                                               \n",
       "2023-02-01  4119.209961                    0.077160\n",
       "2023-03-01  3951.389893                   -0.040741\n",
       "2023-04-01  4124.509766                    0.043812\n",
       "2023-05-01  4167.870117                    0.010513\n",
       "2023-06-01  4221.020020                    0.012752"
      ]
     },
     "execution_count": 21,
     "metadata": {},
     "output_type": "execute_result"
    }
   ],
   "source": [
    "df.iloc[-5:][['Close', 'rendimiento_simple_mensual']]"
   ]
  },
  {
   "cell_type": "code",
   "execution_count": 22,
   "id": "2aa0bf8d-7651-4faa-a2ab-d706adf9a093",
   "metadata": {},
   "outputs": [
    {
     "name": "stdout",
     "output_type": "stream",
     "text": [
      "Promedio de retorno mensual: 0.007221148578145905\n"
     ]
    }
   ],
   "source": [
    "media_retorno_aritmetico = df['rendimiento_simple_mensual'].mean()\n",
    "print('Promedio de retorno mensual:', media_retorno_aritmetico)"
   ]
  },
  {
   "cell_type": "code",
   "execution_count": 23,
   "id": "e1f08c03-c55d-48ee-85be-cd9870212fc8",
   "metadata": {},
   "outputs": [
    {
     "data": {
      "text/plain": [
       "16.65999984741211"
      ]
     },
     "execution_count": 23,
     "metadata": {},
     "output_type": "execute_result"
    }
   ],
   "source": [
    "df.iloc[0]['Close']"
   ]
  },
  {
   "cell_type": "code",
   "execution_count": 24,
   "id": "0e4e6455-1809-4f13-9bf4-f981f82d0c7c",
   "metadata": {},
   "outputs": [
    {
     "data": {
      "text/plain": [
       "4221.02001953125"
      ]
     },
     "execution_count": 24,
     "metadata": {},
     "output_type": "execute_result"
    }
   ],
   "source": [
    "df.iloc[-1]['Close']"
   ]
  },
  {
   "cell_type": "code",
   "execution_count": 25,
   "id": "a083929e-ba24-46d9-9459-ed8e841912a8",
   "metadata": {},
   "outputs": [
    {
     "data": {
      "text/plain": [
       "882"
      ]
     },
     "execution_count": 25,
     "metadata": {},
     "output_type": "execute_result"
    }
   ],
   "source": [
    "df.shape[0]"
   ]
  },
  {
   "cell_type": "code",
   "execution_count": 26,
   "id": "6da67f37-1f29-46c4-b133-ed4b533fe903",
   "metadata": {},
   "outputs": [
    {
     "name": "stdout",
     "output_type": "stream",
     "text": [
      "Retorno mensual geométrico: 0.006295038773904915\n"
     ]
    }
   ],
   "source": [
    "media_retorno_geometrico = (df.iloc[-1]['Close'] / df.iloc[0]['Close'])**(1/df.shape[0]) - 1\n",
    "print('Retorno mensual geométrico:', media_retorno_geometrico)"
   ]
  },
  {
   "cell_type": "code",
   "execution_count": 27,
   "id": "bd600ecd-1d7e-4492-bd0a-8acbda3bfe67",
   "metadata": {},
   "outputs": [
    {
     "name": "stdout",
     "output_type": "stream",
     "text": [
      "Calcular retornos con el promedio de retorno aritmético, sobre estima:\n",
      "Aritmético 0.72 %\n",
      "Geométrico 0.63 %\n"
     ]
    }
   ],
   "source": [
    "print('Calcular retornos con el promedio de retorno aritmético, sobre estima:')\n",
    "print('Aritmético', round(media_retorno_aritmetico*100, 2), '%')\n",
    "print('Geométrico', round(media_retorno_geometrico*100, 2), '%')"
   ]
  },
  {
   "cell_type": "code",
   "execution_count": 28,
   "id": "cf501cd4-4396-4b98-93e7-51dc26fd7b1e",
   "metadata": {},
   "outputs": [
    {
     "name": "stdout",
     "output_type": "stream",
     "text": [
      "Cotización final con promedio aritmético: 9501.242352078973\n",
      "Cotización final con promedio geométrico: 4221.020019531098\n",
      "Cotización real: 4221.02001953125\n"
     ]
    }
   ],
   "source": [
    "print('Cotización final con promedio aritmético:', df.iloc[0]['Close'] * (1 + media_retorno_aritmetico)**df.shape[0])\n",
    "print('Cotización final con promedio geométrico:', df.iloc[0]['Close'] * (1 + media_retorno_geometrico)**df.shape[0])\n",
    "print('Cotización real:', df.iloc[-1]['Close'])"
   ]
  },
  {
   "cell_type": "code",
   "execution_count": 29,
   "id": "e81d16dd-4298-41b1-8cfd-95d8726c0258",
   "metadata": {},
   "outputs": [
    {
     "name": "stdout",
     "output_type": "stream",
     "text": [
      "La tasa de retorno en 73.46 años es de 25336.25 %\n"
     ]
    }
   ],
   "source": [
    "valor_inicial = df.iloc[0]['Close']\n",
    "valor_final = df.iloc[-1]['Close']\n",
    "tasa_real_de_retorno = valor_final / valor_inicial\n",
    "print('La tasa de retorno en', round((df.index[-1] - df.index[0]).days / 365, 2), 'años es de', round(tasa_real_de_retorno*100, 2), '%')"
   ]
  },
  {
   "cell_type": "code",
   "execution_count": 30,
   "id": "20e68aab-5cba-4db2-abc7-4e36f009bc6e",
   "metadata": {},
   "outputs": [
    {
     "name": "stdout",
     "output_type": "stream",
     "text": [
      "La tasa de retorno anualizada es de 7.82 %\n"
     ]
    }
   ],
   "source": [
    "total_meses = df.shape[0]\n",
    "meses = 12\n",
    "\n",
    "tasa_anualizada_retorno = (tasa_real_de_retorno)**(meses/total_meses) - 1\n",
    "print('La tasa de retorno anualizada es de', round(tasa_anualizada_retorno*100, 2), '%')"
   ]
  },
  {
   "cell_type": "code",
   "execution_count": 31,
   "id": "6d257c3a-21b0-483b-94ed-66f47757a204",
   "metadata": {},
   "outputs": [
    {
     "name": "stdout",
     "output_type": "stream",
     "text": [
      "Desvío estándar del porcentaje de retorno mensual: 4.265 %\n"
     ]
    }
   ],
   "source": [
    "desv_std = df['rendimiento_simple_mensual'].std()\n",
    "print('Desvío estándar del porcentaje de retorno mensual:', round(desv_std*100, 3), '%')"
   ]
  },
  {
   "cell_type": "code",
   "execution_count": 32,
   "id": "fdcbadb8-f6f0-4802-a967-080c1e822cbf",
   "metadata": {},
   "outputs": [
    {
     "name": "stdout",
     "output_type": "stream",
     "text": [
      "Desvío estándar del porcentaje de retorno mensual anualizado es de 14.775 %\n"
     ]
    }
   ],
   "source": [
    "meses = 12\n",
    "desv_std_anualizado = df['rendimiento_simple_mensual'].std() * (meses**0.5)\n",
    "print('Desvío estándar del porcentaje de retorno mensual anualizado es de', round(desv_std_anualizado*100, 3), '%')"
   ]
  },
  {
   "cell_type": "raw",
   "id": "19858f60-56fc-4cf8-9d93-efff23ff4208",
   "metadata": {},
   "source": [
    "tiempo = 252 # si fueran retornos diarios\n",
    "\n",
    "desv_std_anualizado = df['rendimiento_simple_mensual'].std() * ((tiempo)**0.5)\n",
    "print('Desvío estándar del porcentaje de retorno mensual anualizado es de', round(desv_std_anualizado*100, 3), '%')"
   ]
  },
  {
   "cell_type": "markdown",
   "id": "e9e41c61-0b0a-46b4-903b-0588ae8355d9",
   "metadata": {},
   "source": [
    "## Ratio de Sharpe"
   ]
  },
  {
   "cell_type": "code",
   "execution_count": 33,
   "id": "89f439c3-60d4-416e-a31f-01cb8d179167",
   "metadata": {},
   "outputs": [
    {
     "data": {
      "text/plain": [
       "(0.07821154684197107, 0.14775379535989072)"
      ]
     },
     "execution_count": 33,
     "metadata": {},
     "output_type": "execute_result"
    }
   ],
   "source": [
    "tasa_anualizada_retorno, desv_std_anualizado"
   ]
  },
  {
   "cell_type": "code",
   "execution_count": 34,
   "id": "67199675-0e2a-4870-a796-b6e42a9098fa",
   "metadata": {},
   "outputs": [
    {
     "name": "stdout",
     "output_type": "stream",
     "text": [
      "El rato de Sharpe es: 39.4\n"
     ]
    }
   ],
   "source": [
    "tasa_libre_riesgo = 0.02\n",
    "ratio_sharpe = (tasa_anualizada_retorno - tasa_libre_riesgo) / desv_std_anualizado\n",
    "print('El rato de Sharpe es:', round(ratio_sharpe * 100, 2))"
   ]
  },
  {
   "cell_type": "markdown",
   "id": "486f420b-7b19-46e7-9e45-57a0d9ee0a00",
   "metadata": {
    "tags": []
   },
   "source": [
    "## Intervalo de confianza y Valor Riesgo (VaR)"
   ]
  },
  {
   "cell_type": "code",
   "execution_count": 35,
   "id": "c538177e-832b-415b-9e1b-04d60607fffe",
   "metadata": {},
   "outputs": [
    {
     "data": {
      "text/plain": [
       "(0.007221148578145905,\n",
       " 0.006295038773904915,\n",
       " 0.04265284676241089,\n",
       " 0.14775379535989072)"
      ]
     },
     "execution_count": 35,
     "metadata": {},
     "output_type": "execute_result"
    }
   ],
   "source": [
    "media_retorno_aritmetico, media_retorno_geometrico, desv_std, desv_std_anualizado"
   ]
  },
  {
   "cell_type": "code",
   "execution_count": 36,
   "id": "11227f2e-695a-47bf-8454-f250236f058d",
   "metadata": {},
   "outputs": [
    {
     "name": "stdout",
     "output_type": "stream",
     "text": [
      "El 95% de los meses, el retorno de S&P500 estará entre -7.9 % y 9.16 %\n"
     ]
    }
   ],
   "source": [
    "dsv_std_2_neg = media_retorno_geometrico - (df['rendimiento_simple_mensual'].std() * 2)\n",
    "dsv_std_2_pos = media_retorno_geometrico + (df['rendimiento_simple_mensual'].std() * 2)\n",
    "\n",
    "print('El 95% de los meses, el retorno de S&P500 estará entre', round(dsv_std_2_neg*100, 2), '% y', round(dsv_std_2_pos*100, 2), '%')"
   ]
  },
  {
   "cell_type": "code",
   "execution_count": 37,
   "id": "2ca79a0f-8153-4a8c-b6ef-0ea96d50932f",
   "metadata": {},
   "outputs": [
    {
     "name": "stdout",
     "output_type": "stream",
     "text": [
      "El 95% de los meses, el retorno de S&P500 estará entre -7.9 % y 9.16 %\n"
     ]
    }
   ],
   "source": [
    "dsv_std_2_neg = media_retorno_geometrico - (desv_std * 2)\n",
    "dsv_std_2_pos = media_retorno_geometrico + (desv_std * 2)\n",
    "\n",
    "print('El 95% de los meses, el retorno de S&P500 estará entre', round(dsv_std_2_neg*100, 2), '% y', round(dsv_std_2_pos*100, 2), '%')"
   ]
  },
  {
   "cell_type": "markdown",
   "id": "744a91ad-a4db-4e17-9890-6c447d74bacc",
   "metadata": {},
   "source": [
    "---"
   ]
  },
  {
   "cell_type": "raw",
   "id": "eb84073a-538e-4631-a0b6-2663b222b4f4",
   "metadata": {},
   "source": [
    "ticklers_list = ['GC=F', 'SI=F']\n",
    "files_list = []\n",
    "\n",
    "for ticker in ticklers_list:\n",
    "    t = yf.Ticker(ticker)\n",
    "    temp_df = t.history(period='max')\n",
    "    print(ticker, 'shape:', temp_df.shape )\n",
    "    \n",
    "    rnd_nro = str(random.randint(100,999))\n",
    "    time_code = datetime.today().strftime('%Y%m%d_%H%M')\n",
    "    file_name = time_code + '_' + ticker + '_' + rnd_nro + '.pkl'\n",
    "    temp_df.to_pickle(path + file_name)\n",
    "    files_list.append(file_name)\n",
    "    print(file_name)"
   ]
  },
  {
   "cell_type": "code",
   "execution_count": 38,
   "id": "173ef096-3621-49b3-99e8-7f40c8f2b8f3",
   "metadata": {},
   "outputs": [],
   "source": [
    "gold_file = '20230611_0158_GC=F_544.pkl'\n",
    "silver_file = '20230611_0158_SI=F_550.pkl'"
   ]
  },
  {
   "cell_type": "code",
   "execution_count": 39,
   "id": "177299e4-5514-4410-be0b-b9d5920204e3",
   "metadata": {},
   "outputs": [
    {
     "data": {
      "text/plain": [
       "(5716, 7)"
      ]
     },
     "execution_count": 39,
     "metadata": {},
     "output_type": "execute_result"
    }
   ],
   "source": [
    "gold = pd.read_pickle(path + gold_file)\n",
    "gold.shape"
   ]
  },
  {
   "cell_type": "code",
   "execution_count": 40,
   "id": "ff6a960c-7f45-4645-97e8-fcf81d7cc988",
   "metadata": {},
   "outputs": [
    {
     "data": {
      "text/html": [
       "<div>\n",
       "<style scoped>\n",
       "    .dataframe tbody tr th:only-of-type {\n",
       "        vertical-align: middle;\n",
       "    }\n",
       "\n",
       "    .dataframe tbody tr th {\n",
       "        vertical-align: top;\n",
       "    }\n",
       "\n",
       "    .dataframe thead th {\n",
       "        text-align: right;\n",
       "    }\n",
       "</style>\n",
       "<table border=\"1\" class=\"dataframe\">\n",
       "  <thead>\n",
       "    <tr style=\"text-align: right;\">\n",
       "      <th></th>\n",
       "      <th>Open</th>\n",
       "      <th>High</th>\n",
       "      <th>Low</th>\n",
       "      <th>Close</th>\n",
       "      <th>Volume</th>\n",
       "      <th>Dividends</th>\n",
       "      <th>Stock Splits</th>\n",
       "    </tr>\n",
       "    <tr>\n",
       "      <th>Date</th>\n",
       "      <th></th>\n",
       "      <th></th>\n",
       "      <th></th>\n",
       "      <th></th>\n",
       "      <th></th>\n",
       "      <th></th>\n",
       "      <th></th>\n",
       "    </tr>\n",
       "  </thead>\n",
       "  <tbody>\n",
       "    <tr>\n",
       "      <th>2000-08-30</th>\n",
       "      <td>273.899994</td>\n",
       "      <td>273.899994</td>\n",
       "      <td>273.899994</td>\n",
       "      <td>273.899994</td>\n",
       "      <td>0</td>\n",
       "      <td>0</td>\n",
       "      <td>0</td>\n",
       "    </tr>\n",
       "    <tr>\n",
       "      <th>2000-08-31</th>\n",
       "      <td>274.799988</td>\n",
       "      <td>278.299988</td>\n",
       "      <td>274.799988</td>\n",
       "      <td>278.299988</td>\n",
       "      <td>0</td>\n",
       "      <td>0</td>\n",
       "      <td>0</td>\n",
       "    </tr>\n",
       "    <tr>\n",
       "      <th>2000-09-01</th>\n",
       "      <td>277.000000</td>\n",
       "      <td>277.000000</td>\n",
       "      <td>277.000000</td>\n",
       "      <td>277.000000</td>\n",
       "      <td>0</td>\n",
       "      <td>0</td>\n",
       "      <td>0</td>\n",
       "    </tr>\n",
       "    <tr>\n",
       "      <th>2000-09-05</th>\n",
       "      <td>275.799988</td>\n",
       "      <td>275.799988</td>\n",
       "      <td>275.799988</td>\n",
       "      <td>275.799988</td>\n",
       "      <td>2</td>\n",
       "      <td>0</td>\n",
       "      <td>0</td>\n",
       "    </tr>\n",
       "    <tr>\n",
       "      <th>2000-09-06</th>\n",
       "      <td>274.200012</td>\n",
       "      <td>274.200012</td>\n",
       "      <td>274.200012</td>\n",
       "      <td>274.200012</td>\n",
       "      <td>0</td>\n",
       "      <td>0</td>\n",
       "      <td>0</td>\n",
       "    </tr>\n",
       "    <tr>\n",
       "      <th>...</th>\n",
       "      <td>...</td>\n",
       "      <td>...</td>\n",
       "      <td>...</td>\n",
       "      <td>...</td>\n",
       "      <td>...</td>\n",
       "      <td>...</td>\n",
       "      <td>...</td>\n",
       "    </tr>\n",
       "    <tr>\n",
       "      <th>2023-06-05</th>\n",
       "      <td>1947.500000</td>\n",
       "      <td>1961.900024</td>\n",
       "      <td>1937.800049</td>\n",
       "      <td>1958.000000</td>\n",
       "      <td>713</td>\n",
       "      <td>0</td>\n",
       "      <td>0</td>\n",
       "    </tr>\n",
       "    <tr>\n",
       "      <th>2023-06-06</th>\n",
       "      <td>1960.800049</td>\n",
       "      <td>1965.500000</td>\n",
       "      <td>1958.800049</td>\n",
       "      <td>1965.500000</td>\n",
       "      <td>164</td>\n",
       "      <td>0</td>\n",
       "      <td>0</td>\n",
       "    </tr>\n",
       "    <tr>\n",
       "      <th>2023-06-07</th>\n",
       "      <td>1959.000000</td>\n",
       "      <td>1968.400024</td>\n",
       "      <td>1940.699951</td>\n",
       "      <td>1942.699951</td>\n",
       "      <td>139</td>\n",
       "      <td>0</td>\n",
       "      <td>0</td>\n",
       "    </tr>\n",
       "    <tr>\n",
       "      <th>2023-06-08</th>\n",
       "      <td>1943.199951</td>\n",
       "      <td>1969.000000</td>\n",
       "      <td>1943.099976</td>\n",
       "      <td>1963.599976</td>\n",
       "      <td>433</td>\n",
       "      <td>0</td>\n",
       "      <td>0</td>\n",
       "    </tr>\n",
       "    <tr>\n",
       "      <th>2023-06-09</th>\n",
       "      <td>1980.500000</td>\n",
       "      <td>1987.800049</td>\n",
       "      <td>1971.000000</td>\n",
       "      <td>1975.699951</td>\n",
       "      <td>127618</td>\n",
       "      <td>0</td>\n",
       "      <td>0</td>\n",
       "    </tr>\n",
       "  </tbody>\n",
       "</table>\n",
       "<p>5716 rows × 7 columns</p>\n",
       "</div>"
      ],
      "text/plain": [
       "                   Open         High          Low        Close  Volume  \\\n",
       "Date                                                                     \n",
       "2000-08-30   273.899994   273.899994   273.899994   273.899994       0   \n",
       "2000-08-31   274.799988   278.299988   274.799988   278.299988       0   \n",
       "2000-09-01   277.000000   277.000000   277.000000   277.000000       0   \n",
       "2000-09-05   275.799988   275.799988   275.799988   275.799988       2   \n",
       "2000-09-06   274.200012   274.200012   274.200012   274.200012       0   \n",
       "...                 ...          ...          ...          ...     ...   \n",
       "2023-06-05  1947.500000  1961.900024  1937.800049  1958.000000     713   \n",
       "2023-06-06  1960.800049  1965.500000  1958.800049  1965.500000     164   \n",
       "2023-06-07  1959.000000  1968.400024  1940.699951  1942.699951     139   \n",
       "2023-06-08  1943.199951  1969.000000  1943.099976  1963.599976     433   \n",
       "2023-06-09  1980.500000  1987.800049  1971.000000  1975.699951  127618   \n",
       "\n",
       "            Dividends  Stock Splits  \n",
       "Date                                 \n",
       "2000-08-30          0             0  \n",
       "2000-08-31          0             0  \n",
       "2000-09-01          0             0  \n",
       "2000-09-05          0             0  \n",
       "2000-09-06          0             0  \n",
       "...               ...           ...  \n",
       "2023-06-05          0             0  \n",
       "2023-06-06          0             0  \n",
       "2023-06-07          0             0  \n",
       "2023-06-08          0             0  \n",
       "2023-06-09          0             0  \n",
       "\n",
       "[5716 rows x 7 columns]"
      ]
     },
     "execution_count": 40,
     "metadata": {},
     "output_type": "execute_result"
    }
   ],
   "source": [
    "gold"
   ]
  },
  {
   "cell_type": "code",
   "execution_count": 41,
   "id": "9699b95f-e15e-4305-9161-65d569042245",
   "metadata": {},
   "outputs": [
    {
     "data": {
      "text/plain": [
       "(275, 7)"
      ]
     },
     "execution_count": 41,
     "metadata": {},
     "output_type": "execute_result"
    }
   ],
   "source": [
    "gold = gold.resample('M').first()\n",
    "gold.index = gold.index.to_period('M')\n",
    "gold.shape"
   ]
  },
  {
   "cell_type": "code",
   "execution_count": 42,
   "id": "ac3fb332-46ff-40c9-a373-f5fefa4b5863",
   "metadata": {},
   "outputs": [
    {
     "data": {
      "text/html": [
       "<div>\n",
       "<style scoped>\n",
       "    .dataframe tbody tr th:only-of-type {\n",
       "        vertical-align: middle;\n",
       "    }\n",
       "\n",
       "    .dataframe tbody tr th {\n",
       "        vertical-align: top;\n",
       "    }\n",
       "\n",
       "    .dataframe thead th {\n",
       "        text-align: right;\n",
       "    }\n",
       "</style>\n",
       "<table border=\"1\" class=\"dataframe\">\n",
       "  <thead>\n",
       "    <tr style=\"text-align: right;\">\n",
       "      <th></th>\n",
       "      <th>Open</th>\n",
       "      <th>High</th>\n",
       "      <th>Low</th>\n",
       "      <th>Close</th>\n",
       "      <th>Volume</th>\n",
       "      <th>Dividends</th>\n",
       "      <th>Stock Splits</th>\n",
       "    </tr>\n",
       "    <tr>\n",
       "      <th>Date</th>\n",
       "      <th></th>\n",
       "      <th></th>\n",
       "      <th></th>\n",
       "      <th></th>\n",
       "      <th></th>\n",
       "      <th></th>\n",
       "      <th></th>\n",
       "    </tr>\n",
       "  </thead>\n",
       "  <tbody>\n",
       "    <tr>\n",
       "      <th>2000-08</th>\n",
       "      <td>273.899994</td>\n",
       "      <td>273.899994</td>\n",
       "      <td>273.899994</td>\n",
       "      <td>273.899994</td>\n",
       "      <td>0</td>\n",
       "      <td>0</td>\n",
       "      <td>0</td>\n",
       "    </tr>\n",
       "    <tr>\n",
       "      <th>2000-09</th>\n",
       "      <td>277.000000</td>\n",
       "      <td>277.000000</td>\n",
       "      <td>277.000000</td>\n",
       "      <td>277.000000</td>\n",
       "      <td>0</td>\n",
       "      <td>0</td>\n",
       "      <td>0</td>\n",
       "    </tr>\n",
       "    <tr>\n",
       "      <th>2000-10</th>\n",
       "      <td>272.799988</td>\n",
       "      <td>273.500000</td>\n",
       "      <td>272.500000</td>\n",
       "      <td>273.100006</td>\n",
       "      <td>161</td>\n",
       "      <td>0</td>\n",
       "      <td>0</td>\n",
       "    </tr>\n",
       "    <tr>\n",
       "      <th>2000-11</th>\n",
       "      <td>263.899994</td>\n",
       "      <td>263.899994</td>\n",
       "      <td>263.899994</td>\n",
       "      <td>263.899994</td>\n",
       "      <td>0</td>\n",
       "      <td>0</td>\n",
       "      <td>0</td>\n",
       "    </tr>\n",
       "    <tr>\n",
       "      <th>2000-12</th>\n",
       "      <td>269.700012</td>\n",
       "      <td>272.000000</td>\n",
       "      <td>268.500000</td>\n",
       "      <td>268.700012</td>\n",
       "      <td>332</td>\n",
       "      <td>0</td>\n",
       "      <td>0</td>\n",
       "    </tr>\n",
       "    <tr>\n",
       "      <th>...</th>\n",
       "      <td>...</td>\n",
       "      <td>...</td>\n",
       "      <td>...</td>\n",
       "      <td>...</td>\n",
       "      <td>...</td>\n",
       "      <td>...</td>\n",
       "      <td>...</td>\n",
       "    </tr>\n",
       "    <tr>\n",
       "      <th>2023-02</th>\n",
       "      <td>1927.199951</td>\n",
       "      <td>1955.000000</td>\n",
       "      <td>1922.000000</td>\n",
       "      <td>1927.800049</td>\n",
       "      <td>2290</td>\n",
       "      <td>0</td>\n",
       "      <td>0</td>\n",
       "    </tr>\n",
       "    <tr>\n",
       "      <th>2023-03</th>\n",
       "      <td>1827.099976</td>\n",
       "      <td>1841.699951</td>\n",
       "      <td>1827.099976</td>\n",
       "      <td>1837.699951</td>\n",
       "      <td>211</td>\n",
       "      <td>0</td>\n",
       "      <td>0</td>\n",
       "    </tr>\n",
       "    <tr>\n",
       "      <th>2023-04</th>\n",
       "      <td>1968.099976</td>\n",
       "      <td>1991.699951</td>\n",
       "      <td>1950.000000</td>\n",
       "      <td>1983.900024</td>\n",
       "      <td>737</td>\n",
       "      <td>0</td>\n",
       "      <td>0</td>\n",
       "    </tr>\n",
       "    <tr>\n",
       "      <th>2023-05</th>\n",
       "      <td>1980.099976</td>\n",
       "      <td>2005.000000</td>\n",
       "      <td>1976.900024</td>\n",
       "      <td>1983.400024</td>\n",
       "      <td>210</td>\n",
       "      <td>0</td>\n",
       "      <td>0</td>\n",
       "    </tr>\n",
       "    <tr>\n",
       "      <th>2023-06</th>\n",
       "      <td>1963.199951</td>\n",
       "      <td>1983.000000</td>\n",
       "      <td>1954.300049</td>\n",
       "      <td>1978.000000</td>\n",
       "      <td>750</td>\n",
       "      <td>0</td>\n",
       "      <td>0</td>\n",
       "    </tr>\n",
       "  </tbody>\n",
       "</table>\n",
       "<p>275 rows × 7 columns</p>\n",
       "</div>"
      ],
      "text/plain": [
       "                Open         High          Low        Close  Volume  \\\n",
       "Date                                                                  \n",
       "2000-08   273.899994   273.899994   273.899994   273.899994       0   \n",
       "2000-09   277.000000   277.000000   277.000000   277.000000       0   \n",
       "2000-10   272.799988   273.500000   272.500000   273.100006     161   \n",
       "2000-11   263.899994   263.899994   263.899994   263.899994       0   \n",
       "2000-12   269.700012   272.000000   268.500000   268.700012     332   \n",
       "...              ...          ...          ...          ...     ...   \n",
       "2023-02  1927.199951  1955.000000  1922.000000  1927.800049    2290   \n",
       "2023-03  1827.099976  1841.699951  1827.099976  1837.699951     211   \n",
       "2023-04  1968.099976  1991.699951  1950.000000  1983.900024     737   \n",
       "2023-05  1980.099976  2005.000000  1976.900024  1983.400024     210   \n",
       "2023-06  1963.199951  1983.000000  1954.300049  1978.000000     750   \n",
       "\n",
       "         Dividends  Stock Splits  \n",
       "Date                              \n",
       "2000-08          0             0  \n",
       "2000-09          0             0  \n",
       "2000-10          0             0  \n",
       "2000-11          0             0  \n",
       "2000-12          0             0  \n",
       "...            ...           ...  \n",
       "2023-02          0             0  \n",
       "2023-03          0             0  \n",
       "2023-04          0             0  \n",
       "2023-05          0             0  \n",
       "2023-06          0             0  \n",
       "\n",
       "[275 rows x 7 columns]"
      ]
     },
     "execution_count": 42,
     "metadata": {},
     "output_type": "execute_result"
    }
   ],
   "source": [
    "gold"
   ]
  },
  {
   "cell_type": "code",
   "execution_count": 43,
   "id": "20d2f69e-6f76-4c6f-b31d-5529bf0ab9db",
   "metadata": {},
   "outputs": [
    {
     "data": {
      "text/plain": [
       "(5716, 7)"
      ]
     },
     "execution_count": 43,
     "metadata": {},
     "output_type": "execute_result"
    }
   ],
   "source": [
    "silver = pd.read_pickle(path + silver_file)\n",
    "silver.shape"
   ]
  },
  {
   "cell_type": "code",
   "execution_count": 44,
   "id": "6b709056-5f79-42d2-83b3-9036a51852b0",
   "metadata": {},
   "outputs": [
    {
     "data": {
      "text/html": [
       "<div>\n",
       "<style scoped>\n",
       "    .dataframe tbody tr th:only-of-type {\n",
       "        vertical-align: middle;\n",
       "    }\n",
       "\n",
       "    .dataframe tbody tr th {\n",
       "        vertical-align: top;\n",
       "    }\n",
       "\n",
       "    .dataframe thead th {\n",
       "        text-align: right;\n",
       "    }\n",
       "</style>\n",
       "<table border=\"1\" class=\"dataframe\">\n",
       "  <thead>\n",
       "    <tr style=\"text-align: right;\">\n",
       "      <th></th>\n",
       "      <th>Open</th>\n",
       "      <th>High</th>\n",
       "      <th>Low</th>\n",
       "      <th>Close</th>\n",
       "      <th>Volume</th>\n",
       "      <th>Dividends</th>\n",
       "      <th>Stock Splits</th>\n",
       "    </tr>\n",
       "    <tr>\n",
       "      <th>Date</th>\n",
       "      <th></th>\n",
       "      <th></th>\n",
       "      <th></th>\n",
       "      <th></th>\n",
       "      <th></th>\n",
       "      <th></th>\n",
       "      <th></th>\n",
       "    </tr>\n",
       "  </thead>\n",
       "  <tbody>\n",
       "    <tr>\n",
       "      <th>2000-08-30</th>\n",
       "      <td>4.950000</td>\n",
       "      <td>4.950000</td>\n",
       "      <td>4.895000</td>\n",
       "      <td>4.930000</td>\n",
       "      <td>2319</td>\n",
       "      <td>0</td>\n",
       "      <td>0</td>\n",
       "    </tr>\n",
       "    <tr>\n",
       "      <th>2000-08-31</th>\n",
       "      <td>4.920000</td>\n",
       "      <td>5.045000</td>\n",
       "      <td>4.920000</td>\n",
       "      <td>5.003000</td>\n",
       "      <td>1612</td>\n",
       "      <td>0</td>\n",
       "      <td>0</td>\n",
       "    </tr>\n",
       "    <tr>\n",
       "      <th>2000-09-01</th>\n",
       "      <td>5.035000</td>\n",
       "      <td>5.035000</td>\n",
       "      <td>4.985000</td>\n",
       "      <td>5.004000</td>\n",
       "      <td>1375</td>\n",
       "      <td>0</td>\n",
       "      <td>0</td>\n",
       "    </tr>\n",
       "    <tr>\n",
       "      <th>2000-09-05</th>\n",
       "      <td>4.990000</td>\n",
       "      <td>5.005000</td>\n",
       "      <td>4.975000</td>\n",
       "      <td>4.998000</td>\n",
       "      <td>856</td>\n",
       "      <td>0</td>\n",
       "      <td>0</td>\n",
       "    </tr>\n",
       "    <tr>\n",
       "      <th>2000-09-06</th>\n",
       "      <td>5.000000</td>\n",
       "      <td>5.000000</td>\n",
       "      <td>4.980000</td>\n",
       "      <td>4.983000</td>\n",
       "      <td>232</td>\n",
       "      <td>0</td>\n",
       "      <td>0</td>\n",
       "    </tr>\n",
       "    <tr>\n",
       "      <th>...</th>\n",
       "      <td>...</td>\n",
       "      <td>...</td>\n",
       "      <td>...</td>\n",
       "      <td>...</td>\n",
       "      <td>...</td>\n",
       "      <td>...</td>\n",
       "      <td>...</td>\n",
       "    </tr>\n",
       "    <tr>\n",
       "      <th>2023-06-05</th>\n",
       "      <td>23.534000</td>\n",
       "      <td>23.534000</td>\n",
       "      <td>23.534000</td>\n",
       "      <td>23.534000</td>\n",
       "      <td>0</td>\n",
       "      <td>0</td>\n",
       "      <td>0</td>\n",
       "    </tr>\n",
       "    <tr>\n",
       "      <th>2023-06-06</th>\n",
       "      <td>23.573999</td>\n",
       "      <td>23.573999</td>\n",
       "      <td>23.573999</td>\n",
       "      <td>23.573999</td>\n",
       "      <td>62</td>\n",
       "      <td>0</td>\n",
       "      <td>0</td>\n",
       "    </tr>\n",
       "    <tr>\n",
       "      <th>2023-06-07</th>\n",
       "      <td>23.438999</td>\n",
       "      <td>23.438999</td>\n",
       "      <td>23.438999</td>\n",
       "      <td>23.438999</td>\n",
       "      <td>0</td>\n",
       "      <td>0</td>\n",
       "      <td>0</td>\n",
       "    </tr>\n",
       "    <tr>\n",
       "      <th>2023-06-08</th>\n",
       "      <td>23.520000</td>\n",
       "      <td>24.264000</td>\n",
       "      <td>23.520000</td>\n",
       "      <td>24.264000</td>\n",
       "      <td>4</td>\n",
       "      <td>0</td>\n",
       "      <td>0</td>\n",
       "    </tr>\n",
       "    <tr>\n",
       "      <th>2023-06-09</th>\n",
       "      <td>24.360001</td>\n",
       "      <td>24.620001</td>\n",
       "      <td>24.280001</td>\n",
       "      <td>24.395000</td>\n",
       "      <td>61691</td>\n",
       "      <td>0</td>\n",
       "      <td>0</td>\n",
       "    </tr>\n",
       "  </tbody>\n",
       "</table>\n",
       "<p>5716 rows × 7 columns</p>\n",
       "</div>"
      ],
      "text/plain": [
       "                 Open       High        Low      Close  Volume  Dividends  \\\n",
       "Date                                                                        \n",
       "2000-08-30   4.950000   4.950000   4.895000   4.930000    2319          0   \n",
       "2000-08-31   4.920000   5.045000   4.920000   5.003000    1612          0   \n",
       "2000-09-01   5.035000   5.035000   4.985000   5.004000    1375          0   \n",
       "2000-09-05   4.990000   5.005000   4.975000   4.998000     856          0   \n",
       "2000-09-06   5.000000   5.000000   4.980000   4.983000     232          0   \n",
       "...               ...        ...        ...        ...     ...        ...   \n",
       "2023-06-05  23.534000  23.534000  23.534000  23.534000       0          0   \n",
       "2023-06-06  23.573999  23.573999  23.573999  23.573999      62          0   \n",
       "2023-06-07  23.438999  23.438999  23.438999  23.438999       0          0   \n",
       "2023-06-08  23.520000  24.264000  23.520000  24.264000       4          0   \n",
       "2023-06-09  24.360001  24.620001  24.280001  24.395000   61691          0   \n",
       "\n",
       "            Stock Splits  \n",
       "Date                      \n",
       "2000-08-30             0  \n",
       "2000-08-31             0  \n",
       "2000-09-01             0  \n",
       "2000-09-05             0  \n",
       "2000-09-06             0  \n",
       "...                  ...  \n",
       "2023-06-05             0  \n",
       "2023-06-06             0  \n",
       "2023-06-07             0  \n",
       "2023-06-08             0  \n",
       "2023-06-09             0  \n",
       "\n",
       "[5716 rows x 7 columns]"
      ]
     },
     "execution_count": 44,
     "metadata": {},
     "output_type": "execute_result"
    }
   ],
   "source": [
    "silver"
   ]
  },
  {
   "cell_type": "code",
   "execution_count": 45,
   "id": "22d536d3-62c0-485e-89b4-37b4e958ee68",
   "metadata": {},
   "outputs": [
    {
     "data": {
      "text/plain": [
       "(275, 7)"
      ]
     },
     "execution_count": 45,
     "metadata": {},
     "output_type": "execute_result"
    }
   ],
   "source": [
    "silver = silver.resample('M').first()\n",
    "silver.index = silver.index.to_period('M')\n",
    "silver.shape"
   ]
  },
  {
   "cell_type": "code",
   "execution_count": 46,
   "id": "7895dd63-dacc-4153-8b9f-10a98846b183",
   "metadata": {},
   "outputs": [
    {
     "data": {
      "text/html": [
       "<div>\n",
       "<style scoped>\n",
       "    .dataframe tbody tr th:only-of-type {\n",
       "        vertical-align: middle;\n",
       "    }\n",
       "\n",
       "    .dataframe tbody tr th {\n",
       "        vertical-align: top;\n",
       "    }\n",
       "\n",
       "    .dataframe thead th {\n",
       "        text-align: right;\n",
       "    }\n",
       "</style>\n",
       "<table border=\"1\" class=\"dataframe\">\n",
       "  <thead>\n",
       "    <tr style=\"text-align: right;\">\n",
       "      <th></th>\n",
       "      <th>Open</th>\n",
       "      <th>High</th>\n",
       "      <th>Low</th>\n",
       "      <th>Close</th>\n",
       "      <th>Volume</th>\n",
       "      <th>Dividends</th>\n",
       "      <th>Stock Splits</th>\n",
       "    </tr>\n",
       "    <tr>\n",
       "      <th>Date</th>\n",
       "      <th></th>\n",
       "      <th></th>\n",
       "      <th></th>\n",
       "      <th></th>\n",
       "      <th></th>\n",
       "      <th></th>\n",
       "      <th></th>\n",
       "    </tr>\n",
       "  </thead>\n",
       "  <tbody>\n",
       "    <tr>\n",
       "      <th>2000-08</th>\n",
       "      <td>4.950000</td>\n",
       "      <td>4.950000</td>\n",
       "      <td>4.895000</td>\n",
       "      <td>4.930000</td>\n",
       "      <td>2319</td>\n",
       "      <td>0</td>\n",
       "      <td>0</td>\n",
       "    </tr>\n",
       "    <tr>\n",
       "      <th>2000-09</th>\n",
       "      <td>5.035000</td>\n",
       "      <td>5.035000</td>\n",
       "      <td>4.985000</td>\n",
       "      <td>5.004000</td>\n",
       "      <td>1375</td>\n",
       "      <td>0</td>\n",
       "      <td>0</td>\n",
       "    </tr>\n",
       "    <tr>\n",
       "      <th>2000-10</th>\n",
       "      <td>4.906000</td>\n",
       "      <td>4.906000</td>\n",
       "      <td>4.906000</td>\n",
       "      <td>4.906000</td>\n",
       "      <td>0</td>\n",
       "      <td>0</td>\n",
       "      <td>0</td>\n",
       "    </tr>\n",
       "    <tr>\n",
       "      <th>2000-11</th>\n",
       "      <td>4.774000</td>\n",
       "      <td>4.774000</td>\n",
       "      <td>4.774000</td>\n",
       "      <td>4.774000</td>\n",
       "      <td>0</td>\n",
       "      <td>0</td>\n",
       "      <td>0</td>\n",
       "    </tr>\n",
       "    <tr>\n",
       "      <th>2000-12</th>\n",
       "      <td>4.675000</td>\n",
       "      <td>4.685000</td>\n",
       "      <td>4.640000</td>\n",
       "      <td>4.640000</td>\n",
       "      <td>208</td>\n",
       "      <td>0</td>\n",
       "      <td>0</td>\n",
       "    </tr>\n",
       "    <tr>\n",
       "      <th>...</th>\n",
       "      <td>...</td>\n",
       "      <td>...</td>\n",
       "      <td>...</td>\n",
       "      <td>...</td>\n",
       "      <td>...</td>\n",
       "      <td>...</td>\n",
       "      <td>...</td>\n",
       "    </tr>\n",
       "    <tr>\n",
       "      <th>2023-02</th>\n",
       "      <td>23.520000</td>\n",
       "      <td>23.834999</td>\n",
       "      <td>23.510000</td>\n",
       "      <td>23.521000</td>\n",
       "      <td>12</td>\n",
       "      <td>0</td>\n",
       "      <td>0</td>\n",
       "    </tr>\n",
       "    <tr>\n",
       "      <th>2023-03</th>\n",
       "      <td>20.879999</td>\n",
       "      <td>21.150000</td>\n",
       "      <td>20.879999</td>\n",
       "      <td>20.959000</td>\n",
       "      <td>577</td>\n",
       "      <td>0</td>\n",
       "      <td>0</td>\n",
       "    </tr>\n",
       "    <tr>\n",
       "      <th>2023-04</th>\n",
       "      <td>23.725000</td>\n",
       "      <td>24.070000</td>\n",
       "      <td>23.695000</td>\n",
       "      <td>23.941000</td>\n",
       "      <td>26</td>\n",
       "      <td>0</td>\n",
       "      <td>0</td>\n",
       "    </tr>\n",
       "    <tr>\n",
       "      <th>2023-05</th>\n",
       "      <td>25.070000</td>\n",
       "      <td>25.959999</td>\n",
       "      <td>25.009001</td>\n",
       "      <td>25.009001</td>\n",
       "      <td>452</td>\n",
       "      <td>0</td>\n",
       "      <td>0</td>\n",
       "    </tr>\n",
       "    <tr>\n",
       "      <th>2023-06</th>\n",
       "      <td>23.875000</td>\n",
       "      <td>23.875000</td>\n",
       "      <td>23.875000</td>\n",
       "      <td>23.875000</td>\n",
       "      <td>92</td>\n",
       "      <td>0</td>\n",
       "      <td>0</td>\n",
       "    </tr>\n",
       "  </tbody>\n",
       "</table>\n",
       "<p>275 rows × 7 columns</p>\n",
       "</div>"
      ],
      "text/plain": [
       "              Open       High        Low      Close  Volume  Dividends  \\\n",
       "Date                                                                     \n",
       "2000-08   4.950000   4.950000   4.895000   4.930000    2319          0   \n",
       "2000-09   5.035000   5.035000   4.985000   5.004000    1375          0   \n",
       "2000-10   4.906000   4.906000   4.906000   4.906000       0          0   \n",
       "2000-11   4.774000   4.774000   4.774000   4.774000       0          0   \n",
       "2000-12   4.675000   4.685000   4.640000   4.640000     208          0   \n",
       "...            ...        ...        ...        ...     ...        ...   \n",
       "2023-02  23.520000  23.834999  23.510000  23.521000      12          0   \n",
       "2023-03  20.879999  21.150000  20.879999  20.959000     577          0   \n",
       "2023-04  23.725000  24.070000  23.695000  23.941000      26          0   \n",
       "2023-05  25.070000  25.959999  25.009001  25.009001     452          0   \n",
       "2023-06  23.875000  23.875000  23.875000  23.875000      92          0   \n",
       "\n",
       "         Stock Splits  \n",
       "Date                   \n",
       "2000-08             0  \n",
       "2000-09             0  \n",
       "2000-10             0  \n",
       "2000-11             0  \n",
       "2000-12             0  \n",
       "...               ...  \n",
       "2023-02             0  \n",
       "2023-03             0  \n",
       "2023-04             0  \n",
       "2023-05             0  \n",
       "2023-06             0  \n",
       "\n",
       "[275 rows x 7 columns]"
      ]
     },
     "execution_count": 46,
     "metadata": {},
     "output_type": "execute_result"
    }
   ],
   "source": [
    "silver"
   ]
  },
  {
   "cell_type": "code",
   "execution_count": 47,
   "id": "8efc6958-bd00-47ef-9ddd-aa262750cdf2",
   "metadata": {},
   "outputs": [
    {
     "data": {
      "text/plain": [
       "0"
      ]
     },
     "execution_count": 47,
     "metadata": {},
     "output_type": "execute_result"
    }
   ],
   "source": [
    "(gold.index != silver.index).sum()"
   ]
  },
  {
   "cell_type": "code",
   "execution_count": 48,
   "id": "ad04f44f-d13b-45e1-bea1-ac99a21032cc",
   "metadata": {},
   "outputs": [
    {
     "data": {
      "text/plain": [
       "(array([0], dtype=int64),\n",
       " array([0], dtype=int64),\n",
       " array([0], dtype=int64),\n",
       " array([0], dtype=int64))"
      ]
     },
     "execution_count": 48,
     "metadata": {},
     "output_type": "execute_result"
    }
   ],
   "source": [
    "gold['Dividends'].unique(), gold['Stock Splits'].unique(), silver['Dividends'].unique(), silver['Stock Splits'].unique()"
   ]
  },
  {
   "cell_type": "code",
   "execution_count": 49,
   "id": "5a246b94-9fe4-48c0-8ea3-07bf6f61b9ee",
   "metadata": {},
   "outputs": [
    {
     "data": {
      "text/plain": [
       "Index(['Open', 'High', 'Low', 'Close', 'Volume', 'Dividends', 'Stock Splits'], dtype='object')"
      ]
     },
     "execution_count": 49,
     "metadata": {},
     "output_type": "execute_result"
    }
   ],
   "source": [
    "gold.columns"
   ]
  },
  {
   "cell_type": "code",
   "execution_count": 50,
   "id": "250b0e3c-66f3-4abc-8b94-805587a7c3a6",
   "metadata": {},
   "outputs": [],
   "source": [
    "my_cols = ['Open', 'High', 'Low', 'Close', 'Volume']"
   ]
  },
  {
   "cell_type": "code",
   "execution_count": 51,
   "id": "77baaddc-8556-47eb-bc11-d91888bfe4b2",
   "metadata": {},
   "outputs": [],
   "source": [
    "data = pd.concat([gold[my_cols].add_prefix('gold_'), silver[my_cols].add_prefix('silver_')], axis=1)"
   ]
  },
  {
   "cell_type": "code",
   "execution_count": 52,
   "id": "707d1eb0-a688-44aa-ad3a-f244e2202762",
   "metadata": {},
   "outputs": [
    {
     "data": {
      "text/html": [
       "<div>\n",
       "<style scoped>\n",
       "    .dataframe tbody tr th:only-of-type {\n",
       "        vertical-align: middle;\n",
       "    }\n",
       "\n",
       "    .dataframe tbody tr th {\n",
       "        vertical-align: top;\n",
       "    }\n",
       "\n",
       "    .dataframe thead th {\n",
       "        text-align: right;\n",
       "    }\n",
       "</style>\n",
       "<table border=\"1\" class=\"dataframe\">\n",
       "  <thead>\n",
       "    <tr style=\"text-align: right;\">\n",
       "      <th></th>\n",
       "      <th>gold_Open</th>\n",
       "      <th>gold_High</th>\n",
       "      <th>gold_Low</th>\n",
       "      <th>gold_Close</th>\n",
       "      <th>gold_Volume</th>\n",
       "      <th>silver_Open</th>\n",
       "      <th>silver_High</th>\n",
       "      <th>silver_Low</th>\n",
       "      <th>silver_Close</th>\n",
       "      <th>silver_Volume</th>\n",
       "    </tr>\n",
       "    <tr>\n",
       "      <th>Date</th>\n",
       "      <th></th>\n",
       "      <th></th>\n",
       "      <th></th>\n",
       "      <th></th>\n",
       "      <th></th>\n",
       "      <th></th>\n",
       "      <th></th>\n",
       "      <th></th>\n",
       "      <th></th>\n",
       "      <th></th>\n",
       "    </tr>\n",
       "  </thead>\n",
       "  <tbody>\n",
       "    <tr>\n",
       "      <th>2000-08</th>\n",
       "      <td>273.899994</td>\n",
       "      <td>273.899994</td>\n",
       "      <td>273.899994</td>\n",
       "      <td>273.899994</td>\n",
       "      <td>0</td>\n",
       "      <td>4.950000</td>\n",
       "      <td>4.950000</td>\n",
       "      <td>4.895000</td>\n",
       "      <td>4.930000</td>\n",
       "      <td>2319</td>\n",
       "    </tr>\n",
       "    <tr>\n",
       "      <th>2000-09</th>\n",
       "      <td>277.000000</td>\n",
       "      <td>277.000000</td>\n",
       "      <td>277.000000</td>\n",
       "      <td>277.000000</td>\n",
       "      <td>0</td>\n",
       "      <td>5.035000</td>\n",
       "      <td>5.035000</td>\n",
       "      <td>4.985000</td>\n",
       "      <td>5.004000</td>\n",
       "      <td>1375</td>\n",
       "    </tr>\n",
       "    <tr>\n",
       "      <th>2000-10</th>\n",
       "      <td>272.799988</td>\n",
       "      <td>273.500000</td>\n",
       "      <td>272.500000</td>\n",
       "      <td>273.100006</td>\n",
       "      <td>161</td>\n",
       "      <td>4.906000</td>\n",
       "      <td>4.906000</td>\n",
       "      <td>4.906000</td>\n",
       "      <td>4.906000</td>\n",
       "      <td>0</td>\n",
       "    </tr>\n",
       "    <tr>\n",
       "      <th>2000-11</th>\n",
       "      <td>263.899994</td>\n",
       "      <td>263.899994</td>\n",
       "      <td>263.899994</td>\n",
       "      <td>263.899994</td>\n",
       "      <td>0</td>\n",
       "      <td>4.774000</td>\n",
       "      <td>4.774000</td>\n",
       "      <td>4.774000</td>\n",
       "      <td>4.774000</td>\n",
       "      <td>0</td>\n",
       "    </tr>\n",
       "    <tr>\n",
       "      <th>2000-12</th>\n",
       "      <td>269.700012</td>\n",
       "      <td>272.000000</td>\n",
       "      <td>268.500000</td>\n",
       "      <td>268.700012</td>\n",
       "      <td>332</td>\n",
       "      <td>4.675000</td>\n",
       "      <td>4.685000</td>\n",
       "      <td>4.640000</td>\n",
       "      <td>4.640000</td>\n",
       "      <td>208</td>\n",
       "    </tr>\n",
       "    <tr>\n",
       "      <th>...</th>\n",
       "      <td>...</td>\n",
       "      <td>...</td>\n",
       "      <td>...</td>\n",
       "      <td>...</td>\n",
       "      <td>...</td>\n",
       "      <td>...</td>\n",
       "      <td>...</td>\n",
       "      <td>...</td>\n",
       "      <td>...</td>\n",
       "      <td>...</td>\n",
       "    </tr>\n",
       "    <tr>\n",
       "      <th>2023-02</th>\n",
       "      <td>1927.199951</td>\n",
       "      <td>1955.000000</td>\n",
       "      <td>1922.000000</td>\n",
       "      <td>1927.800049</td>\n",
       "      <td>2290</td>\n",
       "      <td>23.520000</td>\n",
       "      <td>23.834999</td>\n",
       "      <td>23.510000</td>\n",
       "      <td>23.521000</td>\n",
       "      <td>12</td>\n",
       "    </tr>\n",
       "    <tr>\n",
       "      <th>2023-03</th>\n",
       "      <td>1827.099976</td>\n",
       "      <td>1841.699951</td>\n",
       "      <td>1827.099976</td>\n",
       "      <td>1837.699951</td>\n",
       "      <td>211</td>\n",
       "      <td>20.879999</td>\n",
       "      <td>21.150000</td>\n",
       "      <td>20.879999</td>\n",
       "      <td>20.959000</td>\n",
       "      <td>577</td>\n",
       "    </tr>\n",
       "    <tr>\n",
       "      <th>2023-04</th>\n",
       "      <td>1968.099976</td>\n",
       "      <td>1991.699951</td>\n",
       "      <td>1950.000000</td>\n",
       "      <td>1983.900024</td>\n",
       "      <td>737</td>\n",
       "      <td>23.725000</td>\n",
       "      <td>24.070000</td>\n",
       "      <td>23.695000</td>\n",
       "      <td>23.941000</td>\n",
       "      <td>26</td>\n",
       "    </tr>\n",
       "    <tr>\n",
       "      <th>2023-05</th>\n",
       "      <td>1980.099976</td>\n",
       "      <td>2005.000000</td>\n",
       "      <td>1976.900024</td>\n",
       "      <td>1983.400024</td>\n",
       "      <td>210</td>\n",
       "      <td>25.070000</td>\n",
       "      <td>25.959999</td>\n",
       "      <td>25.009001</td>\n",
       "      <td>25.009001</td>\n",
       "      <td>452</td>\n",
       "    </tr>\n",
       "    <tr>\n",
       "      <th>2023-06</th>\n",
       "      <td>1963.199951</td>\n",
       "      <td>1983.000000</td>\n",
       "      <td>1954.300049</td>\n",
       "      <td>1978.000000</td>\n",
       "      <td>750</td>\n",
       "      <td>23.875000</td>\n",
       "      <td>23.875000</td>\n",
       "      <td>23.875000</td>\n",
       "      <td>23.875000</td>\n",
       "      <td>92</td>\n",
       "    </tr>\n",
       "  </tbody>\n",
       "</table>\n",
       "<p>275 rows × 10 columns</p>\n",
       "</div>"
      ],
      "text/plain": [
       "           gold_Open    gold_High     gold_Low   gold_Close  gold_Volume  \\\n",
       "Date                                                                       \n",
       "2000-08   273.899994   273.899994   273.899994   273.899994            0   \n",
       "2000-09   277.000000   277.000000   277.000000   277.000000            0   \n",
       "2000-10   272.799988   273.500000   272.500000   273.100006          161   \n",
       "2000-11   263.899994   263.899994   263.899994   263.899994            0   \n",
       "2000-12   269.700012   272.000000   268.500000   268.700012          332   \n",
       "...              ...          ...          ...          ...          ...   \n",
       "2023-02  1927.199951  1955.000000  1922.000000  1927.800049         2290   \n",
       "2023-03  1827.099976  1841.699951  1827.099976  1837.699951          211   \n",
       "2023-04  1968.099976  1991.699951  1950.000000  1983.900024          737   \n",
       "2023-05  1980.099976  2005.000000  1976.900024  1983.400024          210   \n",
       "2023-06  1963.199951  1983.000000  1954.300049  1978.000000          750   \n",
       "\n",
       "         silver_Open  silver_High  silver_Low  silver_Close  silver_Volume  \n",
       "Date                                                                        \n",
       "2000-08     4.950000     4.950000    4.895000      4.930000           2319  \n",
       "2000-09     5.035000     5.035000    4.985000      5.004000           1375  \n",
       "2000-10     4.906000     4.906000    4.906000      4.906000              0  \n",
       "2000-11     4.774000     4.774000    4.774000      4.774000              0  \n",
       "2000-12     4.675000     4.685000    4.640000      4.640000            208  \n",
       "...              ...          ...         ...           ...            ...  \n",
       "2023-02    23.520000    23.834999   23.510000     23.521000             12  \n",
       "2023-03    20.879999    21.150000   20.879999     20.959000            577  \n",
       "2023-04    23.725000    24.070000   23.695000     23.941000             26  \n",
       "2023-05    25.070000    25.959999   25.009001     25.009001            452  \n",
       "2023-06    23.875000    23.875000   23.875000     23.875000             92  \n",
       "\n",
       "[275 rows x 10 columns]"
      ]
     },
     "execution_count": 52,
     "metadata": {},
     "output_type": "execute_result"
    }
   ],
   "source": [
    "data"
   ]
  },
  {
   "cell_type": "code",
   "execution_count": 53,
   "id": "d1f9dee6-02cd-42bc-abb8-ab423d09663e",
   "metadata": {},
   "outputs": [
    {
     "name": "stdout",
     "output_type": "stream",
     "text": [
      "<class 'pandas.core.frame.DataFrame'>\n",
      "PeriodIndex: 275 entries, 2000-08 to 2023-06\n",
      "Freq: M\n",
      "Data columns (total 10 columns):\n",
      " #   Column         Non-Null Count  Dtype  \n",
      "---  ------         --------------  -----  \n",
      " 0   gold_Open      275 non-null    float64\n",
      " 1   gold_High      275 non-null    float64\n",
      " 2   gold_Low       275 non-null    float64\n",
      " 3   gold_Close     275 non-null    float64\n",
      " 4   gold_Volume    275 non-null    int64  \n",
      " 5   silver_Open    275 non-null    float64\n",
      " 6   silver_High    275 non-null    float64\n",
      " 7   silver_Low     275 non-null    float64\n",
      " 8   silver_Close   275 non-null    float64\n",
      " 9   silver_Volume  275 non-null    int64  \n",
      "dtypes: float64(8), int64(2)\n",
      "memory usage: 23.6 KB\n"
     ]
    }
   ],
   "source": [
    "data.info()"
   ]
  },
  {
   "cell_type": "code",
   "execution_count": 54,
   "id": "351d6afd-b533-4f59-b325-713b783dbc1a",
   "metadata": {},
   "outputs": [
    {
     "data": {
      "text/plain": [
       "period[M]"
      ]
     },
     "execution_count": 54,
     "metadata": {},
     "output_type": "execute_result"
    }
   ],
   "source": [
    "data.index.dtype"
   ]
  },
  {
   "cell_type": "code",
   "execution_count": 55,
   "id": "93a0b28b-d0cb-4f0f-9968-baadc3909abb",
   "metadata": {},
   "outputs": [],
   "source": [
    "close_cols = ['gold_Close', 'silver_Close']"
   ]
  },
  {
   "cell_type": "code",
   "execution_count": 56,
   "id": "337a111b-6d68-4772-843b-05e54b7c0d5c",
   "metadata": {},
   "outputs": [
    {
     "data": {
      "text/html": [
       "<div>\n",
       "<style scoped>\n",
       "    .dataframe tbody tr th:only-of-type {\n",
       "        vertical-align: middle;\n",
       "    }\n",
       "\n",
       "    .dataframe tbody tr th {\n",
       "        vertical-align: top;\n",
       "    }\n",
       "\n",
       "    .dataframe thead th {\n",
       "        text-align: right;\n",
       "    }\n",
       "</style>\n",
       "<table border=\"1\" class=\"dataframe\">\n",
       "  <thead>\n",
       "    <tr style=\"text-align: right;\">\n",
       "      <th></th>\n",
       "      <th>gold_Close</th>\n",
       "      <th>silver_Close</th>\n",
       "    </tr>\n",
       "    <tr>\n",
       "      <th>Date</th>\n",
       "      <th></th>\n",
       "      <th></th>\n",
       "    </tr>\n",
       "  </thead>\n",
       "  <tbody>\n",
       "    <tr>\n",
       "      <th>2000-08</th>\n",
       "      <td>273.899994</td>\n",
       "      <td>4.930000</td>\n",
       "    </tr>\n",
       "    <tr>\n",
       "      <th>2000-09</th>\n",
       "      <td>277.000000</td>\n",
       "      <td>5.004000</td>\n",
       "    </tr>\n",
       "    <tr>\n",
       "      <th>2000-10</th>\n",
       "      <td>273.100006</td>\n",
       "      <td>4.906000</td>\n",
       "    </tr>\n",
       "    <tr>\n",
       "      <th>2000-11</th>\n",
       "      <td>263.899994</td>\n",
       "      <td>4.774000</td>\n",
       "    </tr>\n",
       "    <tr>\n",
       "      <th>2000-12</th>\n",
       "      <td>268.700012</td>\n",
       "      <td>4.640000</td>\n",
       "    </tr>\n",
       "    <tr>\n",
       "      <th>...</th>\n",
       "      <td>...</td>\n",
       "      <td>...</td>\n",
       "    </tr>\n",
       "    <tr>\n",
       "      <th>2023-02</th>\n",
       "      <td>1927.800049</td>\n",
       "      <td>23.521000</td>\n",
       "    </tr>\n",
       "    <tr>\n",
       "      <th>2023-03</th>\n",
       "      <td>1837.699951</td>\n",
       "      <td>20.959000</td>\n",
       "    </tr>\n",
       "    <tr>\n",
       "      <th>2023-04</th>\n",
       "      <td>1983.900024</td>\n",
       "      <td>23.941000</td>\n",
       "    </tr>\n",
       "    <tr>\n",
       "      <th>2023-05</th>\n",
       "      <td>1983.400024</td>\n",
       "      <td>25.009001</td>\n",
       "    </tr>\n",
       "    <tr>\n",
       "      <th>2023-06</th>\n",
       "      <td>1978.000000</td>\n",
       "      <td>23.875000</td>\n",
       "    </tr>\n",
       "  </tbody>\n",
       "</table>\n",
       "<p>275 rows × 2 columns</p>\n",
       "</div>"
      ],
      "text/plain": [
       "          gold_Close  silver_Close\n",
       "Date                              \n",
       "2000-08   273.899994      4.930000\n",
       "2000-09   277.000000      5.004000\n",
       "2000-10   273.100006      4.906000\n",
       "2000-11   263.899994      4.774000\n",
       "2000-12   268.700012      4.640000\n",
       "...              ...           ...\n",
       "2023-02  1927.800049     23.521000\n",
       "2023-03  1837.699951     20.959000\n",
       "2023-04  1983.900024     23.941000\n",
       "2023-05  1983.400024     25.009001\n",
       "2023-06  1978.000000     23.875000\n",
       "\n",
       "[275 rows x 2 columns]"
      ]
     },
     "execution_count": 56,
     "metadata": {},
     "output_type": "execute_result"
    }
   ],
   "source": [
    "data[close_cols]"
   ]
  },
  {
   "cell_type": "code",
   "execution_count": 57,
   "id": "c741ebcb-4e25-4211-bc0d-4f3682d8f152",
   "metadata": {},
   "outputs": [
    {
     "name": "stdout",
     "output_type": "stream",
     "text": [
      "<class 'pandas.core.frame.DataFrame'>\n",
      "PeriodIndex: 275 entries, 2000-08 to 2023-06\n",
      "Freq: M\n",
      "Data columns (total 2 columns):\n",
      " #   Column        Non-Null Count  Dtype  \n",
      "---  ------        --------------  -----  \n",
      " 0   gold_Close    275 non-null    float64\n",
      " 1   silver_Close  275 non-null    float64\n",
      "dtypes: float64(2)\n",
      "memory usage: 6.4 KB\n"
     ]
    }
   ],
   "source": [
    "data[close_cols].info()"
   ]
  },
  {
   "cell_type": "code",
   "execution_count": 58,
   "id": "b0101625-f633-4d64-9bed-b255d8ee2e18",
   "metadata": {},
   "outputs": [
    {
     "data": {
      "image/png": "[encoded data removed]",
      "text/plain": [
       "<Figure size 1296x576 with 1 Axes>"
      ]
     },
     "metadata": {
      "needs_background": "light"
     },
     "output_type": "display_data"
    }
   ],
   "source": [
    "df_plot = data[close_cols].copy()\n",
    "df_plot['Date'] = df_plot.index.to_timestamp()\n",
    "plt.figure(figsize=(18,8))\n",
    "sns.lineplot(data=df_plot, x='Date', y='gold_Close', label='Oro')\n",
    "sns.lineplot(data=df_plot, x='Date', y='silver_Close', label='Plata')\n",
    "plt.title('Comparación Oro / Plata')\n",
    "plt.legend()\n",
    "plt.show();"
   ]
  },
  {
   "cell_type": "code",
   "execution_count": 59,
   "id": "da6cd1eb-0db7-4e23-8275-90d2be05cd79",
   "metadata": {},
   "outputs": [
    {
     "data": {
      "text/html": [
       "<div>\n",
       "<style scoped>\n",
       "    .dataframe tbody tr th:only-of-type {\n",
       "        vertical-align: middle;\n",
       "    }\n",
       "\n",
       "    .dataframe tbody tr th {\n",
       "        vertical-align: top;\n",
       "    }\n",
       "\n",
       "    .dataframe thead th {\n",
       "        text-align: right;\n",
       "    }\n",
       "</style>\n",
       "<table border=\"1\" class=\"dataframe\">\n",
       "  <thead>\n",
       "    <tr style=\"text-align: right;\">\n",
       "      <th></th>\n",
       "      <th>gold_Close</th>\n",
       "      <th>silver_Close</th>\n",
       "    </tr>\n",
       "    <tr>\n",
       "      <th>Date</th>\n",
       "      <th></th>\n",
       "      <th></th>\n",
       "    </tr>\n",
       "  </thead>\n",
       "  <tbody>\n",
       "    <tr>\n",
       "      <th>2000-08</th>\n",
       "      <td>273.899994</td>\n",
       "      <td>4.930000</td>\n",
       "    </tr>\n",
       "    <tr>\n",
       "      <th>2000-09</th>\n",
       "      <td>277.000000</td>\n",
       "      <td>5.004000</td>\n",
       "    </tr>\n",
       "    <tr>\n",
       "      <th>2000-10</th>\n",
       "      <td>273.100006</td>\n",
       "      <td>4.906000</td>\n",
       "    </tr>\n",
       "    <tr>\n",
       "      <th>2000-11</th>\n",
       "      <td>263.899994</td>\n",
       "      <td>4.774000</td>\n",
       "    </tr>\n",
       "    <tr>\n",
       "      <th>2000-12</th>\n",
       "      <td>268.700012</td>\n",
       "      <td>4.640000</td>\n",
       "    </tr>\n",
       "    <tr>\n",
       "      <th>...</th>\n",
       "      <td>...</td>\n",
       "      <td>...</td>\n",
       "    </tr>\n",
       "    <tr>\n",
       "      <th>2023-02</th>\n",
       "      <td>1927.800049</td>\n",
       "      <td>23.521000</td>\n",
       "    </tr>\n",
       "    <tr>\n",
       "      <th>2023-03</th>\n",
       "      <td>1837.699951</td>\n",
       "      <td>20.959000</td>\n",
       "    </tr>\n",
       "    <tr>\n",
       "      <th>2023-04</th>\n",
       "      <td>1983.900024</td>\n",
       "      <td>23.941000</td>\n",
       "    </tr>\n",
       "    <tr>\n",
       "      <th>2023-05</th>\n",
       "      <td>1983.400024</td>\n",
       "      <td>25.009001</td>\n",
       "    </tr>\n",
       "    <tr>\n",
       "      <th>2023-06</th>\n",
       "      <td>1978.000000</td>\n",
       "      <td>23.875000</td>\n",
       "    </tr>\n",
       "  </tbody>\n",
       "</table>\n",
       "<p>275 rows × 2 columns</p>\n",
       "</div>"
      ],
      "text/plain": [
       "          gold_Close  silver_Close\n",
       "Date                              \n",
       "2000-08   273.899994      4.930000\n",
       "2000-09   277.000000      5.004000\n",
       "2000-10   273.100006      4.906000\n",
       "2000-11   263.899994      4.774000\n",
       "2000-12   268.700012      4.640000\n",
       "...              ...           ...\n",
       "2023-02  1927.800049     23.521000\n",
       "2023-03  1837.699951     20.959000\n",
       "2023-04  1983.900024     23.941000\n",
       "2023-05  1983.400024     25.009001\n",
       "2023-06  1978.000000     23.875000\n",
       "\n",
       "[275 rows x 2 columns]"
      ]
     },
     "execution_count": 59,
     "metadata": {},
     "output_type": "execute_result"
    }
   ],
   "source": [
    "data = data[close_cols].copy()\n",
    "data"
   ]
  },
  {
   "cell_type": "code",
   "execution_count": 60,
   "id": "a90d6208-2e64-4338-b390-54b59eb56c7c",
   "metadata": {},
   "outputs": [
    {
     "data": {
      "text/html": [
       "<div>\n",
       "<style scoped>\n",
       "    .dataframe tbody tr th:only-of-type {\n",
       "        vertical-align: middle;\n",
       "    }\n",
       "\n",
       "    .dataframe tbody tr th {\n",
       "        vertical-align: top;\n",
       "    }\n",
       "\n",
       "    .dataframe thead th {\n",
       "        text-align: right;\n",
       "    }\n",
       "</style>\n",
       "<table border=\"1\" class=\"dataframe\">\n",
       "  <thead>\n",
       "    <tr style=\"text-align: right;\">\n",
       "      <th></th>\n",
       "      <th>gold_Close</th>\n",
       "      <th>silver_Close</th>\n",
       "      <th>log_n_G/X</th>\n",
       "    </tr>\n",
       "    <tr>\n",
       "      <th>Date</th>\n",
       "      <th></th>\n",
       "      <th></th>\n",
       "      <th></th>\n",
       "    </tr>\n",
       "  </thead>\n",
       "  <tbody>\n",
       "    <tr>\n",
       "      <th>2000-08</th>\n",
       "      <td>273.899994</td>\n",
       "      <td>4.930</td>\n",
       "      <td>4.017424</td>\n",
       "    </tr>\n",
       "    <tr>\n",
       "      <th>2000-09</th>\n",
       "      <td>277.000000</td>\n",
       "      <td>5.004</td>\n",
       "      <td>4.013780</td>\n",
       "    </tr>\n",
       "    <tr>\n",
       "      <th>2000-10</th>\n",
       "      <td>273.100006</td>\n",
       "      <td>4.906</td>\n",
       "      <td>4.019379</td>\n",
       "    </tr>\n",
       "    <tr>\n",
       "      <th>2000-11</th>\n",
       "      <td>263.899994</td>\n",
       "      <td>4.774</td>\n",
       "      <td>4.012386</td>\n",
       "    </tr>\n",
       "    <tr>\n",
       "      <th>2000-12</th>\n",
       "      <td>268.700012</td>\n",
       "      <td>4.640</td>\n",
       "      <td>4.058881</td>\n",
       "    </tr>\n",
       "  </tbody>\n",
       "</table>\n",
       "</div>"
      ],
      "text/plain": [
       "         gold_Close  silver_Close  log_n_G/X\n",
       "Date                                        \n",
       "2000-08  273.899994         4.930   4.017424\n",
       "2000-09  277.000000         5.004   4.013780\n",
       "2000-10  273.100006         4.906   4.019379\n",
       "2000-11  263.899994         4.774   4.012386\n",
       "2000-12  268.700012         4.640   4.058881"
      ]
     },
     "execution_count": 60,
     "metadata": {},
     "output_type": "execute_result"
    }
   ],
   "source": [
    "data['log_n_G/X'] = np.log(data['gold_Close'] / data['silver_Close'])\n",
    "data.head()"
   ]
  },
  {
   "cell_type": "code",
   "execution_count": 61,
   "id": "7f27b518-477c-4553-9ca1-8272f581f411",
   "metadata": {},
   "outputs": [
    {
     "name": "stdout",
     "output_type": "stream",
     "text": [
      "Media del logaritmo natural de Gold/Silver: 4.19\n",
      "Desvío estándar del logaritmo natural de Gold/Silver: 0.192\n"
     ]
    }
   ],
   "source": [
    "media_relacion = data['log_n_G/X'].mean()\n",
    "desvio_relacion = data['log_n_G/X'].std()\n",
    "print('Media del logaritmo natural de Gold/Silver:', round(media_relacion, 3))\n",
    "print('Desvío estándar del logaritmo natural de Gold/Silver:', round(desvio_relacion, 3))"
   ]
  },
  {
   "cell_type": "code",
   "execution_count": 62,
   "id": "450fff66-c272-4a30-9f94-bcdc7d4f8ac5",
   "metadata": {},
   "outputs": [
    {
     "name": "stdout",
     "output_type": "stream",
     "text": [
      "Intervalo de confianza:\n",
      "Un movimiento extraordinario se da cuando supera entre 3.807 para abajo o 4.574 para arriba\n"
     ]
    }
   ],
   "source": [
    "min_intervalo = media_relacion - desvio_relacion * 2\n",
    "max_intervalo = media_relacion + desvio_relacion * 2\n",
    "print('Intervalo de confianza:')\n",
    "print('Un movimiento extraordinario se da cuando supera entre', round(min_intervalo,3), 'para abajo o', round(max_intervalo,3), 'para arriba')"
   ]
  },
  {
   "cell_type": "code",
   "execution_count": 63,
   "id": "dad3a529-5919-48c6-8b5d-2aa7a0fa4d57",
   "metadata": {},
   "outputs": [
    {
     "data": {
      "image/png": "[encoded data removed]",
      "text/plain": [
       "<Figure size 1296x576 with 1 Axes>"
      ]
     },
     "metadata": {
      "needs_background": "light"
     },
     "output_type": "display_data"
    }
   ],
   "source": [
    "df_plot = data.copy()\n",
    "df_plot['Date'] = df_plot.index.to_timestamp()\n",
    "plt.figure(figsize=(18,8))\n",
    "sns.lineplot(data=df_plot, x='Date', y='log_n_G/X', label='Log Gold/Silver')\n",
    "plt.axhline(y=min_intervalo, color='red', linestyle='-', linewidth=0.7)\n",
    "plt.axhline(y=max_intervalo, color='red', linestyle='-', linewidth=0.7)\n",
    "plt.fill_between(df_plot['Date'], df_plot['log_n_G/X'], min_intervalo, where=(df_plot['log_n_G/X'] <= min_intervalo), alpha=0.3, color='red')\n",
    "plt.fill_between(df_plot['Date'], df_plot['log_n_G/X'], max_intervalo, where=(df_plot['log_n_G/X'] >= max_intervalo), alpha=0.3, color='red')\n",
    "plt.title('Intervalo de confianza. Logaritmo Oro / Plata')\n",
    "plt.ylabel('Log Gold / Silver ')\n",
    "plt.legend()\n",
    "plt.show();"
   ]
  },
  {
   "cell_type": "code",
   "execution_count": null,
   "id": "3bb5060d-920f-4dc9-8b6c-0fa2238d2811",
   "metadata": {},
   "outputs": [],
   "source": []
  },
  {
   "cell_type": "code",
   "execution_count": null,
   "id": "ce97e5e5-eba3-4171-a038-46310d182300",
   "metadata": {},
   "outputs": [],
   "source": []
  },
  {
   "cell_type": "code",
   "execution_count": null,
   "id": "d51deca6-31b2-4c72-abbc-29c9934ce3e7",
   "metadata": {},
   "outputs": [],
   "source": []
  },
  {
   "cell_type": "code",
   "execution_count": null,
   "id": "122ee6c2-7b6d-446f-922d-3907dd671481",
   "metadata": {},
   "outputs": [],
   "source": []
  },
  {
   "cell_type": "code",
   "execution_count": null,
   "id": "6661acf9-47af-4a46-8dae-29fe12482194",
   "metadata": {},
   "outputs": [],
   "source": []
  }
 ],
 "metadata": {
  "kernelspec": {
   "display_name": "Python 3 (ipykernel)",
   "language": "python",
   "name": "python3"
  },
  "language_info": {
   "codemirror_mode": {
    "name": "ipython",
    "version": 3
   },
   "file_extension": ".py",
   "mimetype": "text/x-python",
   "name": "python",
   "nbconvert_exporter": "python",
   "pygments_lexer": "ipython3",
   "version": "3.9.7"
  }
 },
 "nbformat": 4,
 "nbformat_minor": 5
}
