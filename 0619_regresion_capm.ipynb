{
 "cells": [
  {
   "cell_type": "code",
   "execution_count": 1,
   "id": "4558f0c6-fa07-489f-b3fe-e582671e8487",
   "metadata": {},
   "outputs": [],
   "source": [
    "import pandas as pd\n",
    "import numpy as np \n",
    "import statsmodels.api as sm\n",
    "# from scipy import stats\n",
    "\n",
    "import seaborn as sns\n",
    "import matplotlib.pyplot as plt\n",
    "\n",
    "# import yfinance as yf\n",
    "from datetime import datetime\n",
    "# import random\n",
    "\n",
    "pd.set_option('display.max_columns', None)\n",
    "# pd.options.display.float_format = '{:.6f}'.format\n",
    "\n",
    "path = 'data/'"
   ]
  },
  {
   "cell_type": "code",
   "execution_count": 2,
   "id": "6377c99f-9fd3-450f-98a5-5277f7cd0fb0",
   "metadata": {},
   "outputs": [
    {
     "data": {
      "text/plain": [
       "(588, 7)"
      ]
     },
     "execution_count": 2,
     "metadata": {},
     "output_type": "execute_result"
    }
   ],
   "source": [
    "# df = pd.read_csv(path + 'caso_capm.csv')\n",
    "df = pd.read_csv(path + 'caso_capm.csv', sep='|', decimal=',')\n",
    "df.shape"
   ]
  },
  {
   "cell_type": "code",
   "execution_count": 3,
   "id": "7f547044-a457-4a57-9d3f-1fb44304786f",
   "metadata": {},
   "outputs": [],
   "source": [
    "meses = {\n",
    "    'ene': 'Jan',\n",
    "    'feb': 'Feb',\n",
    "    'mar': 'Mar',\n",
    "    'abr': 'Apr',\n",
    "    'may': 'May',\n",
    "    'jun': 'Jun',\n",
    "    'jul': 'Jul',\n",
    "    'ago': 'Aug',\n",
    "    'sep': 'Sep',\n",
    "    'oct': 'Oct',\n",
    "    'nov': 'Nov',\n",
    "    'dic': 'Dec'\n",
    "}\n",
    "\n",
    "def convertir_fecha(fecha):\n",
    "    mes, anio = fecha.split('-')\n",
    "    anio = '19' + anio\n",
    "    mes = meses[mes]\n",
    "    fecha_datetime = datetime.strptime(f'{mes}-{anio}', '%b-%Y')\n",
    "    return fecha_datetime"
   ]
  },
  {
   "cell_type": "code",
   "execution_count": 4,
   "id": "f00b6016-57ab-4c38-b258-698e42aa284e",
   "metadata": {},
   "outputs": [],
   "source": [
    "df['DATE'] = df['DATE'].apply(convertir_fecha)"
   ]
  },
  {
   "cell_type": "code",
   "execution_count": 5,
   "id": "4a659a64-d068-4593-806f-da75b47c2531",
   "metadata": {},
   "outputs": [
    {
     "name": "stdout",
     "output_type": "stream",
     "text": [
      "<class 'pandas.core.frame.DataFrame'>\n",
      "RangeIndex: 588 entries, 0 to 587\n",
      "Data columns (total 7 columns):\n",
      " #   Column   Non-Null Count  Dtype         \n",
      "---  ------   --------------  -----         \n",
      " 0   DATE     588 non-null    datetime64[ns]\n",
      " 1   S&P500D  588 non-null    float64       \n",
      " 2   TBILL    588 non-null    float64       \n",
      " 3   GM       588 non-null    float64       \n",
      " 4   GE       588 non-null    float64       \n",
      " 5   rm -rf   588 non-null    float64       \n",
      " 6   ge - rf  588 non-null    float64       \n",
      "dtypes: datetime64[ns](1), float64(6)\n",
      "memory usage: 32.3 KB\n"
     ]
    }
   ],
   "source": [
    "df.info()"
   ]
  },
  {
   "cell_type": "code",
   "execution_count": 6,
   "id": "838debab-5c5a-4ed1-8302-cd45d824dcbc",
   "metadata": {},
   "outputs": [
    {
     "data": {
      "text/html": [
       "<div>\n",
       "<style scoped>\n",
       "    .dataframe tbody tr th:only-of-type {\n",
       "        vertical-align: middle;\n",
       "    }\n",
       "\n",
       "    .dataframe tbody tr th {\n",
       "        vertical-align: top;\n",
       "    }\n",
       "\n",
       "    .dataframe thead th {\n",
       "        text-align: right;\n",
       "    }\n",
       "</style>\n",
       "<table border=\"1\" class=\"dataframe\">\n",
       "  <thead>\n",
       "    <tr style=\"text-align: right;\">\n",
       "      <th></th>\n",
       "      <th>DATE</th>\n",
       "      <th>S&amp;P500D</th>\n",
       "      <th>TBILL</th>\n",
       "      <th>GM</th>\n",
       "      <th>GE</th>\n",
       "      <th>rm -rf</th>\n",
       "      <th>ge - rf</th>\n",
       "    </tr>\n",
       "  </thead>\n",
       "  <tbody>\n",
       "    <tr>\n",
       "      <th>0</th>\n",
       "      <td>1947-01-01</td>\n",
       "      <td>0.021409</td>\n",
       "      <td>0.000306</td>\n",
       "      <td>0.130952</td>\n",
       "      <td>0.090592</td>\n",
       "      <td>0.021103</td>\n",
       "      <td>0.090286</td>\n",
       "    </tr>\n",
       "    <tr>\n",
       "      <th>1</th>\n",
       "      <td>1947-02-01</td>\n",
       "      <td>-0.007997</td>\n",
       "      <td>0.000306</td>\n",
       "      <td>0.029474</td>\n",
       "      <td>-0.038339</td>\n",
       "      <td>-0.008304</td>\n",
       "      <td>-0.038645</td>\n",
       "    </tr>\n",
       "    <tr>\n",
       "      <th>2</th>\n",
       "      <td>1947-03-01</td>\n",
       "      <td>-0.014704</td>\n",
       "      <td>0.000306</td>\n",
       "      <td>-0.020704</td>\n",
       "      <td>-0.045847</td>\n",
       "      <td>-0.015010</td>\n",
       "      <td>-0.046153</td>\n",
       "    </tr>\n",
       "    <tr>\n",
       "      <th>3</th>\n",
       "      <td>1947-04-01</td>\n",
       "      <td>-0.039473</td>\n",
       "      <td>0.000306</td>\n",
       "      <td>-0.021142</td>\n",
       "      <td>-0.021127</td>\n",
       "      <td>-0.039779</td>\n",
       "      <td>-0.021433</td>\n",
       "    </tr>\n",
       "    <tr>\n",
       "      <th>4</th>\n",
       "      <td>1947-05-01</td>\n",
       "      <td>-0.001277</td>\n",
       "      <td>0.000306</td>\n",
       "      <td>-0.025918</td>\n",
       "      <td>-0.010791</td>\n",
       "      <td>-0.001583</td>\n",
       "      <td>-0.011097</td>\n",
       "    </tr>\n",
       "  </tbody>\n",
       "</table>\n",
       "</div>"
      ],
      "text/plain": [
       "        DATE   S&P500D     TBILL        GM        GE    rm -rf   ge - rf\n",
       "0 1947-01-01  0.021409  0.000306  0.130952  0.090592  0.021103  0.090286\n",
       "1 1947-02-01 -0.007997  0.000306  0.029474 -0.038339 -0.008304 -0.038645\n",
       "2 1947-03-01 -0.014704  0.000306 -0.020704 -0.045847 -0.015010 -0.046153\n",
       "3 1947-04-01 -0.039473  0.000306 -0.021142 -0.021127 -0.039779 -0.021433\n",
       "4 1947-05-01 -0.001277  0.000306 -0.025918 -0.010791 -0.001583 -0.011097"
      ]
     },
     "execution_count": 6,
     "metadata": {},
     "output_type": "execute_result"
    }
   ],
   "source": [
    "df.head()"
   ]
  },
  {
   "cell_type": "code",
   "execution_count": 7,
   "id": "65c8dd38-4d8e-402f-8170-081b7c1d5227",
   "metadata": {},
   "outputs": [],
   "source": [
    "# S&P500D es la tasa del mercado (RM)\n",
    "# TBILL es la tasa libre de riesgo (RF) (treasurie bills)\n",
    "# retornos de GM y GE (Ri y Ri2)\n",
    "# X = RM - RF\n",
    "# Y = GE - RF"
   ]
  },
  {
   "cell_type": "code",
   "execution_count": 8,
   "id": "93778103-e795-422c-b81b-2ea80a634a9d",
   "metadata": {},
   "outputs": [],
   "source": [
    "# Calculo los excesos del mercado (restando el S&P500 a la tasa libre de riesgo)\n",
    "# Calculo los excesos del activo (restando el GE a la tasa libre de riesgo)\n",
    "\n",
    "df['X'] = df['S&P500D'] - df['TBILL']\n",
    "df['Y'] = df['GE'] - df['TBILL']"
   ]
  },
  {
   "cell_type": "code",
   "execution_count": 9,
   "id": "0d268a45-4d6a-4985-9eb3-f8750aa4c6a6",
   "metadata": {},
   "outputs": [
    {
     "data": {
      "text/html": [
       "<div>\n",
       "<style scoped>\n",
       "    .dataframe tbody tr th:only-of-type {\n",
       "        vertical-align: middle;\n",
       "    }\n",
       "\n",
       "    .dataframe tbody tr th {\n",
       "        vertical-align: top;\n",
       "    }\n",
       "\n",
       "    .dataframe thead th {\n",
       "        text-align: right;\n",
       "    }\n",
       "</style>\n",
       "<table border=\"1\" class=\"dataframe\">\n",
       "  <thead>\n",
       "    <tr style=\"text-align: right;\">\n",
       "      <th></th>\n",
       "      <th>DATE</th>\n",
       "      <th>S&amp;P500D</th>\n",
       "      <th>TBILL</th>\n",
       "      <th>GM</th>\n",
       "      <th>GE</th>\n",
       "      <th>rm -rf</th>\n",
       "      <th>ge - rf</th>\n",
       "      <th>X</th>\n",
       "      <th>Y</th>\n",
       "    </tr>\n",
       "  </thead>\n",
       "  <tbody>\n",
       "    <tr>\n",
       "      <th>0</th>\n",
       "      <td>1947-01-01</td>\n",
       "      <td>0.021409</td>\n",
       "      <td>0.000306</td>\n",
       "      <td>0.130952</td>\n",
       "      <td>0.090592</td>\n",
       "      <td>0.021103</td>\n",
       "      <td>0.090286</td>\n",
       "      <td>0.021103</td>\n",
       "      <td>0.090286</td>\n",
       "    </tr>\n",
       "    <tr>\n",
       "      <th>1</th>\n",
       "      <td>1947-02-01</td>\n",
       "      <td>-0.007997</td>\n",
       "      <td>0.000306</td>\n",
       "      <td>0.029474</td>\n",
       "      <td>-0.038339</td>\n",
       "      <td>-0.008304</td>\n",
       "      <td>-0.038645</td>\n",
       "      <td>-0.008304</td>\n",
       "      <td>-0.038645</td>\n",
       "    </tr>\n",
       "    <tr>\n",
       "      <th>2</th>\n",
       "      <td>1947-03-01</td>\n",
       "      <td>-0.014704</td>\n",
       "      <td>0.000306</td>\n",
       "      <td>-0.020704</td>\n",
       "      <td>-0.045847</td>\n",
       "      <td>-0.015010</td>\n",
       "      <td>-0.046153</td>\n",
       "      <td>-0.015010</td>\n",
       "      <td>-0.046153</td>\n",
       "    </tr>\n",
       "    <tr>\n",
       "      <th>3</th>\n",
       "      <td>1947-04-01</td>\n",
       "      <td>-0.039473</td>\n",
       "      <td>0.000306</td>\n",
       "      <td>-0.021142</td>\n",
       "      <td>-0.021127</td>\n",
       "      <td>-0.039779</td>\n",
       "      <td>-0.021433</td>\n",
       "      <td>-0.039779</td>\n",
       "      <td>-0.021433</td>\n",
       "    </tr>\n",
       "    <tr>\n",
       "      <th>4</th>\n",
       "      <td>1947-05-01</td>\n",
       "      <td>-0.001277</td>\n",
       "      <td>0.000306</td>\n",
       "      <td>-0.025918</td>\n",
       "      <td>-0.010791</td>\n",
       "      <td>-0.001583</td>\n",
       "      <td>-0.011097</td>\n",
       "      <td>-0.001583</td>\n",
       "      <td>-0.011097</td>\n",
       "    </tr>\n",
       "  </tbody>\n",
       "</table>\n",
       "</div>"
      ],
      "text/plain": [
       "        DATE   S&P500D     TBILL        GM        GE    rm -rf   ge - rf  \\\n",
       "0 1947-01-01  0.021409  0.000306  0.130952  0.090592  0.021103  0.090286   \n",
       "1 1947-02-01 -0.007997  0.000306  0.029474 -0.038339 -0.008304 -0.038645   \n",
       "2 1947-03-01 -0.014704  0.000306 -0.020704 -0.045847 -0.015010 -0.046153   \n",
       "3 1947-04-01 -0.039473  0.000306 -0.021142 -0.021127 -0.039779 -0.021433   \n",
       "4 1947-05-01 -0.001277  0.000306 -0.025918 -0.010791 -0.001583 -0.011097   \n",
       "\n",
       "          X         Y  \n",
       "0  0.021103  0.090286  \n",
       "1 -0.008304 -0.038645  \n",
       "2 -0.015010 -0.046153  \n",
       "3 -0.039779 -0.021433  \n",
       "4 -0.001583 -0.011097  "
      ]
     },
     "execution_count": 9,
     "metadata": {},
     "output_type": "execute_result"
    }
   ],
   "source": [
    "df.head()"
   ]
  },
  {
   "cell_type": "code",
   "execution_count": 10,
   "id": "0114ede9-002c-4998-a11f-3f1a87e98fb9",
   "metadata": {},
   "outputs": [
    {
     "data": {
      "image/png": "[encoded data removed]",
      "text/plain": [
       "<Figure size 720x576 with 1 Axes>"
      ]
     },
     "metadata": {
      "needs_background": "light"
     },
     "output_type": "display_data"
    }
   ],
   "source": [
    "plt.figure(figsize=(10,8))\n",
    "sns.scatterplot(data=df, x='X', y='Y')\n",
    "plt.xlabel('S&P500')\n",
    "plt.ylabel('GE')\n",
    "plt.title('Relación entre S&P500 y GE')\n",
    "plt.show();"
   ]
  },
  {
   "cell_type": "code",
   "execution_count": 11,
   "id": "9eba49ae-fc58-4dc9-b220-cd5bcc114eea",
   "metadata": {},
   "outputs": [],
   "source": [
    "X = sm.add_constant(df['X'])"
   ]
  },
  {
   "cell_type": "code",
   "execution_count": 12,
   "id": "19fc9c85-d62d-41c8-bd67-e67ca4bf7fb3",
   "metadata": {},
   "outputs": [],
   "source": [
    "model = sm.OLS(df['Y'], X).fit()"
   ]
  },
  {
   "cell_type": "code",
   "execution_count": 13,
   "id": "ec7bc128-ed2f-4359-b75d-55e6a5f70a1c",
   "metadata": {},
   "outputs": [
    {
     "name": "stdout",
     "output_type": "stream",
     "text": [
      "                            OLS Regression Results                            \n",
      "==============================================================================\n",
      "Dep. Variable:                      Y   R-squared:                       0.559\n",
      "Model:                            OLS   Adj. R-squared:                  0.558\n",
      "Method:                 Least Squares   F-statistic:                     742.3\n",
      "Date:                Tue, 20 Jun 2023   Prob (F-statistic):          3.27e-106\n",
      "Time:                        19:49:14   Log-Likelihood:                 1045.1\n",
      "No. Observations:                 588   AIC:                            -2086.\n",
      "Df Residuals:                     586   BIC:                            -2077.\n",
      "Df Model:                           1                                         \n",
      "Covariance Type:            nonrobust                                         \n",
      "==============================================================================\n",
      "                 coef    std err          t      P>|t|      [0.025      0.975]\n",
      "------------------------------------------------------------------------------\n",
      "const          0.0012      0.002      0.681      0.496      -0.002       0.005\n",
      "X              1.1352      0.042     27.245      0.000       1.053       1.217\n",
      "==============================================================================\n",
      "Omnibus:                       33.017   Durbin-Watson:                   2.112\n",
      "Prob(Omnibus):                  0.000   Jarque-Bera (JB):               56.385\n",
      "Skew:                           0.397   Prob(JB):                     5.70e-13\n",
      "Kurtosis:                       4.293   Cond. No.                         24.7\n",
      "==============================================================================\n",
      "\n",
      "Notes:\n",
      "[1] Standard Errors assume that the covariance matrix of the errors is correctly specified.\n"
     ]
    }
   ],
   "source": [
    "print(model.summary())"
   ]
  },
  {
   "cell_type": "code",
   "execution_count": 14,
   "id": "1e35bacc-c230-485c-9368-fa212714e596",
   "metadata": {},
   "outputs": [],
   "source": [
    "predictions = model.predict(X)"
   ]
  },
  {
   "cell_type": "code",
   "execution_count": 15,
   "id": "56451e4e-4704-4ffb-8324-db11695b8746",
   "metadata": {},
   "outputs": [
    {
     "data": {
      "image/png": "[encoded data removed]",
      "text/plain": [
       "<Figure size 720x576 with 1 Axes>"
      ]
     },
     "metadata": {
      "needs_background": "light"
     },
     "output_type": "display_data"
    }
   ],
   "source": [
    "plt.figure(figsize=(10,8))\n",
    "sns.scatterplot(data=df, x='X', y='Y')\n",
    "plt.plot(df['X'], predictions, color='red', linewidth=2)\n",
    "plt.xlabel('S&P500')\n",
    "plt.ylabel('GE')\n",
    "plt.title('Relación entre S&P500 y GE')\n",
    "plt.show();"
   ]
  },
  {
   "cell_type": "code",
   "execution_count": null,
   "id": "3f97b2af-fa8b-4ef0-a5a4-53cc3768e461",
   "metadata": {},
   "outputs": [],
   "source": []
  },
  {
   "cell_type": "code",
   "execution_count": null,
   "id": "8067eb26-b4a2-4c02-a092-a6b7a8c3469e",
   "metadata": {},
   "outputs": [],
   "source": []
  }
 ],
 "metadata": {
  "kernelspec": {
   "display_name": "Python 3 (ipykernel)",
   "language": "python",
   "name": "python3"
  },
  "language_info": {
   "codemirror_mode": {
    "name": "ipython",
    "version": 3
   },
   "file_extension": ".py",
   "mimetype": "text/x-python",
   "name": "python",
   "nbconvert_exporter": "python",
   "pygments_lexer": "ipython3",
   "version": "3.9.7"
  }
 },
 "nbformat": 4,
 "nbformat_minor": 5
}
